{
 "cells": [
  {
   "cell_type": "code",
   "execution_count": 78,
   "metadata": {},
   "outputs": [],
   "source": [
    "import pandas as pd\n",
    "import numpy as np\n",
    "import matplotlib.pyplot as plt\n",
    "import seaborn as sns\n",
    "import os"
   ]
  },
  {
   "cell_type": "code",
   "execution_count": 79,
   "metadata": {},
   "outputs": [],
   "source": [
    "humans = pd.read_csv(\"data/humans.csv\")\n",
    "machines = pd.read_csv(\"data/machines.csv\")\n",
    "df = pd.concat([humans,machines])\n",
    "df.drop(columns=[\"profundidade_max\",\"profundidade_media\"],inplace=True)\n",
    "variable_mapping = {\n",
    "    'lexical_density': 'LD',\n",
    "    'lexical_sophistication': 'LS',\n",
    "    'ttr': 'TTR',\n",
    "    'd-measure': 'D',\n",
    "    'token_quantity': 'token_count'\n",
    "}\n",
    "df.rename(columns=variable_mapping, inplace=True)"
   ]
  },
  {
   "cell_type": "code",
   "execution_count": 80,
   "metadata": {},
   "outputs": [
    {
     "data": {
      "text/plain": [
       "61"
      ]
     },
     "execution_count": 80,
     "metadata": {},
     "output_type": "execute_result"
    }
   ],
   "source": [
    "len(humans)"
   ]
  },
  {
   "cell_type": "code",
   "execution_count": 81,
   "metadata": {},
   "outputs": [
    {
     "data": {
      "text/plain": [
       "0              False\n",
       "1              False\n",
       "2              False\n",
       "3              False\n",
       "4              False\n",
       "           ...      \n",
       "295    gpt-3.5-turbo\n",
       "296    gpt-3.5-turbo\n",
       "297    gpt-3.5-turbo\n",
       "298    gpt-3.5-turbo\n",
       "299    gpt-3.5-turbo\n",
       "Name: type, Length: 361, dtype: object"
      ]
     },
     "execution_count": 81,
     "metadata": {},
     "output_type": "execute_result"
    }
   ],
   "source": [
    "df[\"type\"]"
   ]
  },
  {
   "cell_type": "code",
   "execution_count": 82,
   "metadata": {},
   "outputs": [
    {
     "data": {
      "text/plain": [
       "array([False, True, 'gpt-3.5-turbo', 'gpt-4'], dtype=object)"
      ]
     },
     "execution_count": 82,
     "metadata": {},
     "output_type": "execute_result"
    }
   ],
   "source": [
    "df[\"type\"].unique()"
   ]
  },
  {
   "cell_type": "code",
   "execution_count": 83,
   "metadata": {},
   "outputs": [],
   "source": [
    "mapp = {x:x for x in df[\"type\"].unique()}\n",
    "mapp[False] = \"not maximum grade\"\n",
    "mapp[True]  = \"maximum grade\""
   ]
  },
  {
   "cell_type": "code",
   "execution_count": 84,
   "metadata": {},
   "outputs": [],
   "source": [
    "df[\"type\"] = df[\"type\"].map(mapp)"
   ]
  },
  {
   "cell_type": "code",
   "execution_count": 85,
   "metadata": {},
   "outputs": [
    {
     "data": {
      "text/plain": [
       "array(['not maximum grade', 'maximum grade', 'gpt-3.5-turbo', 'gpt-4'],\n",
       "      dtype=object)"
      ]
     },
     "execution_count": 85,
     "metadata": {},
     "output_type": "execute_result"
    }
   ],
   "source": [
    "df[\"type\"].unique()"
   ]
  },
  {
   "cell_type": "code",
   "execution_count": 86,
   "metadata": {},
   "outputs": [],
   "source": [
    "mapp = {s:\"LLM\" for s in  df[\"type\"].unique()}\n",
    "mapp[\"not maximum grade\"] = \"human\"\n",
    "mapp[\"maximum grade\"] = \"human\"\n",
    "df[\"model\"] = df[\"type\"].map(mapp)"
   ]
  },
  {
   "cell_type": "code",
   "execution_count": 87,
   "metadata": {},
   "outputs": [
    {
     "data": {
      "text/html": [
       "<div>\n",
       "<style scoped>\n",
       "    .dataframe tbody tr th:only-of-type {\n",
       "        vertical-align: middle;\n",
       "    }\n",
       "\n",
       "    .dataframe tbody tr th {\n",
       "        vertical-align: top;\n",
       "    }\n",
       "\n",
       "    .dataframe thead th {\n",
       "        text-align: right;\n",
       "    }\n",
       "</style>\n",
       "<table border=\"1\" class=\"dataframe\">\n",
       "  <thead>\n",
       "    <tr style=\"text-align: right;\">\n",
       "      <th></th>\n",
       "      <th>MLC</th>\n",
       "      <th>MLS</th>\n",
       "      <th>MLT</th>\n",
       "      <th>DCC</th>\n",
       "      <th>DCT</th>\n",
       "      <th>CPC</th>\n",
       "      <th>CPT</th>\n",
       "      <th>TS</th>\n",
       "      <th>LD</th>\n",
       "      <th>LS</th>\n",
       "      <th>TTR</th>\n",
       "      <th>D</th>\n",
       "      <th>token_count</th>\n",
       "      <th>text</th>\n",
       "      <th>type</th>\n",
       "      <th>model</th>\n",
       "    </tr>\n",
       "  </thead>\n",
       "  <tbody>\n",
       "    <tr>\n",
       "      <th>131</th>\n",
       "      <td>19.655172</td>\n",
       "      <td>35.625000</td>\n",
       "      <td>43.846154</td>\n",
       "      <td>0.620690</td>\n",
       "      <td>1.384615</td>\n",
       "      <td>1.793103</td>\n",
       "      <td>4.000000</td>\n",
       "      <td>0.812500</td>\n",
       "      <td>0.428070</td>\n",
       "      <td>0.954545</td>\n",
       "      <td>0.555340</td>\n",
       "      <td>178.664057</td>\n",
       "      <td>570</td>\n",
       "      <td>A existência de comunidades e povos tradiciona...</td>\n",
       "      <td>gpt-4</td>\n",
       "      <td>LLM</td>\n",
       "    </tr>\n",
       "    <tr>\n",
       "      <th>247</th>\n",
       "      <td>18.576923</td>\n",
       "      <td>34.500000</td>\n",
       "      <td>96.600000</td>\n",
       "      <td>0.692308</td>\n",
       "      <td>3.600000</td>\n",
       "      <td>2.500000</td>\n",
       "      <td>13.000000</td>\n",
       "      <td>0.357143</td>\n",
       "      <td>0.391304</td>\n",
       "      <td>0.969697</td>\n",
       "      <td>0.472036</td>\n",
       "      <td>121.281007</td>\n",
       "      <td>483</td>\n",
       "      <td>No Brasil, a questão da valorização de comunid...</td>\n",
       "      <td>gpt-3.5-turbo</td>\n",
       "      <td>LLM</td>\n",
       "    </tr>\n",
       "    <tr>\n",
       "      <th>248</th>\n",
       "      <td>22.791667</td>\n",
       "      <td>42.076923</td>\n",
       "      <td>78.142857</td>\n",
       "      <td>0.750000</td>\n",
       "      <td>2.571429</td>\n",
       "      <td>2.875000</td>\n",
       "      <td>9.857143</td>\n",
       "      <td>0.538462</td>\n",
       "      <td>0.378428</td>\n",
       "      <td>0.967742</td>\n",
       "      <td>0.423459</td>\n",
       "      <td>103.161839</td>\n",
       "      <td>547</td>\n",
       "      <td>A valorização das comunidades e povos tradicio...</td>\n",
       "      <td>gpt-3.5-turbo</td>\n",
       "      <td>LLM</td>\n",
       "    </tr>\n",
       "    <tr>\n",
       "      <th>93</th>\n",
       "      <td>23.565217</td>\n",
       "      <td>41.692308</td>\n",
       "      <td>108.400000</td>\n",
       "      <td>0.608696</td>\n",
       "      <td>2.800000</td>\n",
       "      <td>2.956522</td>\n",
       "      <td>13.600000</td>\n",
       "      <td>0.384615</td>\n",
       "      <td>0.385609</td>\n",
       "      <td>0.941176</td>\n",
       "      <td>0.452000</td>\n",
       "      <td>103.608404</td>\n",
       "      <td>542</td>\n",
       "      <td>A valorização de comunidades e povos tradicion...</td>\n",
       "      <td>gpt-3.5-turbo</td>\n",
       "      <td>LLM</td>\n",
       "    </tr>\n",
       "    <tr>\n",
       "      <th>23</th>\n",
       "      <td>22.954545</td>\n",
       "      <td>36.071429</td>\n",
       "      <td>84.166667</td>\n",
       "      <td>0.590909</td>\n",
       "      <td>2.166667</td>\n",
       "      <td>3.545455</td>\n",
       "      <td>13.000000</td>\n",
       "      <td>0.428571</td>\n",
       "      <td>0.390099</td>\n",
       "      <td>0.935484</td>\n",
       "      <td>0.463362</td>\n",
       "      <td>110.574616</td>\n",
       "      <td>505</td>\n",
       "      <td>A valorização de comunidades e povos tradicion...</td>\n",
       "      <td>gpt-3.5-turbo</td>\n",
       "      <td>LLM</td>\n",
       "    </tr>\n",
       "  </tbody>\n",
       "</table>\n",
       "</div>"
      ],
      "text/plain": [
       "           MLC        MLS         MLT       DCC       DCT       CPC  \\\n",
       "131  19.655172  35.625000   43.846154  0.620690  1.384615  1.793103   \n",
       "247  18.576923  34.500000   96.600000  0.692308  3.600000  2.500000   \n",
       "248  22.791667  42.076923   78.142857  0.750000  2.571429  2.875000   \n",
       "93   23.565217  41.692308  108.400000  0.608696  2.800000  2.956522   \n",
       "23   22.954545  36.071429   84.166667  0.590909  2.166667  3.545455   \n",
       "\n",
       "           CPT        TS        LD        LS       TTR           D  \\\n",
       "131   4.000000  0.812500  0.428070  0.954545  0.555340  178.664057   \n",
       "247  13.000000  0.357143  0.391304  0.969697  0.472036  121.281007   \n",
       "248   9.857143  0.538462  0.378428  0.967742  0.423459  103.161839   \n",
       "93   13.600000  0.384615  0.385609  0.941176  0.452000  103.608404   \n",
       "23   13.000000  0.428571  0.390099  0.935484  0.463362  110.574616   \n",
       "\n",
       "     token_count                                               text  \\\n",
       "131          570  A existência de comunidades e povos tradiciona...   \n",
       "247          483  No Brasil, a questão da valorização de comunid...   \n",
       "248          547  A valorização das comunidades e povos tradicio...   \n",
       "93           542  A valorização de comunidades e povos tradicion...   \n",
       "23           505  A valorização de comunidades e povos tradicion...   \n",
       "\n",
       "              type model  \n",
       "131          gpt-4   LLM  \n",
       "247  gpt-3.5-turbo   LLM  \n",
       "248  gpt-3.5-turbo   LLM  \n",
       "93   gpt-3.5-turbo   LLM  \n",
       "23   gpt-3.5-turbo   LLM  "
      ]
     },
     "execution_count": 87,
     "metadata": {},
     "output_type": "execute_result"
    }
   ],
   "source": [
    "df.sample(11).head()"
   ]
  },
  {
   "cell_type": "code",
   "execution_count": 88,
   "metadata": {},
   "outputs": [
    {
     "data": {
      "text/html": [
       "<div>\n",
       "<style scoped>\n",
       "    .dataframe tbody tr th:only-of-type {\n",
       "        vertical-align: middle;\n",
       "    }\n",
       "\n",
       "    .dataframe tbody tr th {\n",
       "        vertical-align: top;\n",
       "    }\n",
       "\n",
       "    .dataframe thead tr th {\n",
       "        text-align: left;\n",
       "    }\n",
       "\n",
       "    .dataframe thead tr:last-of-type th {\n",
       "        text-align: right;\n",
       "    }\n",
       "</style>\n",
       "<table border=\"1\" class=\"dataframe\">\n",
       "  <thead>\n",
       "    <tr>\n",
       "      <th></th>\n",
       "      <th colspan=\"2\" halign=\"left\">MLC</th>\n",
       "      <th colspan=\"2\" halign=\"left\">MLS</th>\n",
       "      <th colspan=\"2\" halign=\"left\">MLT</th>\n",
       "      <th colspan=\"2\" halign=\"left\">DCC</th>\n",
       "      <th colspan=\"2\" halign=\"left\">DCT</th>\n",
       "      <th>...</th>\n",
       "      <th colspan=\"2\" halign=\"left\">LD</th>\n",
       "      <th colspan=\"2\" halign=\"left\">LS</th>\n",
       "      <th colspan=\"2\" halign=\"left\">TTR</th>\n",
       "      <th colspan=\"2\" halign=\"left\">D</th>\n",
       "      <th colspan=\"2\" halign=\"left\">token_count</th>\n",
       "    </tr>\n",
       "    <tr>\n",
       "      <th></th>\n",
       "      <th>mean</th>\n",
       "      <th>std</th>\n",
       "      <th>mean</th>\n",
       "      <th>std</th>\n",
       "      <th>mean</th>\n",
       "      <th>std</th>\n",
       "      <th>mean</th>\n",
       "      <th>std</th>\n",
       "      <th>mean</th>\n",
       "      <th>std</th>\n",
       "      <th>...</th>\n",
       "      <th>mean</th>\n",
       "      <th>std</th>\n",
       "      <th>mean</th>\n",
       "      <th>std</th>\n",
       "      <th>mean</th>\n",
       "      <th>std</th>\n",
       "      <th>mean</th>\n",
       "      <th>std</th>\n",
       "      <th>mean</th>\n",
       "      <th>std</th>\n",
       "    </tr>\n",
       "    <tr>\n",
       "      <th>type</th>\n",
       "      <th></th>\n",
       "      <th></th>\n",
       "      <th></th>\n",
       "      <th></th>\n",
       "      <th></th>\n",
       "      <th></th>\n",
       "      <th></th>\n",
       "      <th></th>\n",
       "      <th></th>\n",
       "      <th></th>\n",
       "      <th></th>\n",
       "      <th></th>\n",
       "      <th></th>\n",
       "      <th></th>\n",
       "      <th></th>\n",
       "      <th></th>\n",
       "      <th></th>\n",
       "      <th></th>\n",
       "      <th></th>\n",
       "      <th></th>\n",
       "      <th></th>\n",
       "    </tr>\n",
       "  </thead>\n",
       "  <tbody>\n",
       "    <tr>\n",
       "      <th>gpt-3.5-turbo</th>\n",
       "      <td>20.2</td>\n",
       "      <td>3.5</td>\n",
       "      <td>38.5</td>\n",
       "      <td>3.7</td>\n",
       "      <td>93.7</td>\n",
       "      <td>38.2</td>\n",
       "      <td>0.7</td>\n",
       "      <td>0.1</td>\n",
       "      <td>3.3</td>\n",
       "      <td>1.6</td>\n",
       "      <td>...</td>\n",
       "      <td>0.4</td>\n",
       "      <td>0.0</td>\n",
       "      <td>0.9</td>\n",
       "      <td>0.0</td>\n",
       "      <td>0.5</td>\n",
       "      <td>0.0</td>\n",
       "      <td>111.1</td>\n",
       "      <td>11.4</td>\n",
       "      <td>513.9</td>\n",
       "      <td>45.1</td>\n",
       "    </tr>\n",
       "    <tr>\n",
       "      <th>gpt-4</th>\n",
       "      <td>19.5</td>\n",
       "      <td>3.1</td>\n",
       "      <td>35.1</td>\n",
       "      <td>5.3</td>\n",
       "      <td>54.8</td>\n",
       "      <td>11.9</td>\n",
       "      <td>0.7</td>\n",
       "      <td>0.1</td>\n",
       "      <td>1.9</td>\n",
       "      <td>0.5</td>\n",
       "      <td>...</td>\n",
       "      <td>0.4</td>\n",
       "      <td>0.0</td>\n",
       "      <td>0.9</td>\n",
       "      <td>0.0</td>\n",
       "      <td>0.5</td>\n",
       "      <td>0.0</td>\n",
       "      <td>132.8</td>\n",
       "      <td>18.8</td>\n",
       "      <td>548.1</td>\n",
       "      <td>68.3</td>\n",
       "    </tr>\n",
       "    <tr>\n",
       "      <th>maximum grade</th>\n",
       "      <td>19.7</td>\n",
       "      <td>3.9</td>\n",
       "      <td>43.4</td>\n",
       "      <td>7.2</td>\n",
       "      <td>59.5</td>\n",
       "      <td>13.9</td>\n",
       "      <td>0.7</td>\n",
       "      <td>0.1</td>\n",
       "      <td>2.2</td>\n",
       "      <td>0.8</td>\n",
       "      <td>...</td>\n",
       "      <td>0.4</td>\n",
       "      <td>0.0</td>\n",
       "      <td>0.9</td>\n",
       "      <td>0.0</td>\n",
       "      <td>0.5</td>\n",
       "      <td>0.0</td>\n",
       "      <td>113.5</td>\n",
       "      <td>11.5</td>\n",
       "      <td>650.0</td>\n",
       "      <td>80.5</td>\n",
       "    </tr>\n",
       "    <tr>\n",
       "      <th>not maximum grade</th>\n",
       "      <td>16.7</td>\n",
       "      <td>4.8</td>\n",
       "      <td>37.4</td>\n",
       "      <td>10.4</td>\n",
       "      <td>58.9</td>\n",
       "      <td>23.5</td>\n",
       "      <td>0.6</td>\n",
       "      <td>0.1</td>\n",
       "      <td>2.4</td>\n",
       "      <td>1.5</td>\n",
       "      <td>...</td>\n",
       "      <td>0.4</td>\n",
       "      <td>0.0</td>\n",
       "      <td>0.9</td>\n",
       "      <td>0.0</td>\n",
       "      <td>0.5</td>\n",
       "      <td>0.1</td>\n",
       "      <td>136.2</td>\n",
       "      <td>26.7</td>\n",
       "      <td>412.8</td>\n",
       "      <td>120.7</td>\n",
       "    </tr>\n",
       "  </tbody>\n",
       "</table>\n",
       "<p>4 rows × 26 columns</p>\n",
       "</div>"
      ],
      "text/plain": [
       "                    MLC        MLS         MLT        DCC       DCT       ...  \\\n",
       "                   mean  std  mean   std  mean   std mean  std mean  std  ...   \n",
       "type                                                                      ...   \n",
       "gpt-3.5-turbo      20.2  3.5  38.5   3.7  93.7  38.2  0.7  0.1  3.3  1.6  ...   \n",
       "gpt-4              19.5  3.1  35.1   5.3  54.8  11.9  0.7  0.1  1.9  0.5  ...   \n",
       "maximum grade      19.7  3.9  43.4   7.2  59.5  13.9  0.7  0.1  2.2  0.8  ...   \n",
       "not maximum grade  16.7  4.8  37.4  10.4  58.9  23.5  0.6  0.1  2.4  1.5  ...   \n",
       "\n",
       "                    LD        LS       TTR           D       token_count  \\\n",
       "                  mean  std mean  std mean  std   mean   std        mean   \n",
       "type                                                                       \n",
       "gpt-3.5-turbo      0.4  0.0  0.9  0.0  0.5  0.0  111.1  11.4       513.9   \n",
       "gpt-4              0.4  0.0  0.9  0.0  0.5  0.0  132.8  18.8       548.1   \n",
       "maximum grade      0.4  0.0  0.9  0.0  0.5  0.0  113.5  11.5       650.0   \n",
       "not maximum grade  0.4  0.0  0.9  0.0  0.5  0.1  136.2  26.7       412.8   \n",
       "\n",
       "                          \n",
       "                     std  \n",
       "type                      \n",
       "gpt-3.5-turbo       45.1  \n",
       "gpt-4               68.3  \n",
       "maximum grade       80.5  \n",
       "not maximum grade  120.7  \n",
       "\n",
       "[4 rows x 26 columns]"
      ]
     },
     "execution_count": 88,
     "metadata": {},
     "output_type": "execute_result"
    }
   ],
   "source": [
    "numeric_columns = df.select_dtypes(include='number').columns\n",
    "df.groupby(\"type\")[numeric_columns].agg([\"mean\", \"std\"]).round(1)"
   ]
  },
  {
   "cell_type": "code",
   "execution_count": 89,
   "metadata": {},
   "outputs": [],
   "source": [
    "# sns.pairplot(df,hue=\"model\",diag_kind = \"kde\")"
   ]
  },
  {
   "cell_type": "code",
   "execution_count": 90,
   "metadata": {},
   "outputs": [],
   "source": [
    "# sns.pairplot(df,hue=\"type\")"
   ]
  },
  {
   "cell_type": "code",
   "execution_count": 91,
   "metadata": {},
   "outputs": [],
   "source": [
    "mapp = {s:\"LLM\" for s in  df[\"type\"].unique()}\n",
    "mapp[\"not maximum grade\"] = \"human\"\n",
    "mapp[\"maximum grade\"] = \"human\"\n",
    "df[\"model\"] = df[\"type\"].map(mapp)"
   ]
  },
  {
   "cell_type": "code",
   "execution_count": 92,
   "metadata": {},
   "outputs": [
    {
     "data": {
      "text/plain": [
       "array(['not maximum grade', 'maximum grade', 'gpt-3.5-turbo', 'gpt-4'],\n",
       "      dtype=object)"
      ]
     },
     "execution_count": 92,
     "metadata": {},
     "output_type": "execute_result"
    }
   ],
   "source": [
    "df[\"type\"].unique()"
   ]
  },
  {
   "cell_type": "code",
   "execution_count": 114,
   "metadata": {},
   "outputs": [],
   "source": [
    "from scipy.stats import ttest_ind\n",
    "from scipy.stats import anderson\n",
    "\n",
    "\n",
    "grouped_data = df.groupby('model')\n",
    "\n",
    "group1 = grouped_data.get_group(\"human\")\n",
    "group2 = grouped_data.get_group(\"LLM\")\n",
    "\n",
    "ttest_results = {\n",
    "    'Feature': [],\n",
    "    'T-Statistic': [],\n",
    "    'P-Value': [],\n",
    "    'Significant': [],\n",
    "    'Normality': []\n",
    "}\n",
    "for column in df.select_dtypes(include='number').columns:\n",
    "    # Extract the data for each group for the current column\n",
    "    data1 = group1[column]\n",
    "    data2 = group2[column].sample(30)\n",
    "    \n",
    "    # Perform the t-test\n",
    "    t_stat, p_value = ttest_ind(data1, data2)\n",
    "    \n",
    "    # Determine if the result is significant (p-value < 0.05)\n",
    "    significant = p_value < 0.05\n",
    "\n",
    "    normal = anderson(data1, 'norm').statistic < 0.05\n",
    "    \n",
    "    # Store the results in the dictionary\n",
    "    ttest_results['Feature'].append(column)\n",
    "    ttest_results['T-Statistic'].append(t_stat)\n",
    "    ttest_results['P-Value'].append(p_value)\n",
    "    ttest_results['Significant'].append(significant)\n",
    "    ttest_results['Normality'].append(normal)"
   ]
  },
  {
   "cell_type": "code",
   "execution_count": 115,
   "metadata": {},
   "outputs": [
    {
     "data": {
      "text/html": [
       "<div>\n",
       "<style scoped>\n",
       "    .dataframe tbody tr th:only-of-type {\n",
       "        vertical-align: middle;\n",
       "    }\n",
       "\n",
       "    .dataframe tbody tr th {\n",
       "        vertical-align: top;\n",
       "    }\n",
       "\n",
       "    .dataframe thead th {\n",
       "        text-align: right;\n",
       "    }\n",
       "</style>\n",
       "<table border=\"1\" class=\"dataframe\">\n",
       "  <thead>\n",
       "    <tr style=\"text-align: right;\">\n",
       "      <th></th>\n",
       "      <th>Feature</th>\n",
       "      <th>T-Statistic</th>\n",
       "      <th>P-Value</th>\n",
       "      <th>Significant</th>\n",
       "      <th>Normality</th>\n",
       "    </tr>\n",
       "  </thead>\n",
       "  <tbody>\n",
       "    <tr>\n",
       "      <th>0</th>\n",
       "      <td>MLC</td>\n",
       "      <td>-1.979830</td>\n",
       "      <td>5.081226e-02</td>\n",
       "      <td>False</td>\n",
       "      <td>False</td>\n",
       "    </tr>\n",
       "    <tr>\n",
       "      <th>1</th>\n",
       "      <td>MLS</td>\n",
       "      <td>1.259151</td>\n",
       "      <td>2.112681e-01</td>\n",
       "      <td>False</td>\n",
       "      <td>False</td>\n",
       "    </tr>\n",
       "    <tr>\n",
       "      <th>3</th>\n",
       "      <td>DCC</td>\n",
       "      <td>-0.453556</td>\n",
       "      <td>6.512526e-01</td>\n",
       "      <td>False</td>\n",
       "      <td>False</td>\n",
       "    </tr>\n",
       "    <tr>\n",
       "      <th>8</th>\n",
       "      <td>LD</td>\n",
       "      <td>-0.611625</td>\n",
       "      <td>5.423452e-01</td>\n",
       "      <td>False</td>\n",
       "      <td>False</td>\n",
       "    </tr>\n",
       "    <tr>\n",
       "      <th>9</th>\n",
       "      <td>LS</td>\n",
       "      <td>-0.998783</td>\n",
       "      <td>3.206074e-01</td>\n",
       "      <td>False</td>\n",
       "      <td>False</td>\n",
       "    </tr>\n",
       "    <tr>\n",
       "      <th>11</th>\n",
       "      <td>D</td>\n",
       "      <td>1.015141</td>\n",
       "      <td>3.127906e-01</td>\n",
       "      <td>False</td>\n",
       "      <td>False</td>\n",
       "    </tr>\n",
       "    <tr>\n",
       "      <th>12</th>\n",
       "      <td>token_count</td>\n",
       "      <td>0.103989</td>\n",
       "      <td>9.174122e-01</td>\n",
       "      <td>False</td>\n",
       "      <td>False</td>\n",
       "    </tr>\n",
       "    <tr>\n",
       "      <th>2</th>\n",
       "      <td>MLT</td>\n",
       "      <td>-2.970636</td>\n",
       "      <td>3.820243e-03</td>\n",
       "      <td>True</td>\n",
       "      <td>False</td>\n",
       "    </tr>\n",
       "    <tr>\n",
       "      <th>4</th>\n",
       "      <td>DCT</td>\n",
       "      <td>-2.357958</td>\n",
       "      <td>2.056663e-02</td>\n",
       "      <td>True</td>\n",
       "      <td>False</td>\n",
       "    </tr>\n",
       "    <tr>\n",
       "      <th>5</th>\n",
       "      <td>CPC</td>\n",
       "      <td>-7.748446</td>\n",
       "      <td>1.421443e-11</td>\n",
       "      <td>True</td>\n",
       "      <td>False</td>\n",
       "    </tr>\n",
       "    <tr>\n",
       "      <th>6</th>\n",
       "      <td>CPT</td>\n",
       "      <td>-6.458237</td>\n",
       "      <td>5.453724e-09</td>\n",
       "      <td>True</td>\n",
       "      <td>False</td>\n",
       "    </tr>\n",
       "    <tr>\n",
       "      <th>7</th>\n",
       "      <td>TS</td>\n",
       "      <td>5.599492</td>\n",
       "      <td>2.359262e-07</td>\n",
       "      <td>True</td>\n",
       "      <td>False</td>\n",
       "    </tr>\n",
       "    <tr>\n",
       "      <th>10</th>\n",
       "      <td>TTR</td>\n",
       "      <td>3.377202</td>\n",
       "      <td>1.087605e-03</td>\n",
       "      <td>True</td>\n",
       "      <td>False</td>\n",
       "    </tr>\n",
       "  </tbody>\n",
       "</table>\n",
       "</div>"
      ],
      "text/plain": [
       "        Feature  T-Statistic       P-Value  Significant  Normality\n",
       "0           MLC    -1.979830  5.081226e-02        False      False\n",
       "1           MLS     1.259151  2.112681e-01        False      False\n",
       "3           DCC    -0.453556  6.512526e-01        False      False\n",
       "8            LD    -0.611625  5.423452e-01        False      False\n",
       "9            LS    -0.998783  3.206074e-01        False      False\n",
       "11            D     1.015141  3.127906e-01        False      False\n",
       "12  token_count     0.103989  9.174122e-01        False      False\n",
       "2           MLT    -2.970636  3.820243e-03         True      False\n",
       "4           DCT    -2.357958  2.056663e-02         True      False\n",
       "5           CPC    -7.748446  1.421443e-11         True      False\n",
       "6           CPT    -6.458237  5.453724e-09         True      False\n",
       "7            TS     5.599492  2.359262e-07         True      False\n",
       "10          TTR     3.377202  1.087605e-03         True      False"
      ]
     },
     "execution_count": 115,
     "metadata": {},
     "output_type": "execute_result"
    }
   ],
   "source": [
    "results_df = pd.DataFrame(ttest_results)\n",
    "results_df.sort_values(by = 'Significant',inplace=True)\n",
    "results_df"
   ]
  },
  {
   "cell_type": "code",
   "execution_count": 116,
   "metadata": {},
   "outputs": [
    {
     "data": {
      "text/html": [
       "<div>\n",
       "<style scoped>\n",
       "    .dataframe tbody tr th:only-of-type {\n",
       "        vertical-align: middle;\n",
       "    }\n",
       "\n",
       "    .dataframe tbody tr th {\n",
       "        vertical-align: top;\n",
       "    }\n",
       "\n",
       "    .dataframe thead th {\n",
       "        text-align: right;\n",
       "    }\n",
       "</style>\n",
       "<table border=\"1\" class=\"dataframe\">\n",
       "  <thead>\n",
       "    <tr style=\"text-align: right;\">\n",
       "      <th></th>\n",
       "      <th>Feature</th>\n",
       "      <th>T-Statistic</th>\n",
       "      <th>P-Value</th>\n",
       "      <th>Significant</th>\n",
       "      <th>Normality</th>\n",
       "    </tr>\n",
       "  </thead>\n",
       "  <tbody>\n",
       "    <tr>\n",
       "      <th>2</th>\n",
       "      <td>MLT</td>\n",
       "      <td>-2.970636</td>\n",
       "      <td>3.820243e-03</td>\n",
       "      <td>True</td>\n",
       "      <td>False</td>\n",
       "    </tr>\n",
       "    <tr>\n",
       "      <th>4</th>\n",
       "      <td>DCT</td>\n",
       "      <td>-2.357958</td>\n",
       "      <td>2.056663e-02</td>\n",
       "      <td>True</td>\n",
       "      <td>False</td>\n",
       "    </tr>\n",
       "    <tr>\n",
       "      <th>5</th>\n",
       "      <td>CPC</td>\n",
       "      <td>-7.748446</td>\n",
       "      <td>1.421443e-11</td>\n",
       "      <td>True</td>\n",
       "      <td>False</td>\n",
       "    </tr>\n",
       "    <tr>\n",
       "      <th>6</th>\n",
       "      <td>CPT</td>\n",
       "      <td>-6.458237</td>\n",
       "      <td>5.453724e-09</td>\n",
       "      <td>True</td>\n",
       "      <td>False</td>\n",
       "    </tr>\n",
       "    <tr>\n",
       "      <th>7</th>\n",
       "      <td>TS</td>\n",
       "      <td>5.599492</td>\n",
       "      <td>2.359262e-07</td>\n",
       "      <td>True</td>\n",
       "      <td>False</td>\n",
       "    </tr>\n",
       "    <tr>\n",
       "      <th>10</th>\n",
       "      <td>TTR</td>\n",
       "      <td>3.377202</td>\n",
       "      <td>1.087605e-03</td>\n",
       "      <td>True</td>\n",
       "      <td>False</td>\n",
       "    </tr>\n",
       "  </tbody>\n",
       "</table>\n",
       "</div>"
      ],
      "text/plain": [
       "   Feature  T-Statistic       P-Value  Significant  Normality\n",
       "2      MLT    -2.970636  3.820243e-03         True      False\n",
       "4      DCT    -2.357958  2.056663e-02         True      False\n",
       "5      CPC    -7.748446  1.421443e-11         True      False\n",
       "6      CPT    -6.458237  5.453724e-09         True      False\n",
       "7       TS     5.599492  2.359262e-07         True      False\n",
       "10     TTR     3.377202  1.087605e-03         True      False"
      ]
     },
     "execution_count": 116,
     "metadata": {},
     "output_type": "execute_result"
    }
   ],
   "source": [
    "significant_ones = results_df[results_df[\"Significant\"]== True]\n",
    "significant_ones"
   ]
  },
  {
   "cell_type": "code",
   "execution_count": 117,
   "metadata": {},
   "outputs": [],
   "source": [
    "# for feature in significant_ones[\"Feature\"]: \n",
    "#     plt.figure(figsize=(10, 6))  # Set figure size\n",
    "#     ax = sns.displot(data=df, x=feature,hue=\"type\",kind=\"kde\",common_norm=False)\n",
    "#     plt.show()"
   ]
  },
  {
   "cell_type": "code",
   "execution_count": 118,
   "metadata": {},
   "outputs": [
    {
     "data": {
      "image/png": "[encoded data removed]",
      "text/plain": [
       "<Figure size 1200x600 with 1 Axes>"
      ]
     },
     "metadata": {},
     "output_type": "display_data"
    }
   ],
   "source": [
    "# Plotting\n",
    "z_scores = df[df.select_dtypes(include='number').columns].apply(lambda x: (x - x.mean()) / x.std())\n",
    "z_scores[\"model\"] = df[\"model\"]\n",
    "z_scores_melted  = z_scores.melt(id_vars=\"model\", var_name=\"variable\", value_name=\"z_score\")\n",
    "plt.figure(figsize=(12, 6))\n",
    "sns.barplot(data=z_scores_melted, x=\"variable\", y=\"z_score\", hue=\"model\", palette=\"coolwarm\",errorbar=\"ci\")\n",
    "# plt.xlabel(\"Variable\")\n",
    "plt.ylabel(\"Z-score\")\n",
    "# plt.title(\"Z-score of each variable for each model\")\n",
    "plt.xticks(rotation=45, ha='right')\n",
    "# plt.tight_layout()\n",
    "plt.show()\n"
   ]
  },
  {
   "cell_type": "code",
   "execution_count": 119,
   "metadata": {},
   "outputs": [],
   "source": [
    "df[\"class\"] = ((df[\"model\"] == \"LLM\") * df[\"type\"]) + ((df[\"model\"] != \"LLM\") * df[\"model\"]) "
   ]
  },
  {
   "cell_type": "code",
   "execution_count": 179,
   "metadata": {},
   "outputs": [
    {
     "data": {
      "image/png": "[encoded data removed]",
      "text/plain": [
       "<Figure size 1200x600 with 1 Axes>"
      ]
     },
     "metadata": {},
     "output_type": "display_data"
    }
   ],
   "source": [
    "# Plotting\n",
    "z_scores = df[significant_ones[\"Feature\"]].apply(lambda x: (x - x.mean()) / x.std())\n",
    "z_scores[\"class\"] = df[\"class\"]\n",
    "z_scores_melted  = z_scores.melt(id_vars=\"class\", var_name=\"variable\", value_name=\"z_score\")\n",
    "plt.figure(figsize=(12, 6))\n",
    "\n",
    "hue_order = [\"human\", \"gpt-4\", \"gpt-3.5-turbo\"]\n",
    "\n",
    "custom_palette = [\"#A0B4EB\", \"#BDCBF1\", \"#DBA38D\"]  # Example colors\n",
    "\n",
    "sns.barplot(data=z_scores_melted, x=\"variable\", y=\"z_score\", hue=\"class\", \n",
    "            palette=custom_palette,\n",
    "            hue_order=hue_order,\n",
    "            errorbar=\"ci\", capsize=.05,\n",
    "            width=0.7)\n",
    "plt.xlabel(\"\")\n",
    "plt.ylabel(\"Z-score\")\n",
    "plt.tight_layout()\n",
    "plt.show()\n"
   ]
  },
  {
   "cell_type": "code",
   "execution_count": 137,
   "metadata": {},
   "outputs": [
    {
     "data": {
      "text/plain": [
       "<Axes: xlabel='variable', ylabel='z_score'>"
      ]
     },
     "execution_count": 137,
     "metadata": {},
     "output_type": "execute_result"
    },
    {
     "data": {
      "image/png": "[encoded data removed]",
      "text/plain": [
       "<Figure size 640x480 with 1 Axes>"
      ]
     },
     "metadata": {},
     "output_type": "display_data"
    }
   ],
   "source": [
    "sns.boxplot(data=z_scores_melted, x=\"variable\", y=\"z_score\", hue=\"class\")\n"
   ]
  },
  {
   "cell_type": "code",
   "execution_count": 157,
   "metadata": {},
   "outputs": [
    {
     "data": {
      "image/png": "[encoded data removed]",
      "text/plain": [
       "<Figure size 1200x600 with 1 Axes>"
      ]
     },
     "metadata": {},
     "output_type": "display_data"
    }
   ],
   "source": [
    "# Plotting\n",
    "z_scores = df[df.select_dtypes(include='number').columns].apply(lambda x: (x - x.mean()) / x.std())\n",
    "z_scores[\"class\"] = df[\"class\"]\n",
    "z_scores_melted  = z_scores.melt(id_vars=\"class\", var_name=\"variable\", value_name=\"z_score\")\n",
    "plt.figure(figsize=(12, 6))\n",
    "sns.barplot(data=z_scores_melted, x=\"variable\", y=\"z_score\", hue=\"class\", palette=\"coolwarm\",errorbar=\"ci\")\n",
    "# plt.xlabel(\"Variable\")\n",
    "plt.ylabel(\"Z-score\")\n",
    "# plt.title(\"Z-score of each variable for each class\")\n",
    "plt.xticks(rotation=45, ha='right')\n",
    "# plt.tight_layout()\n",
    "plt.show()\n"
   ]
  }
 ],
 "metadata": {
  "kernelspec": {
   "display_name": "tps",
   "language": "python",
   "name": "python3"
  },
  "language_info": {
   "codemirror_mode": {
    "name": "ipython",
    "version": 3
   },
   "file_extension": ".py",
   "mimetype": "text/x-python",
   "name": "python",
   "nbconvert_exporter": "python",
   "pygments_lexer": "ipython3",
   "version": "3.8.10"
  }
 },
 "nbformat": 4,
 "nbformat_minor": 2
}
