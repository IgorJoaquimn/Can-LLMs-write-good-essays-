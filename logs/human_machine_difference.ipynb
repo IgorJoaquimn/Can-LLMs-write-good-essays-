{
 "cells": [
  {
   "cell_type": "code",
   "execution_count": 153,
   "metadata": {},
   "outputs": [],
   "source": [
    "import pandas as pd\n",
    "import numpy as np\n",
    "import matplotlib.pyplot as plt\n",
    "import seaborn as sns\n",
    "import os"
   ]
  },
  {
   "cell_type": "code",
   "execution_count": 154,
   "metadata": {},
   "outputs": [],
   "source": [
    "humans = pd.read_csv(\"data/humans.csv\")\n",
    "machines = pd.read_csv(\"data/machines.csv\")\n",
    "machines = machines.iloc[machines[\"text\"].drop_duplicates().index]\n",
    "df = pd.concat([humans,machines])\n",
    "df.drop(columns=[\"profundidade_max\",\"profundidade_media\"],inplace=True)\n",
    "variable_mapping = {\n",
    "    'lexical_density': 'LD',\n",
    "    'lexical_sophistication': 'LS',\n",
    "    'ttr': 'TTR',\n",
    "    'd-measure': 'D',\n",
    "    'token_quantity': 'token_count'\n",
    "}\n",
    "df.rename(columns=variable_mapping, inplace=True)"
   ]
  },
  {
   "cell_type": "code",
   "execution_count": 155,
   "metadata": {},
   "outputs": [
    {
     "data": {
      "text/plain": [
       "61"
      ]
     },
     "execution_count": 155,
     "metadata": {},
     "output_type": "execute_result"
    }
   ],
   "source": [
    "len(humans)"
   ]
  },
  {
   "cell_type": "code",
   "execution_count": 156,
   "metadata": {},
   "outputs": [
    {
     "data": {
      "text/plain": [
       "0         False\n",
       "1         False\n",
       "2         False\n",
       "3         False\n",
       "4         False\n",
       "         ...   \n",
       "295    maritalk\n",
       "296    maritalk\n",
       "297    maritalk\n",
       "298    maritalk\n",
       "299    maritalk\n",
       "Name: type, Length: 361, dtype: object"
      ]
     },
     "execution_count": 156,
     "metadata": {},
     "output_type": "execute_result"
    }
   ],
   "source": [
    "df[\"type\"]"
   ]
  },
  {
   "cell_type": "code",
   "execution_count": 157,
   "metadata": {},
   "outputs": [
    {
     "data": {
      "text/plain": [
       "array([False, True, 'gpt-3.5-turbo', 'gpt-4', 'maritalk'], dtype=object)"
      ]
     },
     "execution_count": 157,
     "metadata": {},
     "output_type": "execute_result"
    }
   ],
   "source": [
    "df[\"type\"].unique()"
   ]
  },
  {
   "cell_type": "code",
   "execution_count": 158,
   "metadata": {},
   "outputs": [],
   "source": [
    "mapp = {x:x for x in df[\"type\"].unique()}\n",
    "mapp[False] = \"not maximum grade\"\n",
    "mapp[True]  = \"maximum grade\""
   ]
  },
  {
   "cell_type": "code",
   "execution_count": 159,
   "metadata": {},
   "outputs": [],
   "source": [
    "df[\"type\"] = df[\"type\"].map(mapp)"
   ]
  },
  {
   "cell_type": "code",
   "execution_count": 160,
   "metadata": {},
   "outputs": [
    {
     "data": {
      "text/plain": [
       "array(['not maximum grade', 'maximum grade', 'gpt-3.5-turbo', 'gpt-4',\n",
       "       'maritalk'], dtype=object)"
      ]
     },
     "execution_count": 160,
     "metadata": {},
     "output_type": "execute_result"
    }
   ],
   "source": [
    "df[\"type\"].unique()"
   ]
  },
  {
   "cell_type": "code",
   "execution_count": 161,
   "metadata": {},
   "outputs": [],
   "source": [
    "mapp = {s:\"LLM\" for s in  df[\"type\"].unique()}\n",
    "mapp[\"not maximum grade\"] = \"human\"\n",
    "mapp[\"maximum grade\"] = \"human\"\n",
    "df[\"model\"] = df[\"type\"].map(mapp)"
   ]
  },
  {
   "cell_type": "code",
   "execution_count": 162,
   "metadata": {},
   "outputs": [
    {
     "data": {
      "text/html": [
       "<div>\n",
       "<style scoped>\n",
       "    .dataframe tbody tr th:only-of-type {\n",
       "        vertical-align: middle;\n",
       "    }\n",
       "\n",
       "    .dataframe tbody tr th {\n",
       "        vertical-align: top;\n",
       "    }\n",
       "\n",
       "    .dataframe thead th {\n",
       "        text-align: right;\n",
       "    }\n",
       "</style>\n",
       "<table border=\"1\" class=\"dataframe\">\n",
       "  <thead>\n",
       "    <tr style=\"text-align: right;\">\n",
       "      <th></th>\n",
       "      <th>MLC</th>\n",
       "      <th>MLS</th>\n",
       "      <th>MLT</th>\n",
       "      <th>DCC</th>\n",
       "      <th>DCT</th>\n",
       "      <th>CPC</th>\n",
       "      <th>CPT</th>\n",
       "      <th>TS</th>\n",
       "      <th>LD</th>\n",
       "      <th>LS</th>\n",
       "      <th>TTR</th>\n",
       "      <th>D</th>\n",
       "      <th>token_count</th>\n",
       "      <th>text</th>\n",
       "      <th>type</th>\n",
       "      <th>model</th>\n",
       "    </tr>\n",
       "  </thead>\n",
       "  <tbody>\n",
       "    <tr>\n",
       "      <th>4</th>\n",
       "      <td>16.136364</td>\n",
       "      <td>25.357143</td>\n",
       "      <td>35.50</td>\n",
       "      <td>0.454545</td>\n",
       "      <td>1.000</td>\n",
       "      <td>0.772727</td>\n",
       "      <td>1.700</td>\n",
       "      <td>0.714286</td>\n",
       "      <td>0.411268</td>\n",
       "      <td>0.843750</td>\n",
       "      <td>0.565079</td>\n",
       "      <td>151.416285</td>\n",
       "      <td>355</td>\n",
       "      <td>Desde o Brasil Colônia, com a chegada dos port...</td>\n",
       "      <td>not maximum grade</td>\n",
       "      <td>human</td>\n",
       "    </tr>\n",
       "    <tr>\n",
       "      <th>159</th>\n",
       "      <td>24.250000</td>\n",
       "      <td>34.235294</td>\n",
       "      <td>72.75</td>\n",
       "      <td>0.625000</td>\n",
       "      <td>1.875</td>\n",
       "      <td>3.541667</td>\n",
       "      <td>10.625</td>\n",
       "      <td>0.470588</td>\n",
       "      <td>0.393471</td>\n",
       "      <td>0.942857</td>\n",
       "      <td>0.403670</td>\n",
       "      <td>89.936678</td>\n",
       "      <td>582</td>\n",
       "      <td>Título: Desafios e Valorização das Comunidades...</td>\n",
       "      <td>gpt-3.5-turbo</td>\n",
       "      <td>LLM</td>\n",
       "    </tr>\n",
       "    <tr>\n",
       "      <th>227</th>\n",
       "      <td>14.206897</td>\n",
       "      <td>29.428571</td>\n",
       "      <td>82.40</td>\n",
       "      <td>0.655172</td>\n",
       "      <td>3.800</td>\n",
       "      <td>2.413793</td>\n",
       "      <td>14.000</td>\n",
       "      <td>0.357143</td>\n",
       "      <td>0.432039</td>\n",
       "      <td>0.975610</td>\n",
       "      <td>0.502604</td>\n",
       "      <td>123.824192</td>\n",
       "      <td>412</td>\n",
       "      <td>A valorização das comunidades e povos tradicio...</td>\n",
       "      <td>gpt-3.5-turbo</td>\n",
       "      <td>LLM</td>\n",
       "    </tr>\n",
       "    <tr>\n",
       "      <th>180</th>\n",
       "      <td>24.050000</td>\n",
       "      <td>30.062500</td>\n",
       "      <td>48.10</td>\n",
       "      <td>0.850000</td>\n",
       "      <td>1.700</td>\n",
       "      <td>2.900000</td>\n",
       "      <td>5.800</td>\n",
       "      <td>0.625000</td>\n",
       "      <td>0.419958</td>\n",
       "      <td>0.970588</td>\n",
       "      <td>0.518605</td>\n",
       "      <td>106.128642</td>\n",
       "      <td>481</td>\n",
       "      <td>TÍTULO: Valorização dos povos tradicionais: um...</td>\n",
       "      <td>gpt-4</td>\n",
       "      <td>LLM</td>\n",
       "    </tr>\n",
       "    <tr>\n",
       "      <th>260</th>\n",
       "      <td>19.718750</td>\n",
       "      <td>35.055556</td>\n",
       "      <td>63.10</td>\n",
       "      <td>0.656250</td>\n",
       "      <td>2.100</td>\n",
       "      <td>1.875000</td>\n",
       "      <td>6.000</td>\n",
       "      <td>0.555556</td>\n",
       "      <td>0.380349</td>\n",
       "      <td>0.860465</td>\n",
       "      <td>0.444444</td>\n",
       "      <td>116.646813</td>\n",
       "      <td>631</td>\n",
       "      <td>Título: Valorização das Comunidades Tradiciona...</td>\n",
       "      <td>gpt-4</td>\n",
       "      <td>LLM</td>\n",
       "    </tr>\n",
       "  </tbody>\n",
       "</table>\n",
       "</div>"
      ],
      "text/plain": [
       "           MLC        MLS    MLT       DCC    DCT       CPC     CPT        TS  \\\n",
       "4    16.136364  25.357143  35.50  0.454545  1.000  0.772727   1.700  0.714286   \n",
       "159  24.250000  34.235294  72.75  0.625000  1.875  3.541667  10.625  0.470588   \n",
       "227  14.206897  29.428571  82.40  0.655172  3.800  2.413793  14.000  0.357143   \n",
       "180  24.050000  30.062500  48.10  0.850000  1.700  2.900000   5.800  0.625000   \n",
       "260  19.718750  35.055556  63.10  0.656250  2.100  1.875000   6.000  0.555556   \n",
       "\n",
       "           LD        LS       TTR           D  token_count  \\\n",
       "4    0.411268  0.843750  0.565079  151.416285          355   \n",
       "159  0.393471  0.942857  0.403670   89.936678          582   \n",
       "227  0.432039  0.975610  0.502604  123.824192          412   \n",
       "180  0.419958  0.970588  0.518605  106.128642          481   \n",
       "260  0.380349  0.860465  0.444444  116.646813          631   \n",
       "\n",
       "                                                  text               type  \\\n",
       "4    Desde o Brasil Colônia, com a chegada dos port...  not maximum grade   \n",
       "159  Título: Desafios e Valorização das Comunidades...      gpt-3.5-turbo   \n",
       "227  A valorização das comunidades e povos tradicio...      gpt-3.5-turbo   \n",
       "180  TÍTULO: Valorização dos povos tradicionais: um...              gpt-4   \n",
       "260  Título: Valorização das Comunidades Tradiciona...              gpt-4   \n",
       "\n",
       "     model  \n",
       "4    human  \n",
       "159    LLM  \n",
       "227    LLM  \n",
       "180    LLM  \n",
       "260    LLM  "
      ]
     },
     "execution_count": 162,
     "metadata": {},
     "output_type": "execute_result"
    }
   ],
   "source": [
    "df.sample(11).head()"
   ]
  },
  {
   "cell_type": "code",
   "execution_count": 163,
   "metadata": {},
   "outputs": [
    {
     "data": {
      "text/html": [
       "<div>\n",
       "<style scoped>\n",
       "    .dataframe tbody tr th:only-of-type {\n",
       "        vertical-align: middle;\n",
       "    }\n",
       "\n",
       "    .dataframe tbody tr th {\n",
       "        vertical-align: top;\n",
       "    }\n",
       "\n",
       "    .dataframe thead tr th {\n",
       "        text-align: left;\n",
       "    }\n",
       "\n",
       "    .dataframe thead tr:last-of-type th {\n",
       "        text-align: right;\n",
       "    }\n",
       "</style>\n",
       "<table border=\"1\" class=\"dataframe\">\n",
       "  <thead>\n",
       "    <tr>\n",
       "      <th></th>\n",
       "      <th colspan=\"2\" halign=\"left\">MLC</th>\n",
       "      <th colspan=\"2\" halign=\"left\">MLS</th>\n",
       "      <th colspan=\"2\" halign=\"left\">MLT</th>\n",
       "      <th colspan=\"2\" halign=\"left\">DCC</th>\n",
       "      <th colspan=\"2\" halign=\"left\">DCT</th>\n",
       "      <th>...</th>\n",
       "      <th colspan=\"2\" halign=\"left\">LD</th>\n",
       "      <th colspan=\"2\" halign=\"left\">LS</th>\n",
       "      <th colspan=\"2\" halign=\"left\">TTR</th>\n",
       "      <th colspan=\"2\" halign=\"left\">D</th>\n",
       "      <th colspan=\"2\" halign=\"left\">token_count</th>\n",
       "    </tr>\n",
       "    <tr>\n",
       "      <th></th>\n",
       "      <th>mean</th>\n",
       "      <th>std</th>\n",
       "      <th>mean</th>\n",
       "      <th>std</th>\n",
       "      <th>mean</th>\n",
       "      <th>std</th>\n",
       "      <th>mean</th>\n",
       "      <th>std</th>\n",
       "      <th>mean</th>\n",
       "      <th>std</th>\n",
       "      <th>...</th>\n",
       "      <th>mean</th>\n",
       "      <th>std</th>\n",
       "      <th>mean</th>\n",
       "      <th>std</th>\n",
       "      <th>mean</th>\n",
       "      <th>std</th>\n",
       "      <th>mean</th>\n",
       "      <th>std</th>\n",
       "      <th>mean</th>\n",
       "      <th>std</th>\n",
       "    </tr>\n",
       "    <tr>\n",
       "      <th>type</th>\n",
       "      <th></th>\n",
       "      <th></th>\n",
       "      <th></th>\n",
       "      <th></th>\n",
       "      <th></th>\n",
       "      <th></th>\n",
       "      <th></th>\n",
       "      <th></th>\n",
       "      <th></th>\n",
       "      <th></th>\n",
       "      <th></th>\n",
       "      <th></th>\n",
       "      <th></th>\n",
       "      <th></th>\n",
       "      <th></th>\n",
       "      <th></th>\n",
       "      <th></th>\n",
       "      <th></th>\n",
       "      <th></th>\n",
       "      <th></th>\n",
       "      <th></th>\n",
       "    </tr>\n",
       "  </thead>\n",
       "  <tbody>\n",
       "    <tr>\n",
       "      <th>gpt-3.5-turbo</th>\n",
       "      <td>21.6</td>\n",
       "      <td>4.7</td>\n",
       "      <td>34.7</td>\n",
       "      <td>5.0</td>\n",
       "      <td>98.1</td>\n",
       "      <td>40.0</td>\n",
       "      <td>0.7</td>\n",
       "      <td>0.1</td>\n",
       "      <td>3.3</td>\n",
       "      <td>1.7</td>\n",
       "      <td>...</td>\n",
       "      <td>0.4</td>\n",
       "      <td>0.0</td>\n",
       "      <td>0.9</td>\n",
       "      <td>0.0</td>\n",
       "      <td>0.5</td>\n",
       "      <td>0.0</td>\n",
       "      <td>106.2</td>\n",
       "      <td>12.3</td>\n",
       "      <td>477.8</td>\n",
       "      <td>62.4</td>\n",
       "    </tr>\n",
       "    <tr>\n",
       "      <th>gpt-4</th>\n",
       "      <td>20.6</td>\n",
       "      <td>4.1</td>\n",
       "      <td>32.7</td>\n",
       "      <td>4.9</td>\n",
       "      <td>58.7</td>\n",
       "      <td>15.5</td>\n",
       "      <td>0.7</td>\n",
       "      <td>0.1</td>\n",
       "      <td>1.9</td>\n",
       "      <td>0.7</td>\n",
       "      <td>...</td>\n",
       "      <td>0.4</td>\n",
       "      <td>0.0</td>\n",
       "      <td>0.9</td>\n",
       "      <td>0.0</td>\n",
       "      <td>0.5</td>\n",
       "      <td>0.0</td>\n",
       "      <td>127.2</td>\n",
       "      <td>18.8</td>\n",
       "      <td>536.5</td>\n",
       "      <td>65.2</td>\n",
       "    </tr>\n",
       "    <tr>\n",
       "      <th>maritalk</th>\n",
       "      <td>23.4</td>\n",
       "      <td>5.5</td>\n",
       "      <td>30.5</td>\n",
       "      <td>6.3</td>\n",
       "      <td>76.0</td>\n",
       "      <td>29.7</td>\n",
       "      <td>0.7</td>\n",
       "      <td>0.1</td>\n",
       "      <td>2.4</td>\n",
       "      <td>1.0</td>\n",
       "      <td>...</td>\n",
       "      <td>0.4</td>\n",
       "      <td>0.0</td>\n",
       "      <td>0.9</td>\n",
       "      <td>0.1</td>\n",
       "      <td>0.5</td>\n",
       "      <td>0.0</td>\n",
       "      <td>114.7</td>\n",
       "      <td>14.6</td>\n",
       "      <td>382.1</td>\n",
       "      <td>16.4</td>\n",
       "    </tr>\n",
       "    <tr>\n",
       "      <th>maximum grade</th>\n",
       "      <td>19.7</td>\n",
       "      <td>3.9</td>\n",
       "      <td>43.4</td>\n",
       "      <td>7.2</td>\n",
       "      <td>59.5</td>\n",
       "      <td>13.9</td>\n",
       "      <td>0.7</td>\n",
       "      <td>0.1</td>\n",
       "      <td>2.2</td>\n",
       "      <td>0.8</td>\n",
       "      <td>...</td>\n",
       "      <td>0.4</td>\n",
       "      <td>0.0</td>\n",
       "      <td>0.9</td>\n",
       "      <td>0.0</td>\n",
       "      <td>0.5</td>\n",
       "      <td>0.0</td>\n",
       "      <td>113.5</td>\n",
       "      <td>11.5</td>\n",
       "      <td>650.0</td>\n",
       "      <td>80.5</td>\n",
       "    </tr>\n",
       "    <tr>\n",
       "      <th>not maximum grade</th>\n",
       "      <td>16.7</td>\n",
       "      <td>4.8</td>\n",
       "      <td>37.4</td>\n",
       "      <td>10.4</td>\n",
       "      <td>58.9</td>\n",
       "      <td>23.5</td>\n",
       "      <td>0.6</td>\n",
       "      <td>0.1</td>\n",
       "      <td>2.4</td>\n",
       "      <td>1.5</td>\n",
       "      <td>...</td>\n",
       "      <td>0.4</td>\n",
       "      <td>0.0</td>\n",
       "      <td>0.9</td>\n",
       "      <td>0.0</td>\n",
       "      <td>0.5</td>\n",
       "      <td>0.1</td>\n",
       "      <td>136.2</td>\n",
       "      <td>26.7</td>\n",
       "      <td>412.8</td>\n",
       "      <td>120.7</td>\n",
       "    </tr>\n",
       "  </tbody>\n",
       "</table>\n",
       "<p>5 rows × 26 columns</p>\n",
       "</div>"
      ],
      "text/plain": [
       "                    MLC        MLS         MLT        DCC       DCT       ...  \\\n",
       "                   mean  std  mean   std  mean   std mean  std mean  std  ...   \n",
       "type                                                                      ...   \n",
       "gpt-3.5-turbo      21.6  4.7  34.7   5.0  98.1  40.0  0.7  0.1  3.3  1.7  ...   \n",
       "gpt-4              20.6  4.1  32.7   4.9  58.7  15.5  0.7  0.1  1.9  0.7  ...   \n",
       "maritalk           23.4  5.5  30.5   6.3  76.0  29.7  0.7  0.1  2.4  1.0  ...   \n",
       "maximum grade      19.7  3.9  43.4   7.2  59.5  13.9  0.7  0.1  2.2  0.8  ...   \n",
       "not maximum grade  16.7  4.8  37.4  10.4  58.9  23.5  0.6  0.1  2.4  1.5  ...   \n",
       "\n",
       "                    LD        LS       TTR           D       token_count  \\\n",
       "                  mean  std mean  std mean  std   mean   std        mean   \n",
       "type                                                                       \n",
       "gpt-3.5-turbo      0.4  0.0  0.9  0.0  0.5  0.0  106.2  12.3       477.8   \n",
       "gpt-4              0.4  0.0  0.9  0.0  0.5  0.0  127.2  18.8       536.5   \n",
       "maritalk           0.4  0.0  0.9  0.1  0.5  0.0  114.7  14.6       382.1   \n",
       "maximum grade      0.4  0.0  0.9  0.0  0.5  0.0  113.5  11.5       650.0   \n",
       "not maximum grade  0.4  0.0  0.9  0.0  0.5  0.1  136.2  26.7       412.8   \n",
       "\n",
       "                          \n",
       "                     std  \n",
       "type                      \n",
       "gpt-3.5-turbo       62.4  \n",
       "gpt-4               65.2  \n",
       "maritalk            16.4  \n",
       "maximum grade       80.5  \n",
       "not maximum grade  120.7  \n",
       "\n",
       "[5 rows x 26 columns]"
      ]
     },
     "execution_count": 163,
     "metadata": {},
     "output_type": "execute_result"
    }
   ],
   "source": [
    "numeric_columns = df.select_dtypes(include='number').columns\n",
    "df.groupby(\"type\")[numeric_columns].agg([\"mean\", \"std\"]).round(1)"
   ]
  },
  {
   "cell_type": "code",
   "execution_count": 164,
   "metadata": {},
   "outputs": [],
   "source": [
    "# sns.pairplot(df,hue=\"model\",diag_kind = \"kde\")"
   ]
  },
  {
   "cell_type": "code",
   "execution_count": 165,
   "metadata": {},
   "outputs": [],
   "source": [
    "# sns.pairplot(df,hue=\"type\")"
   ]
  },
  {
   "cell_type": "code",
   "execution_count": 166,
   "metadata": {},
   "outputs": [],
   "source": [
    "mapp = {s:\"LLM\" for s in  df[\"type\"].unique()}\n",
    "mapp[\"not maximum grade\"] = \"human\"\n",
    "mapp[\"maximum grade\"] = \"human\"\n",
    "df[\"model\"] = df[\"type\"].map(mapp)"
   ]
  },
  {
   "cell_type": "code",
   "execution_count": 167,
   "metadata": {},
   "outputs": [],
   "source": [
    "df[\"class\"] = ((df[\"model\"] == \"LLM\") * df[\"type\"]) + ((df[\"model\"] != \"LLM\") * df[\"model\"]) "
   ]
  },
  {
   "cell_type": "code",
   "execution_count": 168,
   "metadata": {},
   "outputs": [],
   "source": [
    "from scipy.stats import ttest_ind\n",
    "\n",
    "grouped_data = df.groupby('class')\n",
    "\n",
    "group1 = grouped_data.get_group(\"human\")\n",
    "\n",
    "classes = df[\"class\"].unique()\n",
    "classes = [c for c in classes if c != \"human\"]\n",
    "\n",
    "ttest_results = {\n",
    "    'Feature': [],\n",
    "}\n",
    "\n",
    "for c in classes:\n",
    "    ttest_results[\"human vs \" + c] = []\n",
    "\n",
    "alpha = 0.05  # Significance level before Bonferroni correction\n",
    "\n",
    "for column in df.select_dtypes(include='number').columns:\n",
    "    # Extract the data for group1 for the current column\n",
    "    data1 = group1[column]\n",
    "    ttest_results['Feature'].append(column)\n",
    "\n",
    "    \n",
    "    for class_label in classes:\n",
    "        group2 = grouped_data.get_group(class_label)\n",
    "        data2 = group2[column].sample(30)\n",
    "        \n",
    "        # Perform the t-test\n",
    "        t_stat, p_value = ttest_ind(data1, data2)\n",
    "        \n",
    "        # Determine if the result is significant (p-value < 0.05)\n",
    "        significant = p_value < alpha\n",
    "        # Store the p-value for this class comparison\n",
    "        ttest_results[\"human vs \" + class_label].append(significant)\n",
    "        \n",
    "\n",
    "results_df = pd.DataFrame(ttest_results)"
   ]
  },
  {
   "cell_type": "code",
   "execution_count": 169,
   "metadata": {},
   "outputs": [],
   "source": [
    "lexical_features = [\"LD\",\"LS\",\"TTR\",\"D\"]"
   ]
  },
  {
   "cell_type": "code",
   "execution_count": 170,
   "metadata": {},
   "outputs": [],
   "source": [
    "cols =[\"human vs \" + c for c in classes]\n",
    "results_df[\"ALL\"] = results_df[cols].all(axis=1)"
   ]
  },
  {
   "cell_type": "code",
   "execution_count": 171,
   "metadata": {},
   "outputs": [
    {
     "data": {
      "text/plain": [
       "1    MLS\n",
       "5    CPC\n",
       "6    CPT\n",
       "7     TS\n",
       "Name: Feature, dtype: object"
      ]
     },
     "execution_count": 171,
     "metadata": {},
     "output_type": "execute_result"
    }
   ],
   "source": [
    "significant_ones = results_df[results_df[\"ALL\"]][\"Feature\"]\n",
    "significant_ones"
   ]
  },
  {
   "cell_type": "code",
   "execution_count": 172,
   "metadata": {},
   "outputs": [
    {
     "data": {
      "image/png": "[encoded data removed]",
      "text/plain": [
       "<Figure size 1200x600 with 1 Axes>"
      ]
     },
     "metadata": {},
     "output_type": "display_data"
    }
   ],
   "source": [
    "# Plotting\n",
    "z_scores = df[df.select_dtypes(include='number').columns].apply(lambda x: (x - x.mean()) / x.std())\n",
    "z_scores[\"class\"] = df[\"class\"]\n",
    "z_scores_melted  = z_scores.melt(id_vars=\"class\", var_name=\"variable\", value_name=\"z_score\")\n",
    "plt.figure(figsize=(12, 6))\n",
    "sns.barplot(data=z_scores_melted, x=\"variable\", y=\"z_score\", hue=\"class\", palette=\"coolwarm\",errorbar=\"ci\")\n",
    "# plt.xlabel(\"Variable\")\n",
    "plt.ylabel(\"Z-score\")\n",
    "# plt.title(\"Z-score of each variable for each type\")\n",
    "plt.xticks(rotation=45, ha='right')\n",
    "# plt.tight_layout()\n",
    "plt.show()\n"
   ]
  },
  {
   "cell_type": "code",
   "execution_count": 173,
   "metadata": {},
   "outputs": [
    {
     "data": {
      "text/plain": [
       "(class\n",
       " gpt-3.5-turbo    477.770000\n",
       " gpt-4            536.510000\n",
       " human            517.770492\n",
       " maritalk         382.140000\n",
       " Name: token_count, dtype: float64,\n",
       " class\n",
       " gpt-3.5-turbo     62.444457\n",
       " gpt-4             65.226024\n",
       " human            157.920591\n",
       " maritalk          16.371952\n",
       " Name: token_count, dtype: float64)"
      ]
     },
     "execution_count": 173,
     "metadata": {},
     "output_type": "execute_result"
    }
   ],
   "source": [
    "df.groupby(\"class\")[\"token_count\"].mean(),df.groupby(\"class\")[\"token_count\"].std()"
   ]
  },
  {
   "cell_type": "code",
   "execution_count": 179,
   "metadata": {},
   "outputs": [
    {
     "data": {
      "image/png": "[encoded data removed]",
      "text/plain": [
       "<Figure size 1200x600 with 1 Axes>"
      ]
     },
     "metadata": {},
     "output_type": "display_data"
    }
   ],
   "source": [
    "# Plotting\n",
    "z_scores = df[significant_ones.to_list() + [\"token_count\"]].apply(lambda x: (x - x.mean()) / x.std())\n",
    "z_scores[\"class\"] = df[\"class\"]\n",
    "z_scores_melted  = z_scores.melt(id_vars=\"class\", var_name=\"variable\", value_name=\"z_score\")\n",
    "plt.figure(figsize=(12, 6))\n",
    "\n",
    "hue_order = [\"human\",\"gpt-4\",\"maritalk\",  \"gpt-3.5-turbo\"]\n",
    "\n",
    "custom_palette = [\"#A0B4EB\",\"#B0A4EB\", \"#BDCBF1\", \"#DBA38D\"]  # Example colors\n",
    "\n",
    "sns.barplot(data=z_scores_melted, x=\"variable\", y=\"z_score\", hue=\"class\", \n",
    "            palette=\"coolwarm\",\n",
    "            hue_order=hue_order,\n",
    "            errorbar=\"ci\", capsize=.05,\n",
    "            width=0.7)\n",
    "plt.xlabel(\"\")\n",
    "plt.ylabel(\"Z-score\")\n",
    "plt.tight_layout()\n",
    "plt.legend(title=\"\")\n",
    "\n",
    "# plt.savefig(\"Statistical Divergent Features for humans.pdf\", format=\"pdf\")\n",
    "\n",
    "plt.show()\n"
   ]
  },
  {
   "cell_type": "code",
   "execution_count": 175,
   "metadata": {},
   "outputs": [
    {
     "data": {
      "image/png": "[encoded data removed]",
      "text/plain": [
       "<Figure size 1200x600 with 1 Axes>"
      ]
     },
     "metadata": {},
     "output_type": "display_data"
    }
   ],
   "source": [
    "# Plotting\n",
    "z_scores = df[lexical_features].apply(lambda x: (x - x.mean()) / x.std())\n",
    "z_scores[\"type\"] = df[\"type\"]\n",
    "z_scores_melted  = z_scores.melt(id_vars=\"type\", var_name=\"variable\", value_name=\"z_score\")\n",
    "plt.figure(figsize=(12, 6))\n",
    "\n",
    "hue_order = [\"human\",\"gpt-4\",\"maritalk\",  \"gpt-3.5-turbo\"]\n",
    "\n",
    "custom_palette = [\"#A0B4EB\",\"#B0A4EB\", \"#BDCBF1\", \"#DBA38D\"]  # Example colors\n",
    "\n",
    "sns.barplot(data=z_scores_melted, x=\"variable\", y=\"z_score\", hue=\"type\", \n",
    "            palette=\"coolwarm\",\n",
    "            # hue_order=hue_order,\n",
    "            errorbar=\"ci\", capsize=.05,\n",
    "            width=0.7)\n",
    "plt.xlabel(\"\")\n",
    "plt.ylabel(\"Z-score\")\n",
    "plt.tight_layout()\n",
    "plt.show()\n"
   ]
  },
  {
   "cell_type": "code",
   "execution_count": 176,
   "metadata": {},
   "outputs": [
    {
     "data": {
      "text/plain": [
       "array(['not maximum grade', 'maximum grade', 'LLM'], dtype=object)"
      ]
     },
     "execution_count": 176,
     "metadata": {},
     "output_type": "execute_result"
    }
   ],
   "source": [
    "df[\"class_2\"] = ((df[\"model\"] == \"LLM\") * df[\"model\"]) + ((df[\"model\"] != \"LLM\") * df[\"type\"]) \n",
    "df[\"class_2\"].unique()"
   ]
  },
  {
   "cell_type": "code",
   "execution_count": 177,
   "metadata": {},
   "outputs": [
    {
     "data": {
      "image/png": "[encoded data removed]",
      "text/plain": [
       "<Figure size 1200x600 with 1 Axes>"
      ]
     },
     "metadata": {},
     "output_type": "display_data"
    }
   ],
   "source": [
    "# Plotting\n",
    "z_scores = df[lexical_features].apply(lambda x: (x - x.mean()) / x.std())\n",
    "z_scores[\"class_2\"] = df[\"class_2\"]\n",
    "z_scores_melted  = z_scores.melt(id_vars=\"class_2\", var_name=\"variable\", value_name=\"z_score\")\n",
    "plt.figure(figsize=(12, 6))\n",
    "\n",
    "hue_order = [\"maximum grade\",\"not maximum grade\",\"LLM\"]\n",
    "\n",
    "custom_palette = [\"#A0B4EB\",\"#B0A4EB\", \"#BDCBF1\", \"#DBA38D\"]  # Example colors\n",
    "\n",
    "sns.barplot(data=z_scores_melted, x=\"variable\", y=\"z_score\", hue=\"class_2\", \n",
    "            palette=\"coolwarm\",\n",
    "            hue_order=hue_order,\n",
    "            errorbar=\"ci\", capsize=.05,\n",
    "            width=0.7)\n",
    "plt.xlabel(\"\")\n",
    "plt.ylabel(\"Z-score\")\n",
    "plt.tight_layout()\n",
    "plt.show()\n"
   ]
  }
 ],
 "metadata": {
  "kernelspec": {
   "display_name": "tps",
   "language": "python",
   "name": "python3"
  },
  "language_info": {
   "codemirror_mode": {
    "name": "ipython",
    "version": 3
   },
   "file_extension": ".py",
   "mimetype": "text/x-python",
   "name": "python",
   "nbconvert_exporter": "python",
   "pygments_lexer": "ipython3",
   "version": "3.11.5"
  }
 },
 "nbformat": 4,
 "nbformat_minor": 2
}
