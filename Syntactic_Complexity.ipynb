{
  "nbformat": 4,
  "nbformat_minor": 0,
  "metadata": {
    "colab": {
      "provenance": [],
      "toc_visible": true
    },
    "kernelspec": {
      "name": "python3",
      "display_name": "Python 3"
    },
    "language_info": {
      "name": "python"
    }
  },
  "cells": [
    {
      "cell_type": "code",
      "source": [
        "!pip install conllu -q"
      ],
      "metadata": {
        "id": "c0qtJpipbibG"
      },
      "execution_count": 292,
      "outputs": []
    },
    {
      "cell_type": "code",
      "execution_count": 293,
      "metadata": {
        "id": "La7g1YidS7Oh"
      },
      "outputs": [],
      "source": [
        "import pandas as pd\n",
        "import numpy as np"
      ]
    },
    {
      "cell_type": "markdown",
      "source": [
        "#### Texto de exemplo\n",
        "\n",
        "Futuramente o arquivo vai ser lido atráves da linha de comando"
      ],
      "metadata": {
        "id": "o4QRiRbScfI5"
      }
    },
    {
      "cell_type": "code",
      "source": [
        "import requests\n",
        "\n",
        "redacao = \"https://raw.githubusercontent.com/IgorJoaquimn/Can-LLMs-write-good-essays-/main/Reda%C3%A7%C3%B5es/system%20prompt%20matias/Redacao001.txt\"\n",
        "r = requests.get(redacao)\n",
        "redacao = r.text\n",
        "print(redacao)"
      ],
      "metadata": {
        "colab": {
          "base_uri": "https://localhost:8080/"
        },
        "id": "4cL_W-KlTZxT",
        "outputId": "53c8afad-0a6c-44b4-cc93-d2f67204bcdd"
      },
      "execution_count": 294,
      "outputs": [
        {
          "output_type": "stream",
          "name": "stdout",
          "text": [
            "O Brasil é uma nação rica em diversidade cultural, abrigando uma multiplicidade de comunidades e povos tradicionais que são essenciais para a construção da identidade nacional. No entanto, a valorização dessas comunidades enfrenta uma série de desafios que vão desde a falta de políticas públicas adequadas até o preconceito arraigado na sociedade. Como ressalta o antropólogo Darcy Ribeiro em sua obra \"O Povo Brasileiro\", a miscigenação é um dos pilares da formação do Brasil, e é nas comunidades tradicionais que encontramos as raízes dessa miscigenação, que devem ser preservadas e valorizadas.\n",
            "\n",
            "Os desafios para a valorização dessas comunidades são multifacetados. Em primeiro lugar, há uma lacuna significativa nas políticas públicas voltadas para a proteção e promoção dos direitos desses povos. O filósofo Paulo Freire, em sua obra \"Pedagogia do Oprimido\", destaca a importância da educação como ferramenta de transformação social. No entanto, muitas comunidades tradicionais ainda enfrentam dificuldades de acesso à educação de qualidade, o que perpetua o ciclo de marginalização e desvalorização.\n",
            "\n",
            "Além disso, a preservação do meio ambiente, muitas vezes inseparável das práticas culturais dessas comunidades, é ameaçada pelo avanço do agronegócio e da exploração predatória dos recursos naturais. A filósofa brasileira Marilena Chaui, em sua obra \"Brasil: Mito Fundador e Sociedade Autoritária\", discute a relação entre desenvolvimento econômico e degradação ambiental, alertando para os impactos negativos sobre as comunidades tradicionais. Nesse contexto, torna-se essencial adotar políticas de desenvolvimento sustentável que respeitem e incluam essas comunidades como agentes ativos na preservação ambiental.\n",
            "\n",
            "Em suma, a valorização de comunidades e povos tradicionais no Brasil requer uma abordagem holística que reconheça sua importância cultural, social e ambiental. Para isso, é necessário que o Estado assuma o papel de agente promotor de políticas públicas inclusivas e afirmativas, que garantam o acesso dessas comunidades a direitos fundamentais como educação, saúde e terra, além de promover o respeito à sua autonomia e formas de organização social. Somente através da ação conjunta de governos, sociedade civil e setor privado, em um meio de diálogo e colaboração, será possível alcançar a finalidade de construir uma sociedade mais justa e igualitária, onde todas as vozes e culturas sejam valorizadas e respeitadas.\n"
          ]
        }
      ]
    },
    {
      "cell_type": "markdown",
      "source": [
        "#### Conectando com o UDPipe"
      ],
      "metadata": {
        "id": "tpRo04gUTXD1"
      }
    },
    {
      "cell_type": "code",
      "source": [
        "# UDPipe API\n",
        "url = 'http://lindat.mff.cuni.cz/services/udpipe/api/process'\n",
        "\n",
        "# Dados que a API precisa\n",
        "data = {\n",
        "    'tokenizer': '',\n",
        "    'tagger': '',\n",
        "    'parser': '',\n",
        "    'model': \"portuguese-bosque-ud-2.12-230717\",\n",
        "    'data': redacao\n",
        "}\n",
        "response = requests.post(url, data=data)\n",
        "print('Resposta:', response.text)\n"
      ],
      "metadata": {
        "colab": {
          "base_uri": "https://localhost:8080/"
        },
        "id": "VYUzZ1IDTZV3",
        "outputId": "015f0c8d-8245-4333-d5ca-b2051718aa3b"
      },
      "execution_count": 295,
      "outputs": [
        {
          "output_type": "stream",
          "name": "stdout",
          "text": [
            "Resposta: {\n",
            " \"model\": \"portuguese-bosque-ud-2.12-230717\",\n",
            " \"acknowledgements\": [\n",
            "  \"http://ufal.mff.cuni.cz/udpipe/2#udpipe2_acknowledgements\",\n",
            "  \"https://ufal.mff.cuni.cz/udpipe/2/models#universal_dependencies_212_models\"\n",
            " ],\n",
            " \"result\": \"# generator = UDPipe 2, https://lindat.mff.cuni.cz/services/udpipe\\n# udpipe_model = portuguese-bosque-ud-2.12-230717\\n# udpipe_model_licence = CC BY-NC-SA\\n# newdoc\\n# newpar\\n# sent_id = 1\\n# text = O Brasil é uma nação rica em diversidade cultural, abrigando uma multiplicidade de comunidades e povos tradicionais que são essenciais para a construção da identidade nacional.\\n1\\tO\\to\\tDET\\t_\\tDefinite=Def|Gender=Masc|Number=Sing|PronType=Art\\t2\\tdet\\t_\\t_\\n2\\tBrasil\\tBrasil\\tPROPN\\t_\\tGender=Masc|Number=Sing\\t5\\tnsubj\\t_\\t_\\n3\\té\\tser\\tAUX\\t_\\tMood=Ind|Number=Sing|Person=3|Tense=Pres|VerbForm=Fin\\t5\\tcop\\t_\\t_\\n4\\tuma\\tum\\tDET\\t_\\tDefinite=Ind|Gender=Fem|Number=Sing|PronType=Art\\t5\\tdet\\t_\\t_\\n5\\tnação\\tnação\\tNOUN\\t_\\tGender=Fem|Number=Sing\\t0\\troot\\t_\\t_\\n6\\trica\\trico\\tADJ\\t_\\tGender=Fem|Number=Sing\\t5\\tamod\\t_\\t_\\n7\\tem\\tem\\tADP\\t_\\t_\\t8\\tcase\\t_\\t_\\n8\\tdiversidade\\tdiversidade\\tNOUN\\t_\\tGender=Fem|Number=Sing\\t6\\tobl\\t_\\t_\\n9\\tcultural\\tcultural\\tADJ\\t_\\tGender=Fem|Number=Sing\\t8\\tamod\\t_\\tSpaceAfter=No\\n10\\t,\\t,\\tPUNCT\\t_\\t_\\t11\\tpunct\\t_\\t_\\n11\\tabrigando\\tabrigar\\tVERB\\t_\\tVerbForm=Ger\\t5\\tadvcl\\t_\\t_\\n12\\tuma\\tum\\tDET\\t_\\tDefinite=Ind|Gender=Fem|Number=Sing|PronType=Art\\t13\\tdet\\t_\\t_\\n13\\tmultiplicidade\\tmultiplicidade\\tNOUN\\t_\\tGender=Fem|Number=Sing\\t11\\tobj\\t_\\t_\\n14\\tde\\tde\\tADP\\t_\\t_\\t15\\tcase\\t_\\t_\\n15\\tcomunidades\\tcomunidade\\tNOUN\\t_\\tGender=Fem|Number=Plur\\t13\\tnmod\\t_\\t_\\n16\\te\\te\\tCCONJ\\t_\\t_\\t17\\tcc\\t_\\t_\\n17\\tpovos\\tpovo\\tNOUN\\t_\\tGender=Masc|Number=Plur\\t15\\tconj\\t_\\t_\\n18\\ttradicionais\\ttradicional\\tADJ\\t_\\tGender=Masc|Number=Plur\\t17\\tamod\\t_\\t_\\n19\\tque\\tque\\tPRON\\t_\\tGender=Masc|Number=Plur|PronType=Rel\\t21\\tnsubj\\t_\\t_\\n20\\tsão\\tser\\tAUX\\t_\\tMood=Ind|Number=Plur|Person=3|Tense=Pres|VerbForm=Fin\\t21\\tcop\\t_\\t_\\n21\\tessenciais\\tessencial\\tADJ\\t_\\tGender=Masc|Number=Plur\\t15\\tacl:relcl\\t_\\t_\\n22\\tpara\\tpara\\tADP\\t_\\t_\\t24\\tcase\\t_\\t_\\n23\\ta\\to\\tDET\\t_\\tDefinite=Def|Gender=Fem|Number=Sing|PronType=Art\\t24\\tdet\\t_\\t_\\n24\\tconstrução\\tconstrução\\tNOUN\\t_\\tGender=Fem|Number=Sing\\t21\\tobl\\t_\\t_\\n25-26\\tda\\t_\\t_\\t_\\t_\\t_\\t_\\t_\\t_\\n25\\tde\\tde\\tADP\\t_\\t_\\t27\\tcase\\t_\\t_\\n26\\ta\\to\\tDET\\t_\\tDefinite=Def|Gender=Fem|Number=Sing|PronType=Art\\t27\\tdet\\t_\\t_\\n27\\tidentidade\\tidentidade\\tNOUN\\t_\\tGender=Fem|Number=Sing\\t24\\tnmod\\t_\\t_\\n28\\tnacional\\tnacional\\tADJ\\t_\\tGender=Fem|Number=Sing\\t27\\tamod\\t_\\tSpaceAfter=No\\n29\\t.\\t.\\tPUNCT\\t_\\t_\\t5\\tpunct\\t_\\t_\\n\\n# sent_id = 2\\n# text = No entanto, a valorização dessas comunidades enfrenta uma série de desafios que vão desde a falta de políticas públicas adequadas até o preconceito arraigado na sociedade.\\n1-2\\tNo\\t_\\t_\\t_\\t_\\t_\\t_\\t_\\t_\\n1\\tEm\\tem\\tADP\\t_\\tExtPos=CCONJ\\t10\\tcc\\t_\\t_\\n2\\to\\to\\tDET\\t_\\tDefinite=Def|Gender=Masc|Number=Sing|PronType=Art\\t1\\tfixed\\t_\\t_\\n3\\tentanto\\tentanto\\tNOUN\\t_\\tGender=Masc|Number=Sing\\t1\\tfixed\\t_\\tSpaceAfter=No\\n4\\t,\\t,\\tPUNCT\\t_\\t_\\t1\\tpunct\\t_\\t_\\n5\\ta\\to\\tDET\\t_\\tDefinite=Def|Gender=Fem|Number=Sing|PronType=Art\\t6\\tdet\\t_\\t_\\n6\\tvalorização\\tvalorização\\tNOUN\\t_\\tGender=Fem|Number=Sing\\t10\\tnsubj\\t_\\t_\\n7-8\\tdessas\\t_\\t_\\t_\\t_\\t_\\t_\\t_\\t_\\n7\\tde\\tde\\tADP\\t_\\t_\\t9\\tcase\\t_\\t_\\n8\\tessas\\tesse\\tDET\\t_\\tGender=Fem|Number=Plur|PronType=Dem\\t9\\tdet\\t_\\t_\\n9\\tcomunidades\\tcomunidade\\tNOUN\\t_\\tGender=Fem|Number=Plur\\t6\\tnmod\\t_\\t_\\n10\\tenfrenta\\tenfrentar\\tVERB\\t_\\tMood=Ind|Number=Sing|Person=3|Tense=Pres|VerbForm=Fin\\t0\\troot\\t_\\t_\\n11\\tuma\\tum\\tDET\\t_\\tDefinite=Ind|Gender=Fem|Number=Sing|PronType=Art\\t12\\tdet\\t_\\t_\\n12\\tsérie\\tsérie\\tNOUN\\t_\\tGender=Fem|Number=Sing\\t10\\tobj\\t_\\t_\\n13\\tde\\tde\\tADP\\t_\\t_\\t14\\tcase\\t_\\t_\\n14\\tdesafios\\tdesafio\\tNOUN\\t_\\tGender=Masc|Number=Plur\\t12\\tnmod\\t_\\t_\\n15\\tque\\tque\\tPRON\\t_\\tGender=Masc|Number=Plur|PronType=Rel\\t16\\tnsubj\\t_\\t_\\n16\\tvão\\tir\\tVERB\\t_\\tMood=Ind|Number=Plur|Person=3|Tense=Pres|VerbForm=Fin\\t14\\tacl:relcl\\t_\\t_\\n17\\tdesde\\tdesde\\tADP\\t_\\t_\\t19\\tcase\\t_\\t_\\n18\\ta\\to\\tDET\\t_\\tDefinite=Def|Gender=Fem|Number=Sing|PronType=Art\\t19\\tdet\\t_\\t_\\n19\\tfalta\\tfalta\\tNOUN\\t_\\tGender=Fem|Number=Sing\\t16\\tobl\\t_\\t_\\n20\\tde\\tde\\tADP\\t_\\t_\\t21\\tcase\\t_\\t_\\n21\\tpolíticas\\tpolítica\\tNOUN\\t_\\tGender=Fem|Number=Plur\\t19\\tnmod\\t_\\t_\\n22\\tpúblicas\\tpúblico\\tADJ\\t_\\tGender=Fem|Number=Plur\\t21\\tamod\\t_\\t_\\n23\\tadequadas\\tadequado\\tADJ\\t_\\tGender=Fem|Number=Plur\\t21\\tamod\\t_\\t_\\n24\\taté\\taté\\tADP\\t_\\t_\\t26\\tcase\\t_\\t_\\n25\\to\\to\\tDET\\t_\\tDefinite=Def|Gender=Masc|Number=Sing|PronType=Art\\t26\\tdet\\t_\\t_\\n26\\tpreconceito\\tpreconceito\\tNOUN\\t_\\tGender=Masc|Number=Sing\\t19\\tnmod\\t_\\t_\\n27\\tarraigado\\tarraigar\\tVERB\\t_\\tGender=Masc|Number=Sing|VerbForm=Part\\t26\\tacl\\t_\\t_\\n28-29\\tna\\t_\\t_\\t_\\t_\\t_\\t_\\t_\\t_\\n28\\tem\\tem\\tADP\\t_\\t_\\t30\\tcase\\t_\\t_\\n29\\ta\\to\\tDET\\t_\\tDefinite=Def|Gender=Fem|Number=Sing|PronType=Art\\t30\\tdet\\t_\\t_\\n30\\tsociedade\\tsociedade\\tNOUN\\t_\\tGender=Fem|Number=Sing\\t27\\tobl\\t_\\tSpaceAfter=No\\n31\\t.\\t.\\tPUNCT\\t_\\t_\\t10\\tpunct\\t_\\t_\\n\\n# sent_id = 3\\n# text = Como ressalta o antropólogo Darcy Ribeiro em sua obra \\\"O Povo Brasileiro\\\", a miscigenação é um dos pilares da formação do Brasil, e é nas comunidades tradicionais que encontramos as raízes dessa miscigenação, que devem ser preservadas e valorizadas.\\n1\\tComo\\tcomo\\tSCONJ\\t_\\t_\\t2\\tmark\\t_\\t_\\n2\\tressalta\\tressaltar\\tVERB\\t_\\tMood=Ind|Number=Sing|Person=3|Tense=Pres|VerbForm=Fin\\t19\\tadvcl\\t_\\t_\\n3\\to\\to\\tDET\\t_\\tDefinite=Def|Gender=Masc|Number=Sing|PronType=Art\\t4\\tdet\\t_\\t_\\n4\\tantropólogo\\tantropólogo\\tNOUN\\t_\\tGender=Masc|Number=Sing\\t2\\tnsubj\\t_\\t_\\n5\\tDarcy\\tDarcy\\tPROPN\\t_\\tExtPos=PROPN|Gender=Masc|Number=Sing\\t4\\tappos\\t_\\t_\\n6\\tRibeiro\\tRibeiro\\tPROPN\\t_\\tNumber=Sing\\t5\\tflat:name\\t_\\t_\\n7\\tem\\tem\\tADP\\t_\\t_\\t9\\tcase\\t_\\t_\\n8\\tsua\\tseu\\tDET\\t_\\tGender=Fem|Number=Sing|PronType=Prs\\t9\\tdet\\t_\\t_\\n9\\tobra\\tobra\\tNOUN\\t_\\tGender=Fem|Number=Sing\\t2\\tobl\\t_\\t_\\n10\\t\\\"\\t\\\"\\tPUNCT\\t_\\t_\\t11\\tpunct\\t_\\tSpaceAfter=No\\n11\\tO\\tO\\tPROPN\\t_\\tExtPos=PROPN|Gender=Masc|Number=Sing|PronType=Art\\t9\\tappos\\t_\\t_\\n12\\tPovo\\tPovo\\tPROPN\\t_\\tNumber=Sing\\t11\\tflat:name\\t_\\t_\\n13\\tBrasileiro\\tBrasileiro\\tPROPN\\t_\\tNumber=Sing\\t11\\tflat:name\\t_\\tSpaceAfter=No\\n14\\t\\\"\\t\\\"\\tPUNCT\\t_\\t_\\t11\\tpunct\\t_\\tSpaceAfter=No\\n15\\t,\\t,\\tPUNCT\\t_\\t_\\t2\\tpunct\\t_\\t_\\n16\\ta\\to\\tDET\\t_\\tDefinite=Def|Gender=Fem|Number=Sing|PronType=Art\\t17\\tdet\\t_\\t_\\n17\\tmiscigenação\\tmiscigenação\\tNOUN\\t_\\tGender=Fem|Number=Sing\\t19\\tnsubj\\t_\\t_\\n18\\té\\tser\\tAUX\\t_\\tMood=Ind|Number=Sing|Person=3|Tense=Pres|VerbForm=Fin\\t19\\tcop\\t_\\t_\\n19\\tum\\tum\\tNUM\\t_\\tNumType=Card\\t0\\troot\\t_\\t_\\n20-21\\tdos\\t_\\t_\\t_\\t_\\t_\\t_\\t_\\t_\\n20\\tde\\tde\\tADP\\t_\\t_\\t22\\tcase\\t_\\t_\\n21\\tos\\to\\tDET\\t_\\tDefinite=Def|Gender=Masc|Number=Plur|PronType=Art\\t22\\tdet\\t_\\t_\\n22\\tpilares\\tpilar\\tNOUN\\t_\\tGender=Masc|Number=Plur\\t19\\tnmod\\t_\\t_\\n23-24\\tda\\t_\\t_\\t_\\t_\\t_\\t_\\t_\\t_\\n23\\tde\\tde\\tADP\\t_\\t_\\t25\\tcase\\t_\\t_\\n24\\ta\\to\\tDET\\t_\\tDefinite=Def|Gender=Fem|Number=Sing|PronType=Art\\t25\\tdet\\t_\\t_\\n25\\tformação\\tformação\\tNOUN\\t_\\tGender=Fem|Number=Sing\\t22\\tnmod\\t_\\t_\\n26-27\\tdo\\t_\\t_\\t_\\t_\\t_\\t_\\t_\\t_\\n26\\tde\\tde\\tADP\\t_\\t_\\t28\\tcase\\t_\\t_\\n27\\to\\to\\tDET\\t_\\tDefinite=Def|Gender=Masc|Number=Sing|PronType=Art\\t28\\tdet\\t_\\t_\\n28\\tBrasil\\tBrasil\\tPROPN\\t_\\tGender=Masc|Number=Sing\\t25\\tnmod\\t_\\tSpaceAfter=No\\n29\\t,\\t,\\tPUNCT\\t_\\t_\\t37\\tpunct\\t_\\t_\\n30\\te\\te\\tCCONJ\\t_\\t_\\t37\\tcc\\t_\\t_\\n31\\té\\té\\tSCONJ\\t_\\t_\\t37\\tmark\\t_\\t_\\n32-33\\tnas\\t_\\t_\\t_\\t_\\t_\\t_\\t_\\t_\\n32\\tem\\tem\\tADP\\t_\\t_\\t34\\tcase\\t_\\t_\\n33\\tas\\to\\tDET\\t_\\tDefinite=Def|Gender=Fem|Number=Plur|PronType=Art\\t34\\tdet\\t_\\t_\\n34\\tcomunidades\\tcomunidade\\tNOUN\\t_\\tGender=Fem|Number=Plur\\t37\\tobl\\t_\\t_\\n35\\ttradicionais\\ttradicional\\tADJ\\t_\\tGender=Fem|Number=Plur\\t34\\tamod\\t_\\t_\\n36\\tque\\tque\\tSCONJ\\t_\\t_\\t37\\tmark\\t_\\t_\\n37\\tencontramos\\tencontrar\\tVERB\\t_\\tMood=Ind|Number=Plur|Person=1|Tense=Pres|VerbForm=Fin\\t19\\tconj\\t_\\t_\\n38\\tas\\to\\tDET\\t_\\tDefinite=Def|Gender=Fem|Number=Plur|PronType=Art\\t39\\tdet\\t_\\t_\\n39\\traízes\\traiz\\tNOUN\\t_\\tGender=Fem|Number=Plur\\t37\\tobj\\t_\\t_\\n40-41\\tdessa\\t_\\t_\\t_\\t_\\t_\\t_\\t_\\t_\\n40\\tde\\tde\\tADP\\t_\\t_\\t42\\tcase\\t_\\t_\\n41\\tessa\\tesse\\tDET\\t_\\tGender=Fem|Number=Sing|PronType=Dem\\t42\\tdet\\t_\\t_\\n42\\tmiscigenação\\tmiscigenação\\tNOUN\\t_\\tGender=Fem|Number=Sing\\t39\\tnmod\\t_\\tSpaceAfter=No\\n43\\t,\\t,\\tPUNCT\\t_\\t_\\t45\\tpunct\\t_\\t_\\n44\\tque\\tque\\tPRON\\t_\\tGender=Fem|Number=Plur|PronType=Rel\\t45\\tnsubj:pass\\t_\\t_\\n45\\tdevem\\tdever\\tVERB\\t_\\tMood=Ind|Number=Plur|Person=3|Tense=Pres|VerbForm=Fin\\t39\\tacl:relcl\\t_\\t_\\n46\\tser\\tser\\tAUX\\t_\\tVerbForm=Inf\\t47\\taux:pass\\t_\\t_\\n47\\tpreservadas\\tpreservar\\tVERB\\t_\\tGender=Fem|Number=Plur|VerbForm=Part|Voice=Pass\\t45\\txcomp\\t_\\t_\\n48\\te\\te\\tCCONJ\\t_\\t_\\t49\\tcc\\t_\\t_\\n49\\tvalorizadas\\tvalorizar\\tVERB\\t_\\tGender=Fem|Number=Plur|VerbForm=Part\\t47\\tconj\\t_\\tSpaceAfter=No\\n50\\t.\\t.\\tPUNCT\\t_\\t_\\t19\\tpunct\\t_\\tSpacesAfter=\\\\n\\\\n\\n\\n# newpar\\n# sent_id = 4\\n# text = Os desafios para a valorização dessas comunidades são multifacetados.\\n1\\tOs\\to\\tDET\\t_\\tDefinite=Def|Gender=Masc|Number=Plur|PronType=Art\\t2\\tdet\\t_\\t_\\n2\\tdesafios\\tdesafio\\tNOUN\\t_\\tGender=Masc|Number=Plur\\t10\\tnsubj:pass\\t_\\t_\\n3\\tpara\\tpara\\tADP\\t_\\t_\\t5\\tcase\\t_\\t_\\n4\\ta\\to\\tDET\\t_\\tDefinite=Def|Gender=Fem|Number=Sing|PronType=Art\\t5\\tdet\\t_\\t_\\n5\\tvalorização\\tvalorização\\tNOUN\\t_\\tGender=Fem|Number=Sing\\t2\\tnmod\\t_\\t_\\n6-7\\tdessas\\t_\\t_\\t_\\t_\\t_\\t_\\t_\\t_\\n6\\tde\\tde\\tADP\\t_\\t_\\t8\\tcase\\t_\\t_\\n7\\tessas\\tesse\\tDET\\t_\\tGender=Fem|Number=Plur|PronType=Dem\\t8\\tdet\\t_\\t_\\n8\\tcomunidades\\tcomunidade\\tNOUN\\t_\\tGender=Fem|Number=Plur\\t5\\tnmod\\t_\\t_\\n9\\tsão\\tser\\tAUX\\t_\\tMood=Ind|Number=Plur|Person=3|Tense=Pres|VerbForm=Fin\\t10\\taux:pass\\t_\\t_\\n10\\tmultifacetados\\tmultifacetar\\tVERB\\t_\\tGender=Masc|Number=Plur|VerbForm=Part|Voice=Pass\\t0\\troot\\t_\\tSpaceAfter=No\\n11\\t.\\t.\\tPUNCT\\t_\\t_\\t10\\tpunct\\t_\\t_\\n\\n# sent_id = 5\\n# text = Em primeiro lugar, há uma lacuna significativa nas políticas públicas voltadas para a proteção e promoção dos direitos desses povos.\\n1\\tEm\\tem\\tADP\\t_\\t_\\t3\\tcase\\t_\\t_\\n2\\tprimeiro\\tprimeiro\\tADJ\\t_\\tGender=Masc|Number=Sing|NumType=Ord\\t3\\tamod\\t_\\t_\\n3\\tlugar\\tlugar\\tNOUN\\t_\\tGender=Masc|Number=Sing\\t5\\tobl\\t_\\tSpaceAfter=No\\n4\\t,\\t,\\tPUNCT\\t_\\t_\\t3\\tpunct\\t_\\t_\\n5\\thá\\thaver\\tVERB\\t_\\tMood=Ind|Number=Sing|Person=3|Tense=Pres|VerbForm=Fin\\t0\\troot\\t_\\t_\\n6\\tuma\\tum\\tDET\\t_\\tDefinite=Ind|Gender=Fem|Number=Sing|PronType=Art\\t7\\tdet\\t_\\t_\\n7\\tlacuna\\tlacuna\\tNOUN\\t_\\tGender=Fem|Number=Sing\\t5\\tobj\\t_\\t_\\n8\\tsignificativa\\tsignificativo\\tADJ\\t_\\tGender=Fem|Number=Sing\\t7\\tamod\\t_\\t_\\n9-10\\tnas\\t_\\t_\\t_\\t_\\t_\\t_\\t_\\t_\\n9\\tem\\tem\\tADP\\t_\\t_\\t11\\tcase\\t_\\t_\\n10\\tas\\to\\tDET\\t_\\tDefinite=Def|Gender=Fem|Number=Plur|PronType=Art\\t11\\tdet\\t_\\t_\\n11\\tpolíticas\\tpolítica\\tNOUN\\t_\\tGender=Fem|Number=Plur\\t7\\tnmod\\t_\\t_\\n12\\tpúblicas\\tpúblico\\tADJ\\t_\\tGender=Fem|Number=Plur\\t11\\tamod\\t_\\t_\\n13\\tvoltadas\\tvoltar\\tVERB\\t_\\tGender=Fem|Number=Plur|VerbForm=Part\\t11\\tacl\\t_\\t_\\n14\\tpara\\tpara\\tADP\\t_\\t_\\t16\\tcase\\t_\\t_\\n15\\ta\\to\\tDET\\t_\\tDefinite=Def|Gender=Fem|Number=Sing|PronType=Art\\t16\\tdet\\t_\\t_\\n16\\tproteção\\tproteção\\tNOUN\\t_\\tGender=Fem|Number=Sing\\t13\\tobj\\t_\\t_\\n17\\te\\te\\tCCONJ\\t_\\t_\\t18\\tcc\\t_\\t_\\n18\\tpromoção\\tpromoção\\tNOUN\\t_\\tGender=Fem|Number=Sing\\t16\\tconj\\t_\\t_\\n19-20\\tdos\\t_\\t_\\t_\\t_\\t_\\t_\\t_\\t_\\n19\\tde\\tde\\tADP\\t_\\t_\\t21\\tcase\\t_\\t_\\n20\\tos\\to\\tDET\\t_\\tDefinite=Def|Gender=Masc|Number=Plur|PronType=Art\\t21\\tdet\\t_\\t_\\n21\\tdireitos\\tdireito\\tNOUN\\t_\\tGender=Masc|Number=Plur\\t18\\tnmod\\t_\\t_\\n22-23\\tdesses\\t_\\t_\\t_\\t_\\t_\\t_\\t_\\t_\\n22\\tde\\tde\\tADP\\t_\\t_\\t24\\tcase\\t_\\t_\\n23\\tesses\\tesse\\tDET\\t_\\tGender=Masc|Number=Plur|PronType=Dem\\t24\\tdet\\t_\\t_\\n24\\tpovos\\tpovo\\tNOUN\\t_\\tGender=Masc|Number=Plur\\t21\\tnmod\\t_\\tSpaceAfter=No\\n25\\t.\\t.\\tPUNCT\\t_\\t_\\t5\\tpunct\\t_\\t_\\n\\n# sent_id = 6\\n# text = O filósofo Paulo Freire, em sua obra \\\"Pedagogia do Oprimido\\\", destaca a importância da educação como ferramenta de transformação social.\\n1\\tO\\to\\tDET\\t_\\tDefinite=Def|Gender=Masc|Number=Sing|PronType=Art\\t2\\tdet\\t_\\t_\\n2\\tfilósofo\\tfilósofo\\tNOUN\\t_\\tGender=Masc|Number=Sing\\t16\\tnsubj\\t_\\t_\\n3\\tPaulo\\tPaulo\\tPROPN\\t_\\tExtPos=PROPN|Gender=Masc|Number=Sing\\t2\\tappos\\t_\\t_\\n4\\tFreire\\tFreire\\tPROPN\\t_\\tNumber=Sing\\t3\\tflat:name\\t_\\tSpaceAfter=No\\n5\\t,\\t,\\tPUNCT\\t_\\t_\\t8\\tpunct\\t_\\t_\\n6\\tem\\tem\\tADP\\t_\\t_\\t8\\tcase\\t_\\t_\\n7\\tsua\\tseu\\tDET\\t_\\tGender=Fem|Number=Sing|PronType=Prs\\t8\\tdet\\t_\\t_\\n8\\tobra\\tobra\\tNOUN\\t_\\tGender=Fem|Number=Sing\\t16\\tobl\\t_\\t_\\n9\\t\\\"\\t\\\"\\tPUNCT\\t_\\t_\\t10\\tpunct\\t_\\tSpaceAfter=No\\n10\\tPedagogia\\tPedagogia\\tPROPN\\t_\\tGender=Fem|Number=Sing\\t8\\tappos\\t_\\t_\\n11-12\\tdo\\t_\\t_\\t_\\t_\\t_\\t_\\t_\\t_\\n11\\tde\\tde\\tADP\\t_\\t_\\t13\\tcase\\t_\\t_\\n12\\to\\to\\tDET\\t_\\tDefinite=Def|Gender=Masc|Number=Sing|PronType=Art\\t13\\tdet\\t_\\t_\\n13\\tOprimido\\tOprimido\\tPROPN\\t_\\tNumber=Sing\\t10\\tnmod\\t_\\tSpaceAfter=No\\n14\\t\\\"\\t\\\"\\tPUNCT\\t_\\t_\\t10\\tpunct\\t_\\tSpaceAfter=No\\n15\\t,\\t,\\tPUNCT\\t_\\t_\\t8\\tpunct\\t_\\t_\\n16\\tdestaca\\tdestacar\\tVERB\\t_\\tMood=Ind|Number=Sing|Person=3|Tense=Pres|VerbForm=Fin\\t0\\troot\\t_\\t_\\n17\\ta\\to\\tDET\\t_\\tDefinite=Def|Gender=Fem|Number=Sing|PronType=Art\\t18\\tdet\\t_\\t_\\n18\\timportância\\timportância\\tNOUN\\t_\\tGender=Fem|Number=Sing\\t16\\tobj\\t_\\t_\\n19-20\\tda\\t_\\t_\\t_\\t_\\t_\\t_\\t_\\t_\\n19\\tde\\tde\\tADP\\t_\\t_\\t21\\tcase\\t_\\t_\\n20\\ta\\to\\tDET\\t_\\tDefinite=Def|Gender=Fem|Number=Sing|PronType=Art\\t21\\tdet\\t_\\t_\\n21\\teducação\\teducação\\tNOUN\\t_\\tGender=Fem|Number=Sing\\t18\\tnmod\\t_\\t_\\n22\\tcomo\\tcomo\\tADP\\t_\\t_\\t23\\tcase\\t_\\t_\\n23\\tferramenta\\tferramenta\\tNOUN\\t_\\tGender=Fem|Number=Sing\\t16\\txcomp\\t_\\t_\\n24\\tde\\tde\\tADP\\t_\\t_\\t25\\tcase\\t_\\t_\\n25\\ttransformação\\ttransformação\\tNOUN\\t_\\tGender=Fem|Number=Sing\\t23\\tnmod\\t_\\t_\\n26\\tsocial\\tsocial\\tADJ\\t_\\tGender=Fem|Number=Sing\\t25\\tamod\\t_\\tSpaceAfter=No\\n27\\t.\\t.\\tPUNCT\\t_\\t_\\t16\\tpunct\\t_\\t_\\n\\n# sent_id = 7\\n# text = No entanto, muitas comunidades tradicionais ainda enfrentam dificuldades de acesso à educação de qualidade, o que perpetua o ciclo de marginalização e desvalorização.\\n1-2\\tNo\\t_\\t_\\t_\\t_\\t_\\t_\\t_\\t_\\n1\\tEm\\tem\\tADP\\t_\\tExtPos=CCONJ\\t9\\tcc\\t_\\t_\\n2\\to\\to\\tDET\\t_\\tDefinite=Def|Gender=Masc|Number=Sing|PronType=Art\\t1\\tfixed\\t_\\t_\\n3\\tentanto\\tentanto\\tNOUN\\t_\\tGender=Masc|Number=Sing\\t1\\tfixed\\t_\\tSpaceAfter=No\\n4\\t,\\t,\\tPUNCT\\t_\\t_\\t1\\tpunct\\t_\\t_\\n5\\tmuitas\\tmuito\\tDET\\t_\\tGender=Fem|Number=Plur|PronType=Ind\\t6\\tdet\\t_\\t_\\n6\\tcomunidades\\tcomunidade\\tNOUN\\t_\\tGender=Fem|Number=Plur\\t9\\tnsubj\\t_\\t_\\n7\\ttradicionais\\ttradicional\\tADJ\\t_\\tGender=Fem|Number=Plur\\t6\\tamod\\t_\\t_\\n8\\tainda\\tainda\\tADV\\t_\\t_\\t9\\tadvmod\\t_\\t_\\n9\\tenfrentam\\tenfrentar\\tVERB\\t_\\tMood=Ind|Number=Plur|Person=3|Tense=Pres|VerbForm=Fin\\t0\\troot\\t_\\t_\\n10\\tdificuldades\\tdificuldade\\tNOUN\\t_\\tGender=Fem|Number=Plur\\t9\\tobj\\t_\\t_\\n11\\tde\\tde\\tADP\\t_\\t_\\t12\\tcase\\t_\\t_\\n12\\tacesso\\tacesso\\tNOUN\\t_\\tGender=Masc|Number=Sing\\t10\\tnmod\\t_\\t_\\n13-14\\tà\\t_\\t_\\t_\\t_\\t_\\t_\\t_\\t_\\n13\\ta\\ta\\tADP\\t_\\t_\\t15\\tcase\\t_\\t_\\n14\\ta\\to\\tDET\\t_\\tDefinite=Def|Gender=Fem|Number=Sing|PronType=Art\\t15\\tdet\\t_\\t_\\n15\\teducação\\teducação\\tNOUN\\t_\\tGender=Fem|Number=Sing\\t12\\tnmod\\t_\\t_\\n16\\tde\\tde\\tADP\\t_\\t_\\t17\\tcase\\t_\\t_\\n17\\tqualidade\\tqualidade\\tNOUN\\t_\\tGender=Fem|Number=Sing\\t15\\tnmod\\t_\\tSpaceAfter=No\\n18\\t,\\t,\\tPUNCT\\t_\\t_\\t9\\tpunct\\t_\\t_\\n19\\to\\to\\tPRON\\t_\\tGender=Masc|Number=Sing|PronType=Dem\\t9\\tappos\\t_\\t_\\n20\\tque\\tque\\tPRON\\t_\\tGender=Masc|Number=Sing|PronType=Rel\\t21\\tnsubj\\t_\\t_\\n21\\tperpetua\\tperpetuar\\tVERB\\t_\\tMood=Ind|Number=Sing|Person=3|Tense=Pres|VerbForm=Fin\\t19\\tacl:relcl\\t_\\t_\\n22\\to\\to\\tDET\\t_\\tDefinite=Def|Gender=Masc|Number=Sing|PronType=Art\\t23\\tdet\\t_\\t_\\n23\\tciclo\\tciclo\\tNOUN\\t_\\tGender=Masc|Number=Sing\\t21\\tobj\\t_\\t_\\n24\\tde\\tde\\tADP\\t_\\t_\\t25\\tcase\\t_\\t_\\n25\\tmarginalização\\tmarginalização\\tNOUN\\t_\\tGender=Fem|Number=Sing\\t23\\tnmod\\t_\\t_\\n26\\te\\te\\tCCONJ\\t_\\t_\\t27\\tcc\\t_\\t_\\n27\\tdesvalorização\\tdesvalorização\\tNOUN\\t_\\tGender=Fem|Number=Sing\\t25\\tconj\\t_\\tSpaceAfter=No\\n28\\t.\\t.\\tPUNCT\\t_\\t_\\t9\\tpunct\\t_\\tSpacesAfter=\\\\n\\\\n\\n\\n# newpar\\n# sent_id = 8\\n# text = Além disso, a preservação do meio ambiente, muitas vezes inseparável das práticas culturais dessas comunidades, é ameaçada pelo avanço do agronegócio e da exploração predatória dos recursos naturais.\\n1\\tAlém\\talém\\tADV\\t_\\tExtPos=CCONJ\\t3\\tcc\\t_\\t_\\n2-3\\tdisso\\t_\\t_\\t_\\t_\\t_\\t_\\t_\\tSpaceAfter=No\\n2\\tde\\tde\\tADP\\t_\\t_\\t1\\tfixed\\t_\\t_\\n3\\tisso\\tisso\\tPRON\\t_\\tGender=Masc|Number=Sing|PronType=Dem\\t24\\tobl\\t_\\t_\\n4\\t,\\t,\\tPUNCT\\t_\\t_\\t3\\tpunct\\t_\\t_\\n5\\ta\\to\\tDET\\t_\\tDefinite=Def|Gender=Fem|Number=Sing|PronType=Art\\t6\\tdet\\t_\\t_\\n6\\tpreservação\\tpreservação\\tNOUN\\t_\\tGender=Fem|Number=Sing\\t24\\tnsubj:pass\\t_\\t_\\n7-8\\tdo\\t_\\t_\\t_\\t_\\t_\\t_\\t_\\t_\\n7\\tde\\tde\\tADP\\t_\\t_\\t9\\tcase\\t_\\t_\\n8\\to\\to\\tDET\\t_\\tDefinite=Def|Gender=Masc|Number=Sing|PronType=Art\\t9\\tdet\\t_\\t_\\n9\\tmeio\\tmeio\\tNOUN\\t_\\tExtPos=NOUN|Gender=Masc|Number=Sing\\t6\\tnmod\\t_\\t_\\n10\\tambiente\\tambiente\\tNOUN\\t_\\tGender=Masc|Number=Sing\\t9\\tnmod\\t_\\tSpaceAfter=No\\n11\\t,\\t,\\tPUNCT\\t_\\t_\\t14\\tpunct\\t_\\t_\\n12\\tmuitas\\tmuitas\\tADP\\t_\\t_\\t13\\tcase\\t_\\t_\\n13\\tvezes\\tvez\\tNOUN\\t_\\tGender=Fem|Number=Plur\\t14\\tobl\\t_\\t_\\n14\\tinseparável\\tinseparável\\tADJ\\t_\\tGender=Fem|Number=Sing\\t6\\tamod\\t_\\t_\\n15-16\\tdas\\t_\\t_\\t_\\t_\\t_\\t_\\t_\\t_\\n15\\tde\\tde\\tADP\\t_\\t_\\t17\\tcase\\t_\\t_\\n16\\tas\\to\\tDET\\t_\\tDefinite=Def|Gender=Fem|Number=Plur|PronType=Art\\t17\\tdet\\t_\\t_\\n17\\tpráticas\\tprática\\tNOUN\\t_\\tGender=Fem|Number=Plur\\t14\\tobl\\t_\\t_\\n18\\tculturais\\tcultural\\tADJ\\t_\\tGender=Fem|Number=Plur\\t17\\tamod\\t_\\t_\\n19-20\\tdessas\\t_\\t_\\t_\\t_\\t_\\t_\\t_\\t_\\n19\\tde\\tde\\tADP\\t_\\t_\\t21\\tcase\\t_\\t_\\n20\\tessas\\tesse\\tDET\\t_\\tGender=Fem|Number=Plur|PronType=Dem\\t21\\tdet\\t_\\t_\\n21\\tcomunidades\\tcomunidade\\tNOUN\\t_\\tGender=Fem|Number=Plur\\t17\\tnmod\\t_\\tSpaceAfter=No\\n22\\t,\\t,\\tPUNCT\\t_\\t_\\t14\\tpunct\\t_\\t_\\n23\\té\\tser\\tAUX\\t_\\tMood=Ind|Number=Sing|Person=3|Tense=Pres|VerbForm=Fin\\t24\\taux:pass\\t_\\t_\\n24\\tameaçada\\tameaçar\\tVERB\\t_\\tGender=Fem|Number=Sing|VerbForm=Part|Voice=Pass\\t0\\troot\\t_\\t_\\n25-26\\tpelo\\t_\\t_\\t_\\t_\\t_\\t_\\t_\\t_\\n25\\tpor\\tpor\\tADP\\t_\\t_\\t27\\tcase\\t_\\t_\\n26\\to\\to\\tDET\\t_\\tDefinite=Def|Gender=Masc|Number=Sing|PronType=Art\\t27\\tdet\\t_\\t_\\n27\\tavanço\\tavanço\\tNOUN\\t_\\tGender=Masc|Number=Sing\\t24\\tobl:agent\\t_\\t_\\n28-29\\tdo\\t_\\t_\\t_\\t_\\t_\\t_\\t_\\t_\\n28\\tde\\tde\\tADP\\t_\\t_\\t30\\tcase\\t_\\t_\\n29\\to\\to\\tDET\\t_\\tDefinite=Def|Gender=Masc|Number=Sing|PronType=Art\\t30\\tdet\\t_\\t_\\n30\\tagronegócio\\tagronegócio\\tNOUN\\t_\\tGender=Masc|Number=Sing\\t27\\tnmod\\t_\\t_\\n31\\te\\te\\tCCONJ\\t_\\t_\\t34\\tcc\\t_\\t_\\n32-33\\tda\\t_\\t_\\t_\\t_\\t_\\t_\\t_\\t_\\n32\\tde\\tde\\tADP\\t_\\t_\\t34\\tcase\\t_\\t_\\n33\\ta\\to\\tDET\\t_\\tDefinite=Def|Gender=Fem|Number=Sing|PronType=Art\\t34\\tdet\\t_\\t_\\n34\\texploração\\texploração\\tNOUN\\t_\\tGender=Fem|Number=Sing\\t27\\tconj\\t_\\t_\\n35\\tpredatória\\tpredatório\\tADJ\\t_\\tGender=Fem|Number=Sing\\t34\\tamod\\t_\\t_\\n36-37\\tdos\\t_\\t_\\t_\\t_\\t_\\t_\\t_\\t_\\n36\\tde\\tde\\tADP\\t_\\t_\\t38\\tcase\\t_\\t_\\n37\\tos\\to\\tDET\\t_\\tDefinite=Def|Gender=Masc|Number=Plur|PronType=Art\\t38\\tdet\\t_\\t_\\n38\\trecursos\\trecurso\\tNOUN\\t_\\tGender=Masc|Number=Plur\\t34\\tnmod\\t_\\t_\\n39\\tnaturais\\tnatural\\tADJ\\t_\\tGender=Masc|Number=Plur\\t38\\tamod\\t_\\tSpaceAfter=No\\n40\\t.\\t.\\tPUNCT\\t_\\t_\\t24\\tpunct\\t_\\t_\\n\\n# sent_id = 9\\n# text = A filósofa brasileira Marilena Chaui, em sua obra \\\"Brasil: Mito Fundador e Sociedade Autoritária\\\", discute a relação entre desenvolvimento econômico e degradação ambiental, alertando para os impactos negativos sobre as comunidades tradicionais.\\n1\\tA\\to\\tDET\\t_\\tDefinite=Def|Gender=Fem|Number=Sing|PronType=Art\\t2\\tdet\\t_\\t_\\n2\\tfilósofa\\tfilósofa\\tNOUN\\t_\\tGender=Fem|Number=Sing\\t20\\tnsubj\\t_\\t_\\n3\\tbrasileira\\tbrasileiro\\tADJ\\t_\\tGender=Fem|Number=Sing\\t2\\tamod\\t_\\t_\\n4\\tMarilena\\tMarilena\\tPROPN\\t_\\tExtPos=PROPN|Gender=Fem|Number=Sing\\t2\\tappos\\t_\\t_\\n5\\tChaui\\tChaui\\tPROPN\\t_\\tNumber=Sing\\t4\\tflat:name\\t_\\tSpaceAfter=No\\n6\\t,\\t,\\tPUNCT\\t_\\t_\\t9\\tpunct\\t_\\t_\\n7\\tem\\tem\\tADP\\t_\\t_\\t9\\tcase\\t_\\t_\\n8\\tsua\\tseu\\tDET\\t_\\tGender=Fem|Number=Sing|PronType=Prs\\t9\\tdet\\t_\\t_\\n9\\tobra\\tobra\\tNOUN\\t_\\tGender=Fem|Number=Sing\\t20\\tobl\\t_\\t_\\n10\\t\\\"\\t\\\"\\tPUNCT\\t_\\t_\\t11\\tpunct\\t_\\tSpaceAfter=No\\n11\\tBrasil\\tBrasil\\tPROPN\\t_\\tGender=Fem|Number=Sing\\t9\\tappos\\t_\\tSpaceAfter=No\\n12\\t:\\t:\\tPUNCT\\t_\\t_\\t11\\tpunct\\t_\\t_\\n13\\tMito\\tMito\\tPROPN\\t_\\tNumber=Sing\\t11\\tappos\\t_\\t_\\n14\\tFundador\\tFundador\\tPROPN\\t_\\tNumber=Sing\\t13\\tflat:name\\t_\\t_\\n15\\te\\te\\tCCONJ\\t_\\t_\\t13\\tflat:name\\t_\\t_\\n16\\tSociedade\\tSociedade\\tPROPN\\t_\\tNumber=Sing\\t13\\tflat:name\\t_\\t_\\n17\\tAutoritária\\tAutoritária\\tPROPN\\t_\\tNumber=Sing\\t13\\tflat:name\\t_\\tSpaceAfter=No\\n18\\t\\\"\\t\\\"\\tPUNCT\\t_\\t_\\t11\\tpunct\\t_\\tSpaceAfter=No\\n19\\t,\\t,\\tPUNCT\\t_\\t_\\t9\\tpunct\\t_\\t_\\n20\\tdiscute\\tdiscutir\\tVERB\\t_\\tMood=Ind|Number=Sing|Person=3|Tense=Pres|VerbForm=Fin\\t0\\troot\\t_\\t_\\n21\\ta\\to\\tDET\\t_\\tDefinite=Def|Gender=Fem|Number=Sing|PronType=Art\\t22\\tdet\\t_\\t_\\n22\\trelação\\trelação\\tNOUN\\t_\\tGender=Fem|Number=Sing\\t20\\tobj\\t_\\t_\\n23\\tentre\\tentre\\tADP\\t_\\t_\\t24\\tcase\\t_\\t_\\n24\\tdesenvolvimento\\tdesenvolvimento\\tNOUN\\t_\\tGender=Masc|Number=Sing\\t22\\tnmod\\t_\\t_\\n25\\teconômico\\teconômico\\tADJ\\t_\\tGender=Masc|Number=Sing\\t24\\tamod\\t_\\t_\\n26\\te\\te\\tCCONJ\\t_\\t_\\t27\\tcc\\t_\\t_\\n27\\tdegradação\\tdegradação\\tNOUN\\t_\\tGender=Fem|Number=Sing\\t24\\tconj\\t_\\t_\\n28\\tambiental\\tambiental\\tADJ\\t_\\tGender=Fem|Number=Sing\\t27\\tamod\\t_\\tSpaceAfter=No\\n29\\t,\\t,\\tPUNCT\\t_\\t_\\t30\\tpunct\\t_\\t_\\n30\\talertando\\talertar\\tVERB\\t_\\tVerbForm=Ger\\t20\\tadvcl\\t_\\t_\\n31\\tpara\\tpara\\tADP\\t_\\t_\\t33\\tcase\\t_\\t_\\n32\\tos\\to\\tDET\\t_\\tDefinite=Def|Gender=Masc|Number=Plur|PronType=Art\\t33\\tdet\\t_\\t_\\n33\\timpactos\\timpacto\\tNOUN\\t_\\tGender=Masc|Number=Plur\\t30\\tobj\\t_\\t_\\n34\\tnegativos\\tnegativo\\tADJ\\t_\\tGender=Masc|Number=Plur\\t33\\tamod\\t_\\t_\\n35\\tsobre\\tsobre\\tADP\\t_\\t_\\t37\\tcase\\t_\\t_\\n36\\tas\\to\\tDET\\t_\\tDefinite=Def|Gender=Fem|Number=Plur|PronType=Art\\t37\\tdet\\t_\\t_\\n37\\tcomunidades\\tcomunidade\\tNOUN\\t_\\tGender=Fem|Number=Plur\\t33\\tnmod\\t_\\t_\\n38\\ttradicionais\\ttradicional\\tADJ\\t_\\tGender=Fem|Number=Plur\\t37\\tamod\\t_\\tSpaceAfter=No\\n39\\t.\\t.\\tPUNCT\\t_\\t_\\t20\\tpunct\\t_\\t_\\n\\n# sent_id = 10\\n# text = Nesse contexto, torna-se essencial adotar políticas de desenvolvimento sustentável que respeitem e incluam essas comunidades como agentes ativos na preservação ambiental.\\n1-2\\tNesse\\t_\\t_\\t_\\t_\\t_\\t_\\t_\\t_\\n1\\tEm\\tem\\tADP\\t_\\t_\\t3\\tcase\\t_\\t_\\n2\\tesse\\tesse\\tDET\\t_\\tGender=Masc|Number=Sing|PronType=Dem\\t3\\tdet\\t_\\t_\\n3\\tcontexto\\tcontexto\\tNOUN\\t_\\tGender=Masc|Number=Sing\\t5\\tobl\\t_\\tSpaceAfter=No\\n4\\t,\\t,\\tPUNCT\\t_\\t_\\t3\\tpunct\\t_\\t_\\n5-6\\ttorna-se\\t_\\t_\\t_\\t_\\t_\\t_\\t_\\t_\\n5\\ttorna\\ttornar\\tVERB\\t_\\tMood=Ind|Number=Sing|Person=3|Tense=Pres|VerbForm=Fin\\t0\\troot\\t_\\t_\\n6\\tse\\tse\\tPRON\\t_\\tCase=Acc|Gender=Masc|Number=Sing|Person=3|PronType=Prs\\t5\\texpl\\t_\\t_\\n7\\tessencial\\tessencial\\tADJ\\t_\\tGender=Masc|Number=Sing\\t5\\txcomp\\t_\\t_\\n8\\tadotar\\tadotar\\tVERB\\t_\\tVerbForm=Inf\\t5\\txcomp\\t_\\t_\\n9\\tpolíticas\\tpolítica\\tNOUN\\t_\\tGender=Fem|Number=Plur\\t8\\tobj\\t_\\t_\\n10\\tde\\tde\\tADP\\t_\\t_\\t11\\tcase\\t_\\t_\\n11\\tdesenvolvimento\\tdesenvolvimento\\tNOUN\\t_\\tGender=Masc|Number=Sing\\t9\\tnmod\\t_\\t_\\n12\\tsustentável\\tsustentável\\tADJ\\t_\\tGender=Masc|Number=Sing\\t11\\tamod\\t_\\t_\\n13\\tque\\tque\\tPRON\\t_\\tGender=Fem|Number=Plur|PronType=Rel\\t14\\tnsubj\\t_\\t_\\n14\\trespeitem\\trespeitar\\tVERB\\t_\\tMood=Sub|Number=Plur|Person=3|Tense=Pres|VerbForm=Fin\\t9\\tacl:relcl\\t_\\t_\\n15\\te\\te\\tCCONJ\\t_\\t_\\t16\\tcc\\t_\\t_\\n16\\tincluam\\tincluar\\tVERB\\t_\\tMood=Ind|Number=Plur|Person=3|Tense=Pres|VerbForm=Fin\\t14\\tconj\\t_\\t_\\n17\\tessas\\tesse\\tDET\\t_\\tGender=Fem|Number=Plur|PronType=Dem\\t18\\tdet\\t_\\t_\\n18\\tcomunidades\\tcomunidade\\tNOUN\\t_\\tGender=Fem|Number=Plur\\t16\\tobj\\t_\\t_\\n19\\tcomo\\tcomo\\tADP\\t_\\t_\\t20\\tcase\\t_\\t_\\n20\\tagentes\\tagente\\tNOUN\\t_\\tGender=Masc|Number=Plur\\t16\\txcomp\\t_\\t_\\n21\\tativos\\tativo\\tADJ\\t_\\tGender=Masc|Number=Plur\\t20\\tamod\\t_\\t_\\n22-23\\tna\\t_\\t_\\t_\\t_\\t_\\t_\\t_\\t_\\n22\\tem\\tem\\tADP\\t_\\t_\\t24\\tcase\\t_\\t_\\n23\\ta\\to\\tDET\\t_\\tDefinite=Def|Gender=Fem|Number=Sing|PronType=Art\\t24\\tdet\\t_\\t_\\n24\\tpreservação\\tpreservação\\tNOUN\\t_\\tGender=Fem|Number=Sing\\t20\\tnmod\\t_\\t_\\n25\\tambiental\\tambiental\\tADJ\\t_\\tGender=Fem|Number=Sing\\t24\\tamod\\t_\\tSpaceAfter=No\\n26\\t.\\t.\\tPUNCT\\t_\\t_\\t5\\tpunct\\t_\\tSpacesAfter=\\\\n\\\\n\\n\\n# newpar\\n# sent_id = 11\\n# text = Em suma, a valorização de comunidades e povos tradicionais no Brasil requer uma abordagem holística que reconheça sua importância cultural, social e ambiental.\\n1\\tEm\\tem\\tADP\\t_\\t_\\t2\\tcase\\t_\\t_\\n2\\tsuma\\tsuma\\tNOUN\\t_\\tGender=Fem|Number=Sing\\t14\\tobl\\t_\\tSpaceAfter=No\\n3\\t,\\t,\\tPUNCT\\t_\\t_\\t2\\tpunct\\t_\\t_\\n4\\ta\\to\\tDET\\t_\\tDefinite=Def|Gender=Fem|Number=Sing|PronType=Art\\t5\\tdet\\t_\\t_\\n5\\tvalorização\\tvalorização\\tNOUN\\t_\\tGender=Fem|Number=Sing\\t14\\tnsubj\\t_\\t_\\n6\\tde\\tde\\tADP\\t_\\t_\\t7\\tcase\\t_\\t_\\n7\\tcomunidades\\tcomunidade\\tNOUN\\t_\\tGender=Fem|Number=Plur\\t5\\tnmod\\t_\\t_\\n8\\te\\te\\tCCONJ\\t_\\t_\\t9\\tcc\\t_\\t_\\n9\\tpovos\\tpovo\\tNOUN\\t_\\tGender=Masc|Number=Plur\\t7\\tconj\\t_\\t_\\n10\\ttradicionais\\ttradicional\\tADJ\\t_\\tGender=Masc|Number=Plur\\t9\\tamod\\t_\\t_\\n11-12\\tno\\t_\\t_\\t_\\t_\\t_\\t_\\t_\\t_\\n11\\tem\\tem\\tADP\\t_\\t_\\t13\\tcase\\t_\\t_\\n12\\to\\to\\tDET\\t_\\tDefinite=Def|Gender=Masc|Number=Sing|PronType=Art\\t13\\tdet\\t_\\t_\\n13\\tBrasil\\tBrasil\\tPROPN\\t_\\tGender=Masc|Number=Sing\\t5\\tnmod\\t_\\t_\\n14\\trequer\\trequerer\\tVERB\\t_\\tMood=Ind|Number=Sing|Person=3|Tense=Pres|VerbForm=Fin\\t0\\troot\\t_\\t_\\n15\\tuma\\tum\\tDET\\t_\\tDefinite=Ind|Gender=Fem|Number=Sing|PronType=Art\\t16\\tdet\\t_\\t_\\n16\\tabordagem\\tabordagem\\tNOUN\\t_\\tGender=Fem|Number=Sing\\t14\\tobj\\t_\\t_\\n17\\tholística\\tholístico\\tADJ\\t_\\tGender=Fem|Number=Sing\\t16\\tamod\\t_\\t_\\n18\\tque\\tque\\tPRON\\t_\\tGender=Fem|Number=Sing|PronType=Rel\\t19\\tnsubj\\t_\\t_\\n19\\treconheça\\treconhecer\\tVERB\\t_\\tMood=Sub|Number=Sing|Person=3|Tense=Pres|VerbForm=Fin\\t16\\tacl:relcl\\t_\\t_\\n20\\tsua\\tseu\\tDET\\t_\\tGender=Fem|Number=Sing|PronType=Prs\\t21\\tdet\\t_\\t_\\n21\\timportância\\timportância\\tNOUN\\t_\\tGender=Fem|Number=Sing\\t19\\tobj\\t_\\t_\\n22\\tcultural\\tcultural\\tADJ\\t_\\tGender=Fem|Number=Sing\\t21\\tamod\\t_\\tSpaceAfter=No\\n23\\t,\\t,\\tPUNCT\\t_\\t_\\t24\\tpunct\\t_\\t_\\n24\\tsocial\\tsocial\\tADJ\\t_\\tGender=Fem|Number=Sing\\t22\\tconj\\t_\\t_\\n25\\te\\te\\tCCONJ\\t_\\t_\\t26\\tcc\\t_\\t_\\n26\\tambiental\\tambiental\\tADJ\\t_\\tGender=Fem|Number=Sing\\t22\\tconj\\t_\\tSpaceAfter=No\\n27\\t.\\t.\\tPUNCT\\t_\\t_\\t14\\tpunct\\t_\\t_\\n\\n# sent_id = 12\\n# text = Para isso, é necessário que o Estado assuma o papel de agente promotor de políticas públicas inclusivas e afirmativas, que garantam o acesso dessas comunidades a direitos fundamentais como educação, saúde e terra, além de promover o respeito à sua autonomia e formas de organização social.\\n1\\tPara\\tpara\\tADP\\t_\\t_\\t2\\tcase\\t_\\t_\\n2\\tisso\\tisso\\tPRON\\t_\\tGender=Masc|Number=Sing|PronType=Dem\\t5\\tobl\\t_\\tSpaceAfter=No\\n3\\t,\\t,\\tPUNCT\\t_\\t_\\t2\\tpunct\\t_\\t_\\n4\\té\\tser\\tAUX\\t_\\tMood=Ind|Number=Sing|Person=3|Tense=Pres|VerbForm=Fin\\t5\\tcop\\t_\\t_\\n5\\tnecessário\\tnecessário\\tADJ\\t_\\tGender=Masc|Number=Sing\\t0\\troot\\t_\\t_\\n6\\tque\\tque\\tSCONJ\\t_\\t_\\t9\\tmark\\t_\\t_\\n7\\to\\to\\tDET\\t_\\tDefinite=Def|Gender=Masc|Number=Sing|PronType=Art\\t8\\tdet\\t_\\t_\\n8\\tEstado\\testado\\tNOUN\\t_\\tGender=Masc|Number=Sing\\t9\\tnsubj\\t_\\t_\\n9\\tassuma\\tassumir\\tVERB\\t_\\tMood=Sub|Number=Sing|Person=3|Tense=Pres|VerbForm=Fin\\t5\\tcsubj\\t_\\t_\\n10\\to\\to\\tDET\\t_\\tDefinite=Def|Gender=Masc|Number=Sing|PronType=Art\\t11\\tdet\\t_\\t_\\n11\\tpapel\\tpapel\\tNOUN\\t_\\tGender=Masc|Number=Sing\\t9\\tobj\\t_\\t_\\n12\\tde\\tde\\tADP\\t_\\t_\\t13\\tcase\\t_\\t_\\n13\\tagente\\tagente\\tNOUN\\t_\\tGender=Masc|Number=Sing\\t11\\tnmod\\t_\\t_\\n14\\tpromotor\\tpromotor\\tADJ\\t_\\tGender=Masc|Number=Sing\\t13\\tamod\\t_\\t_\\n15\\tde\\tde\\tADP\\t_\\t_\\t16\\tcase\\t_\\t_\\n16\\tpolíticas\\tpolítica\\tNOUN\\t_\\tGender=Fem|Number=Plur\\t13\\tnmod\\t_\\t_\\n17\\tpúblicas\\tpúblico\\tADJ\\t_\\tGender=Fem|Number=Plur\\t16\\tamod\\t_\\t_\\n18\\tinclusivas\\tinclusivo\\tADJ\\t_\\tGender=Fem|Number=Plur\\t16\\tamod\\t_\\t_\\n19\\te\\te\\tCCONJ\\t_\\t_\\t20\\tcc\\t_\\t_\\n20\\tafirmativas\\tafirmativo\\tADJ\\t_\\tGender=Fem|Number=Plur\\t18\\tconj\\t_\\tSpaceAfter=No\\n21\\t,\\t,\\tPUNCT\\t_\\t_\\t23\\tpunct\\t_\\t_\\n22\\tque\\tque\\tPRON\\t_\\tGender=Fem|Number=Plur|PronType=Rel\\t23\\tnsubj\\t_\\t_\\n23\\tgarantam\\tgarantar\\tVERB\\t_\\tMood=Ind|Number=Plur|Person=3|Tense=Pres|VerbForm=Fin\\t16\\tacl:relcl\\t_\\t_\\n24\\to\\to\\tDET\\t_\\tDefinite=Def|Gender=Masc|Number=Sing|PronType=Art\\t25\\tdet\\t_\\t_\\n25\\tacesso\\tacesso\\tNOUN\\t_\\tGender=Masc|Number=Sing\\t23\\tobj\\t_\\t_\\n26-27\\tdessas\\t_\\t_\\t_\\t_\\t_\\t_\\t_\\t_\\n26\\tde\\tde\\tADP\\t_\\t_\\t28\\tcase\\t_\\t_\\n27\\tessas\\tesse\\tDET\\t_\\tGender=Fem|Number=Plur|PronType=Dem\\t28\\tdet\\t_\\t_\\n28\\tcomunidades\\tcomunidade\\tNOUN\\t_\\tGender=Fem|Number=Plur\\t25\\tnmod\\t_\\t_\\n29\\ta\\ta\\tADP\\t_\\t_\\t30\\tcase\\t_\\t_\\n30\\tdireitos\\tdireito\\tNOUN\\t_\\tGender=Masc|Number=Plur\\t25\\tnmod\\t_\\t_\\n31\\tfundamentais\\tfundamental\\tADJ\\t_\\tGender=Masc|Number=Plur\\t30\\tamod\\t_\\t_\\n32\\tcomo\\tcomo\\tADP\\t_\\t_\\t33\\tcase\\t_\\t_\\n33\\teducação\\teducação\\tNOUN\\t_\\tGender=Fem|Number=Sing\\t30\\tnmod\\t_\\tSpaceAfter=No\\n34\\t,\\t,\\tPUNCT\\t_\\t_\\t35\\tpunct\\t_\\t_\\n35\\tsaúde\\tsaúde\\tNOUN\\t_\\tGender=Fem|Number=Sing\\t33\\tconj\\t_\\t_\\n36\\te\\te\\tCCONJ\\t_\\t_\\t37\\tcc\\t_\\t_\\n37\\tterra\\tterra\\tNOUN\\t_\\tGender=Fem|Number=Sing\\t33\\tconj\\t_\\tSpaceAfter=No\\n38\\t,\\t,\\tPUNCT\\t_\\t_\\t41\\tpunct\\t_\\t_\\n39\\talém\\talém\\tADV\\t_\\tExtPos=SCONJ\\t41\\tcc\\t_\\t_\\n40\\tde\\tde\\tADP\\t_\\t_\\t39\\tfixed\\t_\\t_\\n41\\tpromover\\tpromover\\tVERB\\t_\\tVerbForm=Inf\\t23\\tconj\\t_\\t_\\n42\\to\\to\\tDET\\t_\\tDefinite=Def|Gender=Masc|Number=Sing|PronType=Art\\t43\\tdet\\t_\\t_\\n43\\trespeito\\trespeito\\tNOUN\\t_\\tGender=Masc|Number=Sing\\t41\\tobj\\t_\\t_\\n44-45\\tà\\t_\\t_\\t_\\t_\\t_\\t_\\t_\\t_\\n44\\ta\\ta\\tADP\\t_\\t_\\t47\\tcase\\t_\\t_\\n45\\ta\\to\\tDET\\t_\\tDefinite=Def|Gender=Fem|Number=Sing|PronType=Art\\t47\\tdet\\t_\\t_\\n46\\tsua\\tseu\\tDET\\t_\\tGender=Fem|Number=Sing|PronType=Prs\\t47\\tdet\\t_\\t_\\n47\\tautonomia\\tautonomia\\tNOUN\\t_\\tGender=Fem|Number=Sing\\t43\\tnmod\\t_\\t_\\n48\\te\\te\\tCCONJ\\t_\\t_\\t49\\tcc\\t_\\t_\\n49\\tformas\\tforma\\tNOUN\\t_\\tGender=Fem|Number=Plur\\t47\\tconj\\t_\\t_\\n50\\tde\\tde\\tADP\\t_\\t_\\t51\\tcase\\t_\\t_\\n51\\torganização\\torganização\\tNOUN\\t_\\tGender=Fem|Number=Sing\\t49\\tnmod\\t_\\t_\\n52\\tsocial\\tsocial\\tADJ\\t_\\tGender=Fem|Number=Sing\\t51\\tamod\\t_\\tSpaceAfter=No\\n53\\t.\\t.\\tPUNCT\\t_\\t_\\t5\\tpunct\\t_\\t_\\n\\n# sent_id = 13\\n# text = Somente através da ação conjunta de governos, sociedade civil e setor privado, em um meio de diálogo e colaboração, será possível alcançar a finalidade de construir uma sociedade mais justa e igualitária, onde todas as vozes e culturas sejam valorizadas e respeitadas.\\n1\\tSomente\\tsomente\\tADV\\t_\\t_\\t2\\tadvmod\\t_\\t_\\n2\\tatravés\\tatravés\\tADV\\t_\\t_\\t25\\tadvmod\\t_\\t_\\n3-4\\tda\\t_\\t_\\t_\\t_\\t_\\t_\\t_\\t_\\n3\\tde\\tde\\tADP\\t_\\t_\\t5\\tcase\\t_\\t_\\n4\\ta\\to\\tDET\\t_\\tDefinite=Def|Gender=Fem|Number=Sing|PronType=Art\\t5\\tdet\\t_\\t_\\n5\\tação\\tação\\tNOUN\\t_\\tGender=Fem|Number=Sing\\t2\\tobl\\t_\\t_\\n6\\tconjunta\\tconjunto\\tADJ\\t_\\tGender=Fem|Number=Sing\\t5\\tamod\\t_\\t_\\n7\\tde\\tde\\tADP\\t_\\t_\\t8\\tcase\\t_\\t_\\n8\\tgovernos\\tgoverno\\tNOUN\\t_\\tGender=Masc|Number=Plur\\t5\\tnmod\\t_\\tSpaceAfter=No\\n9\\t,\\t,\\tPUNCT\\t_\\t_\\t10\\tpunct\\t_\\t_\\n10\\tsociedade\\tsociedade\\tNOUN\\t_\\tExtPos=NOUN|Gender=Fem|Number=Sing\\t8\\tconj\\t_\\t_\\n11\\tcivil\\tcivil\\tADJ\\t_\\tGender=Fem|Number=Sing\\t10\\tamod\\t_\\t_\\n12\\te\\te\\tCCONJ\\t_\\t_\\t13\\tcc\\t_\\t_\\n13\\tsetor\\tsetor\\tNOUN\\t_\\tGender=Masc|Number=Sing\\t8\\tconj\\t_\\t_\\n14\\tprivado\\tprivado\\tADJ\\t_\\tGender=Masc|Number=Sing\\t13\\tamod\\t_\\tSpaceAfter=No\\n15\\t,\\t,\\tPUNCT\\t_\\t_\\t18\\tpunct\\t_\\t_\\n16\\tem\\tem\\tADP\\t_\\t_\\t18\\tcase\\t_\\t_\\n17\\tum\\tum\\tDET\\t_\\tDefinite=Ind|Gender=Masc|Number=Sing|PronType=Art\\t18\\tdet\\t_\\t_\\n18\\tmeio\\tmeio\\tNOUN\\t_\\tGender=Masc|Number=Sing\\t5\\tnmod\\t_\\t_\\n19\\tde\\tde\\tADP\\t_\\t_\\t20\\tcase\\t_\\t_\\n20\\tdiálogo\\tdiálogo\\tNOUN\\t_\\tGender=Masc|Number=Sing\\t18\\tnmod\\t_\\t_\\n21\\te\\te\\tCCONJ\\t_\\t_\\t22\\tcc\\t_\\t_\\n22\\tcolaboração\\tcolaboração\\tNOUN\\t_\\tGender=Fem|Number=Sing\\t20\\tconj\\t_\\tSpaceAfter=No\\n23\\t,\\t,\\tPUNCT\\t_\\t_\\t18\\tpunct\\t_\\t_\\n24\\tserá\\tser\\tAUX\\t_\\tMood=Ind|Number=Sing|Person=3|Tense=Fut|VerbForm=Fin\\t25\\tcop\\t_\\t_\\n25\\tpossível\\tpossível\\tADJ\\t_\\tGender=Masc|Number=Sing\\t0\\troot\\t_\\t_\\n26\\talcançar\\talcançar\\tVERB\\t_\\tVerbForm=Inf\\t25\\tcsubj\\t_\\t_\\n27\\ta\\to\\tDET\\t_\\tDefinite=Def|Gender=Fem|Number=Sing|PronType=Art\\t28\\tdet\\t_\\t_\\n28\\tfinalidade\\tfinalidade\\tNOUN\\t_\\tGender=Fem|Number=Sing\\t26\\tobj\\t_\\t_\\n29\\tde\\tde\\tSCONJ\\t_\\t_\\t30\\tmark\\t_\\t_\\n30\\tconstruir\\tconstruir\\tVERB\\t_\\tVerbForm=Inf\\t28\\tacl\\t_\\t_\\n31\\tuma\\tum\\tDET\\t_\\tDefinite=Ind|Gender=Fem|Number=Sing|PronType=Art\\t32\\tdet\\t_\\t_\\n32\\tsociedade\\tsociedade\\tNOUN\\t_\\tGender=Fem|Number=Sing\\t30\\tobj\\t_\\t_\\n33\\tmais\\tmais\\tADV\\t_\\t_\\t34\\tadvmod\\t_\\t_\\n34\\tjusta\\tjusto\\tADJ\\t_\\tGender=Fem|Number=Sing\\t32\\tamod\\t_\\t_\\n35\\te\\te\\tCCONJ\\t_\\t_\\t36\\tcc\\t_\\t_\\n36\\tigualitária\\tigualitário\\tADJ\\t_\\tGender=Fem|Number=Sing\\t34\\tconj\\t_\\tSpaceAfter=No\\n37\\t,\\t,\\tPUNCT\\t_\\t_\\t45\\tpunct\\t_\\t_\\n38\\tonde\\tonde\\tPRON\\t_\\tGender=Fem|Number=Sing|PronType=Rel\\t45\\tobl\\t_\\t_\\n39\\ttodas\\ttodo\\tDET\\t_\\tGender=Fem|Number=Plur|PronType=Tot\\t41\\tdet\\t_\\t_\\n40\\tas\\to\\tDET\\t_\\tDefinite=Def|Gender=Fem|Number=Plur|PronType=Art\\t39\\tfixed\\t_\\t_\\n41\\tvozes\\tvoz\\tNOUN\\t_\\tGender=Fem|Number=Plur\\t45\\tnsubj:pass\\t_\\t_\\n42\\te\\te\\tCCONJ\\t_\\t_\\t43\\tcc\\t_\\t_\\n43\\tculturas\\tcultura\\tNOUN\\t_\\tGender=Fem|Number=Plur\\t41\\tconj\\t_\\t_\\n44\\tsejam\\tser\\tAUX\\t_\\tMood=Sub|Number=Plur|Person=3|Tense=Pres|VerbForm=Fin\\t45\\taux:pass\\t_\\t_\\n45\\tvalorizadas\\tvalorizar\\tVERB\\t_\\tGender=Fem|Number=Plur|VerbForm=Part|Voice=Pass\\t32\\tacl:relcl\\t_\\t_\\n46\\te\\te\\tCCONJ\\t_\\t_\\t47\\tcc\\t_\\t_\\n47\\trespeitadas\\trespeitar\\tVERB\\t_\\tGender=Fem|Number=Plur|VerbForm=Part\\t45\\tconj\\t_\\tSpaceAfter=No\\n48\\t.\\t.\\tPUNCT\\t_\\t_\\t25\\tpunct\\t_\\tSpaceAfter=No\\n\\n\"\n",
            "}\n",
            "\n"
          ]
        }
      ]
    },
    {
      "cell_type": "markdown",
      "source": [
        "estamos interessados no campot \"result\""
      ],
      "metadata": {
        "id": "F69jKJUuct0l"
      }
    },
    {
      "cell_type": "code",
      "source": [
        "udpipe_output = response.json()[\"result\"]\n",
        "print(udpipe_output)"
      ],
      "metadata": {
        "id": "Ex746Gb7Ymuw",
        "colab": {
          "base_uri": "https://localhost:8080/"
        },
        "outputId": "7e4a14f8-e96f-4ee7-fb49-a725b6067f42"
      },
      "execution_count": 296,
      "outputs": [
        {
          "output_type": "stream",
          "name": "stdout",
          "text": [
            "# generator = UDPipe 2, https://lindat.mff.cuni.cz/services/udpipe\n",
            "# udpipe_model = portuguese-bosque-ud-2.12-230717\n",
            "# udpipe_model_licence = CC BY-NC-SA\n",
            "# newdoc\n",
            "# newpar\n",
            "# sent_id = 1\n",
            "# text = O Brasil é uma nação rica em diversidade cultural, abrigando uma multiplicidade de comunidades e povos tradicionais que são essenciais para a construção da identidade nacional.\n",
            "1\tO\to\tDET\t_\tDefinite=Def|Gender=Masc|Number=Sing|PronType=Art\t2\tdet\t_\t_\n",
            "2\tBrasil\tBrasil\tPROPN\t_\tGender=Masc|Number=Sing\t5\tnsubj\t_\t_\n",
            "3\té\tser\tAUX\t_\tMood=Ind|Number=Sing|Person=3|Tense=Pres|VerbForm=Fin\t5\tcop\t_\t_\n",
            "4\tuma\tum\tDET\t_\tDefinite=Ind|Gender=Fem|Number=Sing|PronType=Art\t5\tdet\t_\t_\n",
            "5\tnação\tnação\tNOUN\t_\tGender=Fem|Number=Sing\t0\troot\t_\t_\n",
            "6\trica\trico\tADJ\t_\tGender=Fem|Number=Sing\t5\tamod\t_\t_\n",
            "7\tem\tem\tADP\t_\t_\t8\tcase\t_\t_\n",
            "8\tdiversidade\tdiversidade\tNOUN\t_\tGender=Fem|Number=Sing\t6\tobl\t_\t_\n",
            "9\tcultural\tcultural\tADJ\t_\tGender=Fem|Number=Sing\t8\tamod\t_\tSpaceAfter=No\n",
            "10\t,\t,\tPUNCT\t_\t_\t11\tpunct\t_\t_\n",
            "11\tabrigando\tabrigar\tVERB\t_\tVerbForm=Ger\t5\tadvcl\t_\t_\n",
            "12\tuma\tum\tDET\t_\tDefinite=Ind|Gender=Fem|Number=Sing|PronType=Art\t13\tdet\t_\t_\n",
            "13\tmultiplicidade\tmultiplicidade\tNOUN\t_\tGender=Fem|Number=Sing\t11\tobj\t_\t_\n",
            "14\tde\tde\tADP\t_\t_\t15\tcase\t_\t_\n",
            "15\tcomunidades\tcomunidade\tNOUN\t_\tGender=Fem|Number=Plur\t13\tnmod\t_\t_\n",
            "16\te\te\tCCONJ\t_\t_\t17\tcc\t_\t_\n",
            "17\tpovos\tpovo\tNOUN\t_\tGender=Masc|Number=Plur\t15\tconj\t_\t_\n",
            "18\ttradicionais\ttradicional\tADJ\t_\tGender=Masc|Number=Plur\t17\tamod\t_\t_\n",
            "19\tque\tque\tPRON\t_\tGender=Masc|Number=Plur|PronType=Rel\t21\tnsubj\t_\t_\n",
            "20\tsão\tser\tAUX\t_\tMood=Ind|Number=Plur|Person=3|Tense=Pres|VerbForm=Fin\t21\tcop\t_\t_\n",
            "21\tessenciais\tessencial\tADJ\t_\tGender=Masc|Number=Plur\t15\tacl:relcl\t_\t_\n",
            "22\tpara\tpara\tADP\t_\t_\t24\tcase\t_\t_\n",
            "23\ta\to\tDET\t_\tDefinite=Def|Gender=Fem|Number=Sing|PronType=Art\t24\tdet\t_\t_\n",
            "24\tconstrução\tconstrução\tNOUN\t_\tGender=Fem|Number=Sing\t21\tobl\t_\t_\n",
            "25-26\tda\t_\t_\t_\t_\t_\t_\t_\t_\n",
            "25\tde\tde\tADP\t_\t_\t27\tcase\t_\t_\n",
            "26\ta\to\tDET\t_\tDefinite=Def|Gender=Fem|Number=Sing|PronType=Art\t27\tdet\t_\t_\n",
            "27\tidentidade\tidentidade\tNOUN\t_\tGender=Fem|Number=Sing\t24\tnmod\t_\t_\n",
            "28\tnacional\tnacional\tADJ\t_\tGender=Fem|Number=Sing\t27\tamod\t_\tSpaceAfter=No\n",
            "29\t.\t.\tPUNCT\t_\t_\t5\tpunct\t_\t_\n",
            "\n",
            "# sent_id = 2\n",
            "# text = No entanto, a valorização dessas comunidades enfrenta uma série de desafios que vão desde a falta de políticas públicas adequadas até o preconceito arraigado na sociedade.\n",
            "1-2\tNo\t_\t_\t_\t_\t_\t_\t_\t_\n",
            "1\tEm\tem\tADP\t_\tExtPos=CCONJ\t10\tcc\t_\t_\n",
            "2\to\to\tDET\t_\tDefinite=Def|Gender=Masc|Number=Sing|PronType=Art\t1\tfixed\t_\t_\n",
            "3\tentanto\tentanto\tNOUN\t_\tGender=Masc|Number=Sing\t1\tfixed\t_\tSpaceAfter=No\n",
            "4\t,\t,\tPUNCT\t_\t_\t1\tpunct\t_\t_\n",
            "5\ta\to\tDET\t_\tDefinite=Def|Gender=Fem|Number=Sing|PronType=Art\t6\tdet\t_\t_\n",
            "6\tvalorização\tvalorização\tNOUN\t_\tGender=Fem|Number=Sing\t10\tnsubj\t_\t_\n",
            "7-8\tdessas\t_\t_\t_\t_\t_\t_\t_\t_\n",
            "7\tde\tde\tADP\t_\t_\t9\tcase\t_\t_\n",
            "8\tessas\tesse\tDET\t_\tGender=Fem|Number=Plur|PronType=Dem\t9\tdet\t_\t_\n",
            "9\tcomunidades\tcomunidade\tNOUN\t_\tGender=Fem|Number=Plur\t6\tnmod\t_\t_\n",
            "10\tenfrenta\tenfrentar\tVERB\t_\tMood=Ind|Number=Sing|Person=3|Tense=Pres|VerbForm=Fin\t0\troot\t_\t_\n",
            "11\tuma\tum\tDET\t_\tDefinite=Ind|Gender=Fem|Number=Sing|PronType=Art\t12\tdet\t_\t_\n",
            "12\tsérie\tsérie\tNOUN\t_\tGender=Fem|Number=Sing\t10\tobj\t_\t_\n",
            "13\tde\tde\tADP\t_\t_\t14\tcase\t_\t_\n",
            "14\tdesafios\tdesafio\tNOUN\t_\tGender=Masc|Number=Plur\t12\tnmod\t_\t_\n",
            "15\tque\tque\tPRON\t_\tGender=Masc|Number=Plur|PronType=Rel\t16\tnsubj\t_\t_\n",
            "16\tvão\tir\tVERB\t_\tMood=Ind|Number=Plur|Person=3|Tense=Pres|VerbForm=Fin\t14\tacl:relcl\t_\t_\n",
            "17\tdesde\tdesde\tADP\t_\t_\t19\tcase\t_\t_\n",
            "18\ta\to\tDET\t_\tDefinite=Def|Gender=Fem|Number=Sing|PronType=Art\t19\tdet\t_\t_\n",
            "19\tfalta\tfalta\tNOUN\t_\tGender=Fem|Number=Sing\t16\tobl\t_\t_\n",
            "20\tde\tde\tADP\t_\t_\t21\tcase\t_\t_\n",
            "21\tpolíticas\tpolítica\tNOUN\t_\tGender=Fem|Number=Plur\t19\tnmod\t_\t_\n",
            "22\tpúblicas\tpúblico\tADJ\t_\tGender=Fem|Number=Plur\t21\tamod\t_\t_\n",
            "23\tadequadas\tadequado\tADJ\t_\tGender=Fem|Number=Plur\t21\tamod\t_\t_\n",
            "24\taté\taté\tADP\t_\t_\t26\tcase\t_\t_\n",
            "25\to\to\tDET\t_\tDefinite=Def|Gender=Masc|Number=Sing|PronType=Art\t26\tdet\t_\t_\n",
            "26\tpreconceito\tpreconceito\tNOUN\t_\tGender=Masc|Number=Sing\t19\tnmod\t_\t_\n",
            "27\tarraigado\tarraigar\tVERB\t_\tGender=Masc|Number=Sing|VerbForm=Part\t26\tacl\t_\t_\n",
            "28-29\tna\t_\t_\t_\t_\t_\t_\t_\t_\n",
            "28\tem\tem\tADP\t_\t_\t30\tcase\t_\t_\n",
            "29\ta\to\tDET\t_\tDefinite=Def|Gender=Fem|Number=Sing|PronType=Art\t30\tdet\t_\t_\n",
            "30\tsociedade\tsociedade\tNOUN\t_\tGender=Fem|Number=Sing\t27\tobl\t_\tSpaceAfter=No\n",
            "31\t.\t.\tPUNCT\t_\t_\t10\tpunct\t_\t_\n",
            "\n",
            "# sent_id = 3\n",
            "# text = Como ressalta o antropólogo Darcy Ribeiro em sua obra \"O Povo Brasileiro\", a miscigenação é um dos pilares da formação do Brasil, e é nas comunidades tradicionais que encontramos as raízes dessa miscigenação, que devem ser preservadas e valorizadas.\n",
            "1\tComo\tcomo\tSCONJ\t_\t_\t2\tmark\t_\t_\n",
            "2\tressalta\tressaltar\tVERB\t_\tMood=Ind|Number=Sing|Person=3|Tense=Pres|VerbForm=Fin\t19\tadvcl\t_\t_\n",
            "3\to\to\tDET\t_\tDefinite=Def|Gender=Masc|Number=Sing|PronType=Art\t4\tdet\t_\t_\n",
            "4\tantropólogo\tantropólogo\tNOUN\t_\tGender=Masc|Number=Sing\t2\tnsubj\t_\t_\n",
            "5\tDarcy\tDarcy\tPROPN\t_\tExtPos=PROPN|Gender=Masc|Number=Sing\t4\tappos\t_\t_\n",
            "6\tRibeiro\tRibeiro\tPROPN\t_\tNumber=Sing\t5\tflat:name\t_\t_\n",
            "7\tem\tem\tADP\t_\t_\t9\tcase\t_\t_\n",
            "8\tsua\tseu\tDET\t_\tGender=Fem|Number=Sing|PronType=Prs\t9\tdet\t_\t_\n",
            "9\tobra\tobra\tNOUN\t_\tGender=Fem|Number=Sing\t2\tobl\t_\t_\n",
            "10\t\"\t\"\tPUNCT\t_\t_\t11\tpunct\t_\tSpaceAfter=No\n",
            "11\tO\tO\tPROPN\t_\tExtPos=PROPN|Gender=Masc|Number=Sing|PronType=Art\t9\tappos\t_\t_\n",
            "12\tPovo\tPovo\tPROPN\t_\tNumber=Sing\t11\tflat:name\t_\t_\n",
            "13\tBrasileiro\tBrasileiro\tPROPN\t_\tNumber=Sing\t11\tflat:name\t_\tSpaceAfter=No\n",
            "14\t\"\t\"\tPUNCT\t_\t_\t11\tpunct\t_\tSpaceAfter=No\n",
            "15\t,\t,\tPUNCT\t_\t_\t2\tpunct\t_\t_\n",
            "16\ta\to\tDET\t_\tDefinite=Def|Gender=Fem|Number=Sing|PronType=Art\t17\tdet\t_\t_\n",
            "17\tmiscigenação\tmiscigenação\tNOUN\t_\tGender=Fem|Number=Sing\t19\tnsubj\t_\t_\n",
            "18\té\tser\tAUX\t_\tMood=Ind|Number=Sing|Person=3|Tense=Pres|VerbForm=Fin\t19\tcop\t_\t_\n",
            "19\tum\tum\tNUM\t_\tNumType=Card\t0\troot\t_\t_\n",
            "20-21\tdos\t_\t_\t_\t_\t_\t_\t_\t_\n",
            "20\tde\tde\tADP\t_\t_\t22\tcase\t_\t_\n",
            "21\tos\to\tDET\t_\tDefinite=Def|Gender=Masc|Number=Plur|PronType=Art\t22\tdet\t_\t_\n",
            "22\tpilares\tpilar\tNOUN\t_\tGender=Masc|Number=Plur\t19\tnmod\t_\t_\n",
            "23-24\tda\t_\t_\t_\t_\t_\t_\t_\t_\n",
            "23\tde\tde\tADP\t_\t_\t25\tcase\t_\t_\n",
            "24\ta\to\tDET\t_\tDefinite=Def|Gender=Fem|Number=Sing|PronType=Art\t25\tdet\t_\t_\n",
            "25\tformação\tformação\tNOUN\t_\tGender=Fem|Number=Sing\t22\tnmod\t_\t_\n",
            "26-27\tdo\t_\t_\t_\t_\t_\t_\t_\t_\n",
            "26\tde\tde\tADP\t_\t_\t28\tcase\t_\t_\n",
            "27\to\to\tDET\t_\tDefinite=Def|Gender=Masc|Number=Sing|PronType=Art\t28\tdet\t_\t_\n",
            "28\tBrasil\tBrasil\tPROPN\t_\tGender=Masc|Number=Sing\t25\tnmod\t_\tSpaceAfter=No\n",
            "29\t,\t,\tPUNCT\t_\t_\t37\tpunct\t_\t_\n",
            "30\te\te\tCCONJ\t_\t_\t37\tcc\t_\t_\n",
            "31\té\té\tSCONJ\t_\t_\t37\tmark\t_\t_\n",
            "32-33\tnas\t_\t_\t_\t_\t_\t_\t_\t_\n",
            "32\tem\tem\tADP\t_\t_\t34\tcase\t_\t_\n",
            "33\tas\to\tDET\t_\tDefinite=Def|Gender=Fem|Number=Plur|PronType=Art\t34\tdet\t_\t_\n",
            "34\tcomunidades\tcomunidade\tNOUN\t_\tGender=Fem|Number=Plur\t37\tobl\t_\t_\n",
            "35\ttradicionais\ttradicional\tADJ\t_\tGender=Fem|Number=Plur\t34\tamod\t_\t_\n",
            "36\tque\tque\tSCONJ\t_\t_\t37\tmark\t_\t_\n",
            "37\tencontramos\tencontrar\tVERB\t_\tMood=Ind|Number=Plur|Person=1|Tense=Pres|VerbForm=Fin\t19\tconj\t_\t_\n",
            "38\tas\to\tDET\t_\tDefinite=Def|Gender=Fem|Number=Plur|PronType=Art\t39\tdet\t_\t_\n",
            "39\traízes\traiz\tNOUN\t_\tGender=Fem|Number=Plur\t37\tobj\t_\t_\n",
            "40-41\tdessa\t_\t_\t_\t_\t_\t_\t_\t_\n",
            "40\tde\tde\tADP\t_\t_\t42\tcase\t_\t_\n",
            "41\tessa\tesse\tDET\t_\tGender=Fem|Number=Sing|PronType=Dem\t42\tdet\t_\t_\n",
            "42\tmiscigenação\tmiscigenação\tNOUN\t_\tGender=Fem|Number=Sing\t39\tnmod\t_\tSpaceAfter=No\n",
            "43\t,\t,\tPUNCT\t_\t_\t45\tpunct\t_\t_\n",
            "44\tque\tque\tPRON\t_\tGender=Fem|Number=Plur|PronType=Rel\t45\tnsubj:pass\t_\t_\n",
            "45\tdevem\tdever\tVERB\t_\tMood=Ind|Number=Plur|Person=3|Tense=Pres|VerbForm=Fin\t39\tacl:relcl\t_\t_\n",
            "46\tser\tser\tAUX\t_\tVerbForm=Inf\t47\taux:pass\t_\t_\n",
            "47\tpreservadas\tpreservar\tVERB\t_\tGender=Fem|Number=Plur|VerbForm=Part|Voice=Pass\t45\txcomp\t_\t_\n",
            "48\te\te\tCCONJ\t_\t_\t49\tcc\t_\t_\n",
            "49\tvalorizadas\tvalorizar\tVERB\t_\tGender=Fem|Number=Plur|VerbForm=Part\t47\tconj\t_\tSpaceAfter=No\n",
            "50\t.\t.\tPUNCT\t_\t_\t19\tpunct\t_\tSpacesAfter=\\n\\n\n",
            "\n",
            "# newpar\n",
            "# sent_id = 4\n",
            "# text = Os desafios para a valorização dessas comunidades são multifacetados.\n",
            "1\tOs\to\tDET\t_\tDefinite=Def|Gender=Masc|Number=Plur|PronType=Art\t2\tdet\t_\t_\n",
            "2\tdesafios\tdesafio\tNOUN\t_\tGender=Masc|Number=Plur\t10\tnsubj:pass\t_\t_\n",
            "3\tpara\tpara\tADP\t_\t_\t5\tcase\t_\t_\n",
            "4\ta\to\tDET\t_\tDefinite=Def|Gender=Fem|Number=Sing|PronType=Art\t5\tdet\t_\t_\n",
            "5\tvalorização\tvalorização\tNOUN\t_\tGender=Fem|Number=Sing\t2\tnmod\t_\t_\n",
            "6-7\tdessas\t_\t_\t_\t_\t_\t_\t_\t_\n",
            "6\tde\tde\tADP\t_\t_\t8\tcase\t_\t_\n",
            "7\tessas\tesse\tDET\t_\tGender=Fem|Number=Plur|PronType=Dem\t8\tdet\t_\t_\n",
            "8\tcomunidades\tcomunidade\tNOUN\t_\tGender=Fem|Number=Plur\t5\tnmod\t_\t_\n",
            "9\tsão\tser\tAUX\t_\tMood=Ind|Number=Plur|Person=3|Tense=Pres|VerbForm=Fin\t10\taux:pass\t_\t_\n",
            "10\tmultifacetados\tmultifacetar\tVERB\t_\tGender=Masc|Number=Plur|VerbForm=Part|Voice=Pass\t0\troot\t_\tSpaceAfter=No\n",
            "11\t.\t.\tPUNCT\t_\t_\t10\tpunct\t_\t_\n",
            "\n",
            "# sent_id = 5\n",
            "# text = Em primeiro lugar, há uma lacuna significativa nas políticas públicas voltadas para a proteção e promoção dos direitos desses povos.\n",
            "1\tEm\tem\tADP\t_\t_\t3\tcase\t_\t_\n",
            "2\tprimeiro\tprimeiro\tADJ\t_\tGender=Masc|Number=Sing|NumType=Ord\t3\tamod\t_\t_\n",
            "3\tlugar\tlugar\tNOUN\t_\tGender=Masc|Number=Sing\t5\tobl\t_\tSpaceAfter=No\n",
            "4\t,\t,\tPUNCT\t_\t_\t3\tpunct\t_\t_\n",
            "5\thá\thaver\tVERB\t_\tMood=Ind|Number=Sing|Person=3|Tense=Pres|VerbForm=Fin\t0\troot\t_\t_\n",
            "6\tuma\tum\tDET\t_\tDefinite=Ind|Gender=Fem|Number=Sing|PronType=Art\t7\tdet\t_\t_\n",
            "7\tlacuna\tlacuna\tNOUN\t_\tGender=Fem|Number=Sing\t5\tobj\t_\t_\n",
            "8\tsignificativa\tsignificativo\tADJ\t_\tGender=Fem|Number=Sing\t7\tamod\t_\t_\n",
            "9-10\tnas\t_\t_\t_\t_\t_\t_\t_\t_\n",
            "9\tem\tem\tADP\t_\t_\t11\tcase\t_\t_\n",
            "10\tas\to\tDET\t_\tDefinite=Def|Gender=Fem|Number=Plur|PronType=Art\t11\tdet\t_\t_\n",
            "11\tpolíticas\tpolítica\tNOUN\t_\tGender=Fem|Number=Plur\t7\tnmod\t_\t_\n",
            "12\tpúblicas\tpúblico\tADJ\t_\tGender=Fem|Number=Plur\t11\tamod\t_\t_\n",
            "13\tvoltadas\tvoltar\tVERB\t_\tGender=Fem|Number=Plur|VerbForm=Part\t11\tacl\t_\t_\n",
            "14\tpara\tpara\tADP\t_\t_\t16\tcase\t_\t_\n",
            "15\ta\to\tDET\t_\tDefinite=Def|Gender=Fem|Number=Sing|PronType=Art\t16\tdet\t_\t_\n",
            "16\tproteção\tproteção\tNOUN\t_\tGender=Fem|Number=Sing\t13\tobj\t_\t_\n",
            "17\te\te\tCCONJ\t_\t_\t18\tcc\t_\t_\n",
            "18\tpromoção\tpromoção\tNOUN\t_\tGender=Fem|Number=Sing\t16\tconj\t_\t_\n",
            "19-20\tdos\t_\t_\t_\t_\t_\t_\t_\t_\n",
            "19\tde\tde\tADP\t_\t_\t21\tcase\t_\t_\n",
            "20\tos\to\tDET\t_\tDefinite=Def|Gender=Masc|Number=Plur|PronType=Art\t21\tdet\t_\t_\n",
            "21\tdireitos\tdireito\tNOUN\t_\tGender=Masc|Number=Plur\t18\tnmod\t_\t_\n",
            "22-23\tdesses\t_\t_\t_\t_\t_\t_\t_\t_\n",
            "22\tde\tde\tADP\t_\t_\t24\tcase\t_\t_\n",
            "23\tesses\tesse\tDET\t_\tGender=Masc|Number=Plur|PronType=Dem\t24\tdet\t_\t_\n",
            "24\tpovos\tpovo\tNOUN\t_\tGender=Masc|Number=Plur\t21\tnmod\t_\tSpaceAfter=No\n",
            "25\t.\t.\tPUNCT\t_\t_\t5\tpunct\t_\t_\n",
            "\n",
            "# sent_id = 6\n",
            "# text = O filósofo Paulo Freire, em sua obra \"Pedagogia do Oprimido\", destaca a importância da educação como ferramenta de transformação social.\n",
            "1\tO\to\tDET\t_\tDefinite=Def|Gender=Masc|Number=Sing|PronType=Art\t2\tdet\t_\t_\n",
            "2\tfilósofo\tfilósofo\tNOUN\t_\tGender=Masc|Number=Sing\t16\tnsubj\t_\t_\n",
            "3\tPaulo\tPaulo\tPROPN\t_\tExtPos=PROPN|Gender=Masc|Number=Sing\t2\tappos\t_\t_\n",
            "4\tFreire\tFreire\tPROPN\t_\tNumber=Sing\t3\tflat:name\t_\tSpaceAfter=No\n",
            "5\t,\t,\tPUNCT\t_\t_\t8\tpunct\t_\t_\n",
            "6\tem\tem\tADP\t_\t_\t8\tcase\t_\t_\n",
            "7\tsua\tseu\tDET\t_\tGender=Fem|Number=Sing|PronType=Prs\t8\tdet\t_\t_\n",
            "8\tobra\tobra\tNOUN\t_\tGender=Fem|Number=Sing\t16\tobl\t_\t_\n",
            "9\t\"\t\"\tPUNCT\t_\t_\t10\tpunct\t_\tSpaceAfter=No\n",
            "10\tPedagogia\tPedagogia\tPROPN\t_\tGender=Fem|Number=Sing\t8\tappos\t_\t_\n",
            "11-12\tdo\t_\t_\t_\t_\t_\t_\t_\t_\n",
            "11\tde\tde\tADP\t_\t_\t13\tcase\t_\t_\n",
            "12\to\to\tDET\t_\tDefinite=Def|Gender=Masc|Number=Sing|PronType=Art\t13\tdet\t_\t_\n",
            "13\tOprimido\tOprimido\tPROPN\t_\tNumber=Sing\t10\tnmod\t_\tSpaceAfter=No\n",
            "14\t\"\t\"\tPUNCT\t_\t_\t10\tpunct\t_\tSpaceAfter=No\n",
            "15\t,\t,\tPUNCT\t_\t_\t8\tpunct\t_\t_\n",
            "16\tdestaca\tdestacar\tVERB\t_\tMood=Ind|Number=Sing|Person=3|Tense=Pres|VerbForm=Fin\t0\troot\t_\t_\n",
            "17\ta\to\tDET\t_\tDefinite=Def|Gender=Fem|Number=Sing|PronType=Art\t18\tdet\t_\t_\n",
            "18\timportância\timportância\tNOUN\t_\tGender=Fem|Number=Sing\t16\tobj\t_\t_\n",
            "19-20\tda\t_\t_\t_\t_\t_\t_\t_\t_\n",
            "19\tde\tde\tADP\t_\t_\t21\tcase\t_\t_\n",
            "20\ta\to\tDET\t_\tDefinite=Def|Gender=Fem|Number=Sing|PronType=Art\t21\tdet\t_\t_\n",
            "21\teducação\teducação\tNOUN\t_\tGender=Fem|Number=Sing\t18\tnmod\t_\t_\n",
            "22\tcomo\tcomo\tADP\t_\t_\t23\tcase\t_\t_\n",
            "23\tferramenta\tferramenta\tNOUN\t_\tGender=Fem|Number=Sing\t16\txcomp\t_\t_\n",
            "24\tde\tde\tADP\t_\t_\t25\tcase\t_\t_\n",
            "25\ttransformação\ttransformação\tNOUN\t_\tGender=Fem|Number=Sing\t23\tnmod\t_\t_\n",
            "26\tsocial\tsocial\tADJ\t_\tGender=Fem|Number=Sing\t25\tamod\t_\tSpaceAfter=No\n",
            "27\t.\t.\tPUNCT\t_\t_\t16\tpunct\t_\t_\n",
            "\n",
            "# sent_id = 7\n",
            "# text = No entanto, muitas comunidades tradicionais ainda enfrentam dificuldades de acesso à educação de qualidade, o que perpetua o ciclo de marginalização e desvalorização.\n",
            "1-2\tNo\t_\t_\t_\t_\t_\t_\t_\t_\n",
            "1\tEm\tem\tADP\t_\tExtPos=CCONJ\t9\tcc\t_\t_\n",
            "2\to\to\tDET\t_\tDefinite=Def|Gender=Masc|Number=Sing|PronType=Art\t1\tfixed\t_\t_\n",
            "3\tentanto\tentanto\tNOUN\t_\tGender=Masc|Number=Sing\t1\tfixed\t_\tSpaceAfter=No\n",
            "4\t,\t,\tPUNCT\t_\t_\t1\tpunct\t_\t_\n",
            "5\tmuitas\tmuito\tDET\t_\tGender=Fem|Number=Plur|PronType=Ind\t6\tdet\t_\t_\n",
            "6\tcomunidades\tcomunidade\tNOUN\t_\tGender=Fem|Number=Plur\t9\tnsubj\t_\t_\n",
            "7\ttradicionais\ttradicional\tADJ\t_\tGender=Fem|Number=Plur\t6\tamod\t_\t_\n",
            "8\tainda\tainda\tADV\t_\t_\t9\tadvmod\t_\t_\n",
            "9\tenfrentam\tenfrentar\tVERB\t_\tMood=Ind|Number=Plur|Person=3|Tense=Pres|VerbForm=Fin\t0\troot\t_\t_\n",
            "10\tdificuldades\tdificuldade\tNOUN\t_\tGender=Fem|Number=Plur\t9\tobj\t_\t_\n",
            "11\tde\tde\tADP\t_\t_\t12\tcase\t_\t_\n",
            "12\tacesso\tacesso\tNOUN\t_\tGender=Masc|Number=Sing\t10\tnmod\t_\t_\n",
            "13-14\tà\t_\t_\t_\t_\t_\t_\t_\t_\n",
            "13\ta\ta\tADP\t_\t_\t15\tcase\t_\t_\n",
            "14\ta\to\tDET\t_\tDefinite=Def|Gender=Fem|Number=Sing|PronType=Art\t15\tdet\t_\t_\n",
            "15\teducação\teducação\tNOUN\t_\tGender=Fem|Number=Sing\t12\tnmod\t_\t_\n",
            "16\tde\tde\tADP\t_\t_\t17\tcase\t_\t_\n",
            "17\tqualidade\tqualidade\tNOUN\t_\tGender=Fem|Number=Sing\t15\tnmod\t_\tSpaceAfter=No\n",
            "18\t,\t,\tPUNCT\t_\t_\t9\tpunct\t_\t_\n",
            "19\to\to\tPRON\t_\tGender=Masc|Number=Sing|PronType=Dem\t9\tappos\t_\t_\n",
            "20\tque\tque\tPRON\t_\tGender=Masc|Number=Sing|PronType=Rel\t21\tnsubj\t_\t_\n",
            "21\tperpetua\tperpetuar\tVERB\t_\tMood=Ind|Number=Sing|Person=3|Tense=Pres|VerbForm=Fin\t19\tacl:relcl\t_\t_\n",
            "22\to\to\tDET\t_\tDefinite=Def|Gender=Masc|Number=Sing|PronType=Art\t23\tdet\t_\t_\n",
            "23\tciclo\tciclo\tNOUN\t_\tGender=Masc|Number=Sing\t21\tobj\t_\t_\n",
            "24\tde\tde\tADP\t_\t_\t25\tcase\t_\t_\n",
            "25\tmarginalização\tmarginalização\tNOUN\t_\tGender=Fem|Number=Sing\t23\tnmod\t_\t_\n",
            "26\te\te\tCCONJ\t_\t_\t27\tcc\t_\t_\n",
            "27\tdesvalorização\tdesvalorização\tNOUN\t_\tGender=Fem|Number=Sing\t25\tconj\t_\tSpaceAfter=No\n",
            "28\t.\t.\tPUNCT\t_\t_\t9\tpunct\t_\tSpacesAfter=\\n\\n\n",
            "\n",
            "# newpar\n",
            "# sent_id = 8\n",
            "# text = Além disso, a preservação do meio ambiente, muitas vezes inseparável das práticas culturais dessas comunidades, é ameaçada pelo avanço do agronegócio e da exploração predatória dos recursos naturais.\n",
            "1\tAlém\talém\tADV\t_\tExtPos=CCONJ\t3\tcc\t_\t_\n",
            "2-3\tdisso\t_\t_\t_\t_\t_\t_\t_\tSpaceAfter=No\n",
            "2\tde\tde\tADP\t_\t_\t1\tfixed\t_\t_\n",
            "3\tisso\tisso\tPRON\t_\tGender=Masc|Number=Sing|PronType=Dem\t24\tobl\t_\t_\n",
            "4\t,\t,\tPUNCT\t_\t_\t3\tpunct\t_\t_\n",
            "5\ta\to\tDET\t_\tDefinite=Def|Gender=Fem|Number=Sing|PronType=Art\t6\tdet\t_\t_\n",
            "6\tpreservação\tpreservação\tNOUN\t_\tGender=Fem|Number=Sing\t24\tnsubj:pass\t_\t_\n",
            "7-8\tdo\t_\t_\t_\t_\t_\t_\t_\t_\n",
            "7\tde\tde\tADP\t_\t_\t9\tcase\t_\t_\n",
            "8\to\to\tDET\t_\tDefinite=Def|Gender=Masc|Number=Sing|PronType=Art\t9\tdet\t_\t_\n",
            "9\tmeio\tmeio\tNOUN\t_\tExtPos=NOUN|Gender=Masc|Number=Sing\t6\tnmod\t_\t_\n",
            "10\tambiente\tambiente\tNOUN\t_\tGender=Masc|Number=Sing\t9\tnmod\t_\tSpaceAfter=No\n",
            "11\t,\t,\tPUNCT\t_\t_\t14\tpunct\t_\t_\n",
            "12\tmuitas\tmuitas\tADP\t_\t_\t13\tcase\t_\t_\n",
            "13\tvezes\tvez\tNOUN\t_\tGender=Fem|Number=Plur\t14\tobl\t_\t_\n",
            "14\tinseparável\tinseparável\tADJ\t_\tGender=Fem|Number=Sing\t6\tamod\t_\t_\n",
            "15-16\tdas\t_\t_\t_\t_\t_\t_\t_\t_\n",
            "15\tde\tde\tADP\t_\t_\t17\tcase\t_\t_\n",
            "16\tas\to\tDET\t_\tDefinite=Def|Gender=Fem|Number=Plur|PronType=Art\t17\tdet\t_\t_\n",
            "17\tpráticas\tprática\tNOUN\t_\tGender=Fem|Number=Plur\t14\tobl\t_\t_\n",
            "18\tculturais\tcultural\tADJ\t_\tGender=Fem|Number=Plur\t17\tamod\t_\t_\n",
            "19-20\tdessas\t_\t_\t_\t_\t_\t_\t_\t_\n",
            "19\tde\tde\tADP\t_\t_\t21\tcase\t_\t_\n",
            "20\tessas\tesse\tDET\t_\tGender=Fem|Number=Plur|PronType=Dem\t21\tdet\t_\t_\n",
            "21\tcomunidades\tcomunidade\tNOUN\t_\tGender=Fem|Number=Plur\t17\tnmod\t_\tSpaceAfter=No\n",
            "22\t,\t,\tPUNCT\t_\t_\t14\tpunct\t_\t_\n",
            "23\té\tser\tAUX\t_\tMood=Ind|Number=Sing|Person=3|Tense=Pres|VerbForm=Fin\t24\taux:pass\t_\t_\n",
            "24\tameaçada\tameaçar\tVERB\t_\tGender=Fem|Number=Sing|VerbForm=Part|Voice=Pass\t0\troot\t_\t_\n",
            "25-26\tpelo\t_\t_\t_\t_\t_\t_\t_\t_\n",
            "25\tpor\tpor\tADP\t_\t_\t27\tcase\t_\t_\n",
            "26\to\to\tDET\t_\tDefinite=Def|Gender=Masc|Number=Sing|PronType=Art\t27\tdet\t_\t_\n",
            "27\tavanço\tavanço\tNOUN\t_\tGender=Masc|Number=Sing\t24\tobl:agent\t_\t_\n",
            "28-29\tdo\t_\t_\t_\t_\t_\t_\t_\t_\n",
            "28\tde\tde\tADP\t_\t_\t30\tcase\t_\t_\n",
            "29\to\to\tDET\t_\tDefinite=Def|Gender=Masc|Number=Sing|PronType=Art\t30\tdet\t_\t_\n",
            "30\tagronegócio\tagronegócio\tNOUN\t_\tGender=Masc|Number=Sing\t27\tnmod\t_\t_\n",
            "31\te\te\tCCONJ\t_\t_\t34\tcc\t_\t_\n",
            "32-33\tda\t_\t_\t_\t_\t_\t_\t_\t_\n",
            "32\tde\tde\tADP\t_\t_\t34\tcase\t_\t_\n",
            "33\ta\to\tDET\t_\tDefinite=Def|Gender=Fem|Number=Sing|PronType=Art\t34\tdet\t_\t_\n",
            "34\texploração\texploração\tNOUN\t_\tGender=Fem|Number=Sing\t27\tconj\t_\t_\n",
            "35\tpredatória\tpredatório\tADJ\t_\tGender=Fem|Number=Sing\t34\tamod\t_\t_\n",
            "36-37\tdos\t_\t_\t_\t_\t_\t_\t_\t_\n",
            "36\tde\tde\tADP\t_\t_\t38\tcase\t_\t_\n",
            "37\tos\to\tDET\t_\tDefinite=Def|Gender=Masc|Number=Plur|PronType=Art\t38\tdet\t_\t_\n",
            "38\trecursos\trecurso\tNOUN\t_\tGender=Masc|Number=Plur\t34\tnmod\t_\t_\n",
            "39\tnaturais\tnatural\tADJ\t_\tGender=Masc|Number=Plur\t38\tamod\t_\tSpaceAfter=No\n",
            "40\t.\t.\tPUNCT\t_\t_\t24\tpunct\t_\t_\n",
            "\n",
            "# sent_id = 9\n",
            "# text = A filósofa brasileira Marilena Chaui, em sua obra \"Brasil: Mito Fundador e Sociedade Autoritária\", discute a relação entre desenvolvimento econômico e degradação ambiental, alertando para os impactos negativos sobre as comunidades tradicionais.\n",
            "1\tA\to\tDET\t_\tDefinite=Def|Gender=Fem|Number=Sing|PronType=Art\t2\tdet\t_\t_\n",
            "2\tfilósofa\tfilósofa\tNOUN\t_\tGender=Fem|Number=Sing\t20\tnsubj\t_\t_\n",
            "3\tbrasileira\tbrasileiro\tADJ\t_\tGender=Fem|Number=Sing\t2\tamod\t_\t_\n",
            "4\tMarilena\tMarilena\tPROPN\t_\tExtPos=PROPN|Gender=Fem|Number=Sing\t2\tappos\t_\t_\n",
            "5\tChaui\tChaui\tPROPN\t_\tNumber=Sing\t4\tflat:name\t_\tSpaceAfter=No\n",
            "6\t,\t,\tPUNCT\t_\t_\t9\tpunct\t_\t_\n",
            "7\tem\tem\tADP\t_\t_\t9\tcase\t_\t_\n",
            "8\tsua\tseu\tDET\t_\tGender=Fem|Number=Sing|PronType=Prs\t9\tdet\t_\t_\n",
            "9\tobra\tobra\tNOUN\t_\tGender=Fem|Number=Sing\t20\tobl\t_\t_\n",
            "10\t\"\t\"\tPUNCT\t_\t_\t11\tpunct\t_\tSpaceAfter=No\n",
            "11\tBrasil\tBrasil\tPROPN\t_\tGender=Fem|Number=Sing\t9\tappos\t_\tSpaceAfter=No\n",
            "12\t:\t:\tPUNCT\t_\t_\t11\tpunct\t_\t_\n",
            "13\tMito\tMito\tPROPN\t_\tNumber=Sing\t11\tappos\t_\t_\n",
            "14\tFundador\tFundador\tPROPN\t_\tNumber=Sing\t13\tflat:name\t_\t_\n",
            "15\te\te\tCCONJ\t_\t_\t13\tflat:name\t_\t_\n",
            "16\tSociedade\tSociedade\tPROPN\t_\tNumber=Sing\t13\tflat:name\t_\t_\n",
            "17\tAutoritária\tAutoritária\tPROPN\t_\tNumber=Sing\t13\tflat:name\t_\tSpaceAfter=No\n",
            "18\t\"\t\"\tPUNCT\t_\t_\t11\tpunct\t_\tSpaceAfter=No\n",
            "19\t,\t,\tPUNCT\t_\t_\t9\tpunct\t_\t_\n",
            "20\tdiscute\tdiscutir\tVERB\t_\tMood=Ind|Number=Sing|Person=3|Tense=Pres|VerbForm=Fin\t0\troot\t_\t_\n",
            "21\ta\to\tDET\t_\tDefinite=Def|Gender=Fem|Number=Sing|PronType=Art\t22\tdet\t_\t_\n",
            "22\trelação\trelação\tNOUN\t_\tGender=Fem|Number=Sing\t20\tobj\t_\t_\n",
            "23\tentre\tentre\tADP\t_\t_\t24\tcase\t_\t_\n",
            "24\tdesenvolvimento\tdesenvolvimento\tNOUN\t_\tGender=Masc|Number=Sing\t22\tnmod\t_\t_\n",
            "25\teconômico\teconômico\tADJ\t_\tGender=Masc|Number=Sing\t24\tamod\t_\t_\n",
            "26\te\te\tCCONJ\t_\t_\t27\tcc\t_\t_\n",
            "27\tdegradação\tdegradação\tNOUN\t_\tGender=Fem|Number=Sing\t24\tconj\t_\t_\n",
            "28\tambiental\tambiental\tADJ\t_\tGender=Fem|Number=Sing\t27\tamod\t_\tSpaceAfter=No\n",
            "29\t,\t,\tPUNCT\t_\t_\t30\tpunct\t_\t_\n",
            "30\talertando\talertar\tVERB\t_\tVerbForm=Ger\t20\tadvcl\t_\t_\n",
            "31\tpara\tpara\tADP\t_\t_\t33\tcase\t_\t_\n",
            "32\tos\to\tDET\t_\tDefinite=Def|Gender=Masc|Number=Plur|PronType=Art\t33\tdet\t_\t_\n",
            "33\timpactos\timpacto\tNOUN\t_\tGender=Masc|Number=Plur\t30\tobj\t_\t_\n",
            "34\tnegativos\tnegativo\tADJ\t_\tGender=Masc|Number=Plur\t33\tamod\t_\t_\n",
            "35\tsobre\tsobre\tADP\t_\t_\t37\tcase\t_\t_\n",
            "36\tas\to\tDET\t_\tDefinite=Def|Gender=Fem|Number=Plur|PronType=Art\t37\tdet\t_\t_\n",
            "37\tcomunidades\tcomunidade\tNOUN\t_\tGender=Fem|Number=Plur\t33\tnmod\t_\t_\n",
            "38\ttradicionais\ttradicional\tADJ\t_\tGender=Fem|Number=Plur\t37\tamod\t_\tSpaceAfter=No\n",
            "39\t.\t.\tPUNCT\t_\t_\t20\tpunct\t_\t_\n",
            "\n",
            "# sent_id = 10\n",
            "# text = Nesse contexto, torna-se essencial adotar políticas de desenvolvimento sustentável que respeitem e incluam essas comunidades como agentes ativos na preservação ambiental.\n",
            "1-2\tNesse\t_\t_\t_\t_\t_\t_\t_\t_\n",
            "1\tEm\tem\tADP\t_\t_\t3\tcase\t_\t_\n",
            "2\tesse\tesse\tDET\t_\tGender=Masc|Number=Sing|PronType=Dem\t3\tdet\t_\t_\n",
            "3\tcontexto\tcontexto\tNOUN\t_\tGender=Masc|Number=Sing\t5\tobl\t_\tSpaceAfter=No\n",
            "4\t,\t,\tPUNCT\t_\t_\t3\tpunct\t_\t_\n",
            "5-6\ttorna-se\t_\t_\t_\t_\t_\t_\t_\t_\n",
            "5\ttorna\ttornar\tVERB\t_\tMood=Ind|Number=Sing|Person=3|Tense=Pres|VerbForm=Fin\t0\troot\t_\t_\n",
            "6\tse\tse\tPRON\t_\tCase=Acc|Gender=Masc|Number=Sing|Person=3|PronType=Prs\t5\texpl\t_\t_\n",
            "7\tessencial\tessencial\tADJ\t_\tGender=Masc|Number=Sing\t5\txcomp\t_\t_\n",
            "8\tadotar\tadotar\tVERB\t_\tVerbForm=Inf\t5\txcomp\t_\t_\n",
            "9\tpolíticas\tpolítica\tNOUN\t_\tGender=Fem|Number=Plur\t8\tobj\t_\t_\n",
            "10\tde\tde\tADP\t_\t_\t11\tcase\t_\t_\n",
            "11\tdesenvolvimento\tdesenvolvimento\tNOUN\t_\tGender=Masc|Number=Sing\t9\tnmod\t_\t_\n",
            "12\tsustentável\tsustentável\tADJ\t_\tGender=Masc|Number=Sing\t11\tamod\t_\t_\n",
            "13\tque\tque\tPRON\t_\tGender=Fem|Number=Plur|PronType=Rel\t14\tnsubj\t_\t_\n",
            "14\trespeitem\trespeitar\tVERB\t_\tMood=Sub|Number=Plur|Person=3|Tense=Pres|VerbForm=Fin\t9\tacl:relcl\t_\t_\n",
            "15\te\te\tCCONJ\t_\t_\t16\tcc\t_\t_\n",
            "16\tincluam\tincluar\tVERB\t_\tMood=Ind|Number=Plur|Person=3|Tense=Pres|VerbForm=Fin\t14\tconj\t_\t_\n",
            "17\tessas\tesse\tDET\t_\tGender=Fem|Number=Plur|PronType=Dem\t18\tdet\t_\t_\n",
            "18\tcomunidades\tcomunidade\tNOUN\t_\tGender=Fem|Number=Plur\t16\tobj\t_\t_\n",
            "19\tcomo\tcomo\tADP\t_\t_\t20\tcase\t_\t_\n",
            "20\tagentes\tagente\tNOUN\t_\tGender=Masc|Number=Plur\t16\txcomp\t_\t_\n",
            "21\tativos\tativo\tADJ\t_\tGender=Masc|Number=Plur\t20\tamod\t_\t_\n",
            "22-23\tna\t_\t_\t_\t_\t_\t_\t_\t_\n",
            "22\tem\tem\tADP\t_\t_\t24\tcase\t_\t_\n",
            "23\ta\to\tDET\t_\tDefinite=Def|Gender=Fem|Number=Sing|PronType=Art\t24\tdet\t_\t_\n",
            "24\tpreservação\tpreservação\tNOUN\t_\tGender=Fem|Number=Sing\t20\tnmod\t_\t_\n",
            "25\tambiental\tambiental\tADJ\t_\tGender=Fem|Number=Sing\t24\tamod\t_\tSpaceAfter=No\n",
            "26\t.\t.\tPUNCT\t_\t_\t5\tpunct\t_\tSpacesAfter=\\n\\n\n",
            "\n",
            "# newpar\n",
            "# sent_id = 11\n",
            "# text = Em suma, a valorização de comunidades e povos tradicionais no Brasil requer uma abordagem holística que reconheça sua importância cultural, social e ambiental.\n",
            "1\tEm\tem\tADP\t_\t_\t2\tcase\t_\t_\n",
            "2\tsuma\tsuma\tNOUN\t_\tGender=Fem|Number=Sing\t14\tobl\t_\tSpaceAfter=No\n",
            "3\t,\t,\tPUNCT\t_\t_\t2\tpunct\t_\t_\n",
            "4\ta\to\tDET\t_\tDefinite=Def|Gender=Fem|Number=Sing|PronType=Art\t5\tdet\t_\t_\n",
            "5\tvalorização\tvalorização\tNOUN\t_\tGender=Fem|Number=Sing\t14\tnsubj\t_\t_\n",
            "6\tde\tde\tADP\t_\t_\t7\tcase\t_\t_\n",
            "7\tcomunidades\tcomunidade\tNOUN\t_\tGender=Fem|Number=Plur\t5\tnmod\t_\t_\n",
            "8\te\te\tCCONJ\t_\t_\t9\tcc\t_\t_\n",
            "9\tpovos\tpovo\tNOUN\t_\tGender=Masc|Number=Plur\t7\tconj\t_\t_\n",
            "10\ttradicionais\ttradicional\tADJ\t_\tGender=Masc|Number=Plur\t9\tamod\t_\t_\n",
            "11-12\tno\t_\t_\t_\t_\t_\t_\t_\t_\n",
            "11\tem\tem\tADP\t_\t_\t13\tcase\t_\t_\n",
            "12\to\to\tDET\t_\tDefinite=Def|Gender=Masc|Number=Sing|PronType=Art\t13\tdet\t_\t_\n",
            "13\tBrasil\tBrasil\tPROPN\t_\tGender=Masc|Number=Sing\t5\tnmod\t_\t_\n",
            "14\trequer\trequerer\tVERB\t_\tMood=Ind|Number=Sing|Person=3|Tense=Pres|VerbForm=Fin\t0\troot\t_\t_\n",
            "15\tuma\tum\tDET\t_\tDefinite=Ind|Gender=Fem|Number=Sing|PronType=Art\t16\tdet\t_\t_\n",
            "16\tabordagem\tabordagem\tNOUN\t_\tGender=Fem|Number=Sing\t14\tobj\t_\t_\n",
            "17\tholística\tholístico\tADJ\t_\tGender=Fem|Number=Sing\t16\tamod\t_\t_\n",
            "18\tque\tque\tPRON\t_\tGender=Fem|Number=Sing|PronType=Rel\t19\tnsubj\t_\t_\n",
            "19\treconheça\treconhecer\tVERB\t_\tMood=Sub|Number=Sing|Person=3|Tense=Pres|VerbForm=Fin\t16\tacl:relcl\t_\t_\n",
            "20\tsua\tseu\tDET\t_\tGender=Fem|Number=Sing|PronType=Prs\t21\tdet\t_\t_\n",
            "21\timportância\timportância\tNOUN\t_\tGender=Fem|Number=Sing\t19\tobj\t_\t_\n",
            "22\tcultural\tcultural\tADJ\t_\tGender=Fem|Number=Sing\t21\tamod\t_\tSpaceAfter=No\n",
            "23\t,\t,\tPUNCT\t_\t_\t24\tpunct\t_\t_\n",
            "24\tsocial\tsocial\tADJ\t_\tGender=Fem|Number=Sing\t22\tconj\t_\t_\n",
            "25\te\te\tCCONJ\t_\t_\t26\tcc\t_\t_\n",
            "26\tambiental\tambiental\tADJ\t_\tGender=Fem|Number=Sing\t22\tconj\t_\tSpaceAfter=No\n",
            "27\t.\t.\tPUNCT\t_\t_\t14\tpunct\t_\t_\n",
            "\n",
            "# sent_id = 12\n",
            "# text = Para isso, é necessário que o Estado assuma o papel de agente promotor de políticas públicas inclusivas e afirmativas, que garantam o acesso dessas comunidades a direitos fundamentais como educação, saúde e terra, além de promover o respeito à sua autonomia e formas de organização social.\n",
            "1\tPara\tpara\tADP\t_\t_\t2\tcase\t_\t_\n",
            "2\tisso\tisso\tPRON\t_\tGender=Masc|Number=Sing|PronType=Dem\t5\tobl\t_\tSpaceAfter=No\n",
            "3\t,\t,\tPUNCT\t_\t_\t2\tpunct\t_\t_\n",
            "4\té\tser\tAUX\t_\tMood=Ind|Number=Sing|Person=3|Tense=Pres|VerbForm=Fin\t5\tcop\t_\t_\n",
            "5\tnecessário\tnecessário\tADJ\t_\tGender=Masc|Number=Sing\t0\troot\t_\t_\n",
            "6\tque\tque\tSCONJ\t_\t_\t9\tmark\t_\t_\n",
            "7\to\to\tDET\t_\tDefinite=Def|Gender=Masc|Number=Sing|PronType=Art\t8\tdet\t_\t_\n",
            "8\tEstado\testado\tNOUN\t_\tGender=Masc|Number=Sing\t9\tnsubj\t_\t_\n",
            "9\tassuma\tassumir\tVERB\t_\tMood=Sub|Number=Sing|Person=3|Tense=Pres|VerbForm=Fin\t5\tcsubj\t_\t_\n",
            "10\to\to\tDET\t_\tDefinite=Def|Gender=Masc|Number=Sing|PronType=Art\t11\tdet\t_\t_\n",
            "11\tpapel\tpapel\tNOUN\t_\tGender=Masc|Number=Sing\t9\tobj\t_\t_\n",
            "12\tde\tde\tADP\t_\t_\t13\tcase\t_\t_\n",
            "13\tagente\tagente\tNOUN\t_\tGender=Masc|Number=Sing\t11\tnmod\t_\t_\n",
            "14\tpromotor\tpromotor\tADJ\t_\tGender=Masc|Number=Sing\t13\tamod\t_\t_\n",
            "15\tde\tde\tADP\t_\t_\t16\tcase\t_\t_\n",
            "16\tpolíticas\tpolítica\tNOUN\t_\tGender=Fem|Number=Plur\t13\tnmod\t_\t_\n",
            "17\tpúblicas\tpúblico\tADJ\t_\tGender=Fem|Number=Plur\t16\tamod\t_\t_\n",
            "18\tinclusivas\tinclusivo\tADJ\t_\tGender=Fem|Number=Plur\t16\tamod\t_\t_\n",
            "19\te\te\tCCONJ\t_\t_\t20\tcc\t_\t_\n",
            "20\tafirmativas\tafirmativo\tADJ\t_\tGender=Fem|Number=Plur\t18\tconj\t_\tSpaceAfter=No\n",
            "21\t,\t,\tPUNCT\t_\t_\t23\tpunct\t_\t_\n",
            "22\tque\tque\tPRON\t_\tGender=Fem|Number=Plur|PronType=Rel\t23\tnsubj\t_\t_\n",
            "23\tgarantam\tgarantar\tVERB\t_\tMood=Ind|Number=Plur|Person=3|Tense=Pres|VerbForm=Fin\t16\tacl:relcl\t_\t_\n",
            "24\to\to\tDET\t_\tDefinite=Def|Gender=Masc|Number=Sing|PronType=Art\t25\tdet\t_\t_\n",
            "25\tacesso\tacesso\tNOUN\t_\tGender=Masc|Number=Sing\t23\tobj\t_\t_\n",
            "26-27\tdessas\t_\t_\t_\t_\t_\t_\t_\t_\n",
            "26\tde\tde\tADP\t_\t_\t28\tcase\t_\t_\n",
            "27\tessas\tesse\tDET\t_\tGender=Fem|Number=Plur|PronType=Dem\t28\tdet\t_\t_\n",
            "28\tcomunidades\tcomunidade\tNOUN\t_\tGender=Fem|Number=Plur\t25\tnmod\t_\t_\n",
            "29\ta\ta\tADP\t_\t_\t30\tcase\t_\t_\n",
            "30\tdireitos\tdireito\tNOUN\t_\tGender=Masc|Number=Plur\t25\tnmod\t_\t_\n",
            "31\tfundamentais\tfundamental\tADJ\t_\tGender=Masc|Number=Plur\t30\tamod\t_\t_\n",
            "32\tcomo\tcomo\tADP\t_\t_\t33\tcase\t_\t_\n",
            "33\teducação\teducação\tNOUN\t_\tGender=Fem|Number=Sing\t30\tnmod\t_\tSpaceAfter=No\n",
            "34\t,\t,\tPUNCT\t_\t_\t35\tpunct\t_\t_\n",
            "35\tsaúde\tsaúde\tNOUN\t_\tGender=Fem|Number=Sing\t33\tconj\t_\t_\n",
            "36\te\te\tCCONJ\t_\t_\t37\tcc\t_\t_\n",
            "37\tterra\tterra\tNOUN\t_\tGender=Fem|Number=Sing\t33\tconj\t_\tSpaceAfter=No\n",
            "38\t,\t,\tPUNCT\t_\t_\t41\tpunct\t_\t_\n",
            "39\talém\talém\tADV\t_\tExtPos=SCONJ\t41\tcc\t_\t_\n",
            "40\tde\tde\tADP\t_\t_\t39\tfixed\t_\t_\n",
            "41\tpromover\tpromover\tVERB\t_\tVerbForm=Inf\t23\tconj\t_\t_\n",
            "42\to\to\tDET\t_\tDefinite=Def|Gender=Masc|Number=Sing|PronType=Art\t43\tdet\t_\t_\n",
            "43\trespeito\trespeito\tNOUN\t_\tGender=Masc|Number=Sing\t41\tobj\t_\t_\n",
            "44-45\tà\t_\t_\t_\t_\t_\t_\t_\t_\n",
            "44\ta\ta\tADP\t_\t_\t47\tcase\t_\t_\n",
            "45\ta\to\tDET\t_\tDefinite=Def|Gender=Fem|Number=Sing|PronType=Art\t47\tdet\t_\t_\n",
            "46\tsua\tseu\tDET\t_\tGender=Fem|Number=Sing|PronType=Prs\t47\tdet\t_\t_\n",
            "47\tautonomia\tautonomia\tNOUN\t_\tGender=Fem|Number=Sing\t43\tnmod\t_\t_\n",
            "48\te\te\tCCONJ\t_\t_\t49\tcc\t_\t_\n",
            "49\tformas\tforma\tNOUN\t_\tGender=Fem|Number=Plur\t47\tconj\t_\t_\n",
            "50\tde\tde\tADP\t_\t_\t51\tcase\t_\t_\n",
            "51\torganização\torganização\tNOUN\t_\tGender=Fem|Number=Sing\t49\tnmod\t_\t_\n",
            "52\tsocial\tsocial\tADJ\t_\tGender=Fem|Number=Sing\t51\tamod\t_\tSpaceAfter=No\n",
            "53\t.\t.\tPUNCT\t_\t_\t5\tpunct\t_\t_\n",
            "\n",
            "# sent_id = 13\n",
            "# text = Somente através da ação conjunta de governos, sociedade civil e setor privado, em um meio de diálogo e colaboração, será possível alcançar a finalidade de construir uma sociedade mais justa e igualitária, onde todas as vozes e culturas sejam valorizadas e respeitadas.\n",
            "1\tSomente\tsomente\tADV\t_\t_\t2\tadvmod\t_\t_\n",
            "2\tatravés\tatravés\tADV\t_\t_\t25\tadvmod\t_\t_\n",
            "3-4\tda\t_\t_\t_\t_\t_\t_\t_\t_\n",
            "3\tde\tde\tADP\t_\t_\t5\tcase\t_\t_\n",
            "4\ta\to\tDET\t_\tDefinite=Def|Gender=Fem|Number=Sing|PronType=Art\t5\tdet\t_\t_\n",
            "5\tação\tação\tNOUN\t_\tGender=Fem|Number=Sing\t2\tobl\t_\t_\n",
            "6\tconjunta\tconjunto\tADJ\t_\tGender=Fem|Number=Sing\t5\tamod\t_\t_\n",
            "7\tde\tde\tADP\t_\t_\t8\tcase\t_\t_\n",
            "8\tgovernos\tgoverno\tNOUN\t_\tGender=Masc|Number=Plur\t5\tnmod\t_\tSpaceAfter=No\n",
            "9\t,\t,\tPUNCT\t_\t_\t10\tpunct\t_\t_\n",
            "10\tsociedade\tsociedade\tNOUN\t_\tExtPos=NOUN|Gender=Fem|Number=Sing\t8\tconj\t_\t_\n",
            "11\tcivil\tcivil\tADJ\t_\tGender=Fem|Number=Sing\t10\tamod\t_\t_\n",
            "12\te\te\tCCONJ\t_\t_\t13\tcc\t_\t_\n",
            "13\tsetor\tsetor\tNOUN\t_\tGender=Masc|Number=Sing\t8\tconj\t_\t_\n",
            "14\tprivado\tprivado\tADJ\t_\tGender=Masc|Number=Sing\t13\tamod\t_\tSpaceAfter=No\n",
            "15\t,\t,\tPUNCT\t_\t_\t18\tpunct\t_\t_\n",
            "16\tem\tem\tADP\t_\t_\t18\tcase\t_\t_\n",
            "17\tum\tum\tDET\t_\tDefinite=Ind|Gender=Masc|Number=Sing|PronType=Art\t18\tdet\t_\t_\n",
            "18\tmeio\tmeio\tNOUN\t_\tGender=Masc|Number=Sing\t5\tnmod\t_\t_\n",
            "19\tde\tde\tADP\t_\t_\t20\tcase\t_\t_\n",
            "20\tdiálogo\tdiálogo\tNOUN\t_\tGender=Masc|Number=Sing\t18\tnmod\t_\t_\n",
            "21\te\te\tCCONJ\t_\t_\t22\tcc\t_\t_\n",
            "22\tcolaboração\tcolaboração\tNOUN\t_\tGender=Fem|Number=Sing\t20\tconj\t_\tSpaceAfter=No\n",
            "23\t,\t,\tPUNCT\t_\t_\t18\tpunct\t_\t_\n",
            "24\tserá\tser\tAUX\t_\tMood=Ind|Number=Sing|Person=3|Tense=Fut|VerbForm=Fin\t25\tcop\t_\t_\n",
            "25\tpossível\tpossível\tADJ\t_\tGender=Masc|Number=Sing\t0\troot\t_\t_\n",
            "26\talcançar\talcançar\tVERB\t_\tVerbForm=Inf\t25\tcsubj\t_\t_\n",
            "27\ta\to\tDET\t_\tDefinite=Def|Gender=Fem|Number=Sing|PronType=Art\t28\tdet\t_\t_\n",
            "28\tfinalidade\tfinalidade\tNOUN\t_\tGender=Fem|Number=Sing\t26\tobj\t_\t_\n",
            "29\tde\tde\tSCONJ\t_\t_\t30\tmark\t_\t_\n",
            "30\tconstruir\tconstruir\tVERB\t_\tVerbForm=Inf\t28\tacl\t_\t_\n",
            "31\tuma\tum\tDET\t_\tDefinite=Ind|Gender=Fem|Number=Sing|PronType=Art\t32\tdet\t_\t_\n",
            "32\tsociedade\tsociedade\tNOUN\t_\tGender=Fem|Number=Sing\t30\tobj\t_\t_\n",
            "33\tmais\tmais\tADV\t_\t_\t34\tadvmod\t_\t_\n",
            "34\tjusta\tjusto\tADJ\t_\tGender=Fem|Number=Sing\t32\tamod\t_\t_\n",
            "35\te\te\tCCONJ\t_\t_\t36\tcc\t_\t_\n",
            "36\tigualitária\tigualitário\tADJ\t_\tGender=Fem|Number=Sing\t34\tconj\t_\tSpaceAfter=No\n",
            "37\t,\t,\tPUNCT\t_\t_\t45\tpunct\t_\t_\n",
            "38\tonde\tonde\tPRON\t_\tGender=Fem|Number=Sing|PronType=Rel\t45\tobl\t_\t_\n",
            "39\ttodas\ttodo\tDET\t_\tGender=Fem|Number=Plur|PronType=Tot\t41\tdet\t_\t_\n",
            "40\tas\to\tDET\t_\tDefinite=Def|Gender=Fem|Number=Plur|PronType=Art\t39\tfixed\t_\t_\n",
            "41\tvozes\tvoz\tNOUN\t_\tGender=Fem|Number=Plur\t45\tnsubj:pass\t_\t_\n",
            "42\te\te\tCCONJ\t_\t_\t43\tcc\t_\t_\n",
            "43\tculturas\tcultura\tNOUN\t_\tGender=Fem|Number=Plur\t41\tconj\t_\t_\n",
            "44\tsejam\tser\tAUX\t_\tMood=Sub|Number=Plur|Person=3|Tense=Pres|VerbForm=Fin\t45\taux:pass\t_\t_\n",
            "45\tvalorizadas\tvalorizar\tVERB\t_\tGender=Fem|Number=Plur|VerbForm=Part|Voice=Pass\t32\tacl:relcl\t_\t_\n",
            "46\te\te\tCCONJ\t_\t_\t47\tcc\t_\t_\n",
            "47\trespeitadas\trespeitar\tVERB\t_\tGender=Fem|Number=Plur|VerbForm=Part\t45\tconj\t_\tSpaceAfter=No\n",
            "48\t.\t.\tPUNCT\t_\t_\t25\tpunct\t_\tSpaceAfter=No\n",
            "\n",
            "\n"
          ]
        }
      ]
    },
    {
      "cell_type": "markdown",
      "source": [
        "### Parsing da árvore\n",
        "\n",
        "\"Use parse() to parse into a list of sentences\"\n"
      ],
      "metadata": {
        "id": "vLKSLfHbcw-K"
      }
    },
    {
      "cell_type": "code",
      "source": [
        "from conllu import parse\n",
        "sentences = parse(udpipe_output)\n",
        "first_sentence = sentences[0]\n",
        "print(first_sentence)"
      ],
      "metadata": {
        "colab": {
          "base_uri": "https://localhost:8080/"
        },
        "id": "IKpObwi-bsJR",
        "outputId": "25aa04aa-ba2a-4ceb-a026-b0d2e1b65c45"
      },
      "execution_count": 297,
      "outputs": [
        {
          "output_type": "stream",
          "name": "stdout",
          "text": [
            "TokenList<O, Brasil, é, uma, nação, rica, em, diversidade, cultural, ,, abrigando, uma, multiplicidade, de, comunidades, e, povos, tradicionais, que, são, essenciais, para, a, construção, da, de, a, identidade, nacional, ., metadata={generator: \"UDPipe 2, https://lindat.mff.cuni.cz/services/udpipe\", udpipe_model: \"portuguese-bosque-ud-2.12-230717\", udpipe_model_licence: \"CC BY-NC-SA\", newdoc: \"None\", newpar: \"None\", sent_id: \"1\", text: \"O Brasil é uma nação rica em diversidade cultural, abrigando uma multiplicidade de comunidades e povos tradicionais que são essenciais para a construção da identidade nacional.\"}>\n"
          ]
        }
      ]
    },
    {
      "cell_type": "code",
      "source": [
        "token = first_sentence[0]\n",
        "token"
      ],
      "metadata": {
        "colab": {
          "base_uri": "https://localhost:8080/"
        },
        "id": "a4D241secCpM",
        "outputId": "bd993b7c-c25c-4162-9806-87a26cb4761c"
      },
      "execution_count": 298,
      "outputs": [
        {
          "output_type": "execute_result",
          "data": {
            "text/plain": [
              "{'id': 1,\n",
              " 'form': 'O',\n",
              " 'lemma': 'o',\n",
              " 'upos': 'DET',\n",
              " 'xpos': None,\n",
              " 'feats': {'Definite': 'Def',\n",
              "  'Gender': 'Masc',\n",
              "  'Number': 'Sing',\n",
              "  'PronType': 'Art'},\n",
              " 'head': 2,\n",
              " 'deprel': 'det',\n",
              " 'deps': None,\n",
              " 'misc': None}"
            ]
          },
          "metadata": {},
          "execution_count": 298
        }
      ]
    },
    {
      "cell_type": "markdown",
      "source": [
        "\"You can also convert a TokenList to a TokenTree by using to_tree():\""
      ],
      "metadata": {
        "id": "KT21TH7TdQOp"
      }
    },
    {
      "cell_type": "code",
      "source": [
        "root = first_sentence.to_tree()\n",
        "root.print_tree()"
      ],
      "metadata": {
        "colab": {
          "base_uri": "https://localhost:8080/"
        },
        "id": "GwWVFekPdSAa",
        "outputId": "f010f512-4584-4f56-8173-c26bc830df09"
      },
      "execution_count": 299,
      "outputs": [
        {
          "output_type": "stream",
          "name": "stdout",
          "text": [
            "(deprel:root) form:nação lemma:nação upos:NOUN [5]\n",
            "    (deprel:nsubj) form:Brasil lemma:Brasil upos:PROPN [2]\n",
            "        (deprel:det) form:O lemma:o upos:DET [1]\n",
            "    (deprel:cop) form:é lemma:ser upos:AUX [3]\n",
            "    (deprel:det) form:uma lemma:um upos:DET [4]\n",
            "    (deprel:amod) form:rica lemma:rico upos:ADJ [6]\n",
            "        (deprel:obl) form:diversidade lemma:diversidade upos:NOUN [8]\n",
            "            (deprel:case) form:em lemma:em upos:ADP [7]\n",
            "            (deprel:amod) form:cultural lemma:cultural upos:ADJ [9]\n",
            "    (deprel:advcl) form:abrigando lemma:abrigar upos:VERB [11]\n",
            "        (deprel:punct) form:, lemma:, upos:PUNCT [10]\n",
            "        (deprel:obj) form:multiplicidade lemma:multiplicidade upos:NOUN [13]\n",
            "            (deprel:det) form:uma lemma:um upos:DET [12]\n",
            "            (deprel:nmod) form:comunidades lemma:comunidade upos:NOUN [15]\n",
            "                (deprel:case) form:de lemma:de upos:ADP [14]\n",
            "                (deprel:conj) form:povos lemma:povo upos:NOUN [17]\n",
            "                    (deprel:cc) form:e lemma:e upos:CCONJ [16]\n",
            "                    (deprel:amod) form:tradicionais lemma:tradicional upos:ADJ [18]\n",
            "                (deprel:acl:relcl) form:essenciais lemma:essencial upos:ADJ [21]\n",
            "                    (deprel:nsubj) form:que lemma:que upos:PRON [19]\n",
            "                    (deprel:cop) form:são lemma:ser upos:AUX [20]\n",
            "                    (deprel:obl) form:construção lemma:construção upos:NOUN [24]\n",
            "                        (deprel:case) form:para lemma:para upos:ADP [22]\n",
            "                        (deprel:det) form:a lemma:o upos:DET [23]\n",
            "                        (deprel:nmod) form:identidade lemma:identidade upos:NOUN [27]\n",
            "                            (deprel:case) form:de lemma:de upos:ADP [25]\n",
            "                            (deprel:det) form:a lemma:o upos:DET [26]\n",
            "                            (deprel:amod) form:nacional lemma:nacional upos:ADJ [28]\n",
            "    (deprel:punct) form:. lemma:. upos:PUNCT [29]\n"
          ]
        }
      ]
    },
    {
      "cell_type": "code",
      "source": [
        "root.children"
      ],
      "metadata": {
        "colab": {
          "base_uri": "https://localhost:8080/"
        },
        "id": "nWu29Gf3e3-I",
        "outputId": "ec50e2bf-46fe-45d7-ebbe-17cb66ff664a"
      },
      "execution_count": 300,
      "outputs": [
        {
          "output_type": "execute_result",
          "data": {
            "text/plain": [
              "[TokenTree<token={id=2, form=Brasil}, children=[...]>,\n",
              " TokenTree<token={id=3, form=é}, children=None>,\n",
              " TokenTree<token={id=4, form=uma}, children=None>,\n",
              " TokenTree<token={id=6, form=rica}, children=[...]>,\n",
              " TokenTree<token={id=11, form=abrigando}, children=[...]>,\n",
              " TokenTree<token={id=29, form=.}, children=None>]"
            ]
          },
          "metadata": {},
          "execution_count": 300
        }
      ]
    },
    {
      "cell_type": "markdown",
      "source": [
        "Cada nó conhece seus filhos, podemos encontrar a profundidade máxima da árvore"
      ],
      "metadata": {
        "id": "oSDrz4MYd2HB"
      }
    },
    {
      "cell_type": "code",
      "source": [
        "def profundidade_maxima(no):\n",
        "  # Se nó não tem filhos, ele é folha\n",
        "  if(not no.children):\n",
        "    return 0\n",
        "\n",
        "  filho_mais_fundo = max([profundidade_maxima(child) for child in no.children])\n",
        "  return 1 + filho_mais_fundo\n",
        "profundidade_maxima(root)"
      ],
      "metadata": {
        "colab": {
          "base_uri": "https://localhost:8080/"
        },
        "id": "No4odb3Od1Ez",
        "outputId": "2f724d31-0707-4c70-98d3-4687393a9601"
      },
      "execution_count": 301,
      "outputs": [
        {
          "output_type": "execute_result",
          "data": {
            "text/plain": [
              "7"
            ]
          },
          "metadata": {},
          "execution_count": 301
        }
      ]
    },
    {
      "cell_type": "markdown",
      "source": [
        "![image.png](data:image/png;base64,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)"
      ],
      "metadata": {
        "id": "cwk22lwfeoSd"
      }
    },
    {
      "cell_type": "markdown",
      "source": [
        "## Metricas\n",
        "1. Sentence: A sentence is defined as a group of words (including sentence frag-ments) punctuated with a sentence-final punctuation mark, including a peri-od, exclamation mark, question mark, and occasionally elliptical marks orclosing quotation marks.\n",
        "2. Clause: A clause is a structure with a subject and a finite verb, including inde-pendent, adjective, adverbial, and nominal clauses, but not non-finite verbphrases, which are included in the definition of verb phrases instead (Hunt1965; Polio 1997).\n",
        "3. Dependent clause: A dependent clause is defined as a finite adverbial, adjec-tive, or nominal clause (Hunt 1965; Cooper 1976; Kameen 1979).\n",
        "4. T-unit: A T-unit consists of a main clause and any dependent clause or non-clausal structure attached or embedded in it (Hunt 1970)\n",
        "5. Coordinate phrase: Coordinate adjective, adverb, noun, and verb phrases arecounted as coordinate phrases.\n",
        "6. Complex nominal: Complex nominals include (1) noun phrases with one ormore of the following pre- or post-modifiers: adjective, possessive, preposi-tional phrase, adjective clause, participle, or appositive; (2) nominal clauses,and 3) gerunds and infinitives in subject position (Cooper 1976)."
      ],
      "metadata": {
        "id": "P-xToZxsnZPF"
      }
    },
    {
      "cell_type": "markdown",
      "source": [
        "![image.png](data:image/png;base64,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)"
      ],
      "metadata": {
        "id": "QLRJ4pE2nqjS"
      }
    },
    {
      "cell_type": "markdown",
      "source": [
        "### Contando clausulas/ Syntactic Complexity\n",
        "No manual do UDPipe, é dito que o campo DEPREL é responsável por indicar a relação de cada token com a raiz, \"correspond to structural categories of the dependent\". Dentre essas relações, existem o tipo de relação \"Clauses\" https://universaldependencies.org/u/dep/index.html\n",
        "\n",
        "csubj\n",
        "ccomp\n",
        "xcomp\n",
        "advcl\n",
        "acl\n",
        "\n"
      ],
      "metadata": {
        "id": "FUOfF83rifeG"
      }
    },
    {
      "cell_type": "code",
      "source": [
        "def count_func(sentence, func):\n",
        "  return len([token for token in sentence if(func(token))])"
      ],
      "metadata": {
        "id": "1DMKJrKZvMrt"
      },
      "execution_count": 302,
      "outputs": []
    },
    {
      "cell_type": "code",
      "source": [
        "def is_clause(token):\n",
        "  for deprel in [\"csubj\",\"ccomp\",\"xcomp\",\"advcl\",\"acl\"]:\n",
        "    if deprel in token[\"deprel\"]:\n",
        "      return True\n",
        "  return False\n",
        "\n",
        "total_clauses = sum([count_func(sentence,is_clause) for sentence in sentences])\n",
        "total_clauses"
      ],
      "metadata": {
        "colab": {
          "base_uri": "https://localhost:8080/"
        },
        "id": "h3PHuzN5iX6G",
        "outputId": "d40edc52-e941-4882-d7cf-71d84edbbb58"
      },
      "execution_count": 303,
      "outputs": [
        {
          "output_type": "execute_result",
          "data": {
            "text/plain": [
              "21"
            ]
          },
          "metadata": {},
          "execution_count": 303
        }
      ]
    },
    {
      "cell_type": "code",
      "source": [
        "def is_dependent_clause(token):\n",
        "  for deprel in [\"advcl\",\"acl\"]:\n",
        "    if deprel in token[\"deprel\"]:\n",
        "      return True\n",
        "  return False\n",
        "\n",
        "total_dependent_clauses = sum([count_func(sentence,is_dependent_clause) for sentence in sentences])\n",
        "total_dependent_clauses"
      ],
      "metadata": {
        "colab": {
          "base_uri": "https://localhost:8080/"
        },
        "id": "BHGGvzt1ljJF",
        "outputId": "8b39c961-f2f7-41d8-a17a-44f02f2d12d8"
      },
      "execution_count": 304,
      "outputs": [
        {
          "output_type": "execute_result",
          "data": {
            "text/plain": [
              "14"
            ]
          },
          "metadata": {},
          "execution_count": 304
        }
      ]
    },
    {
      "cell_type": "code",
      "source": [
        "def is_Coordination(token):\n",
        "  for deprel in [\"conj\",\"cc\"]:\n",
        "    if deprel in token[\"deprel\"]:\n",
        "      return True\n",
        "  return False\n",
        "\n",
        "total_Coordinations = sum([count_func(sentence,is_Coordination) for sentence in sentences])\n",
        "total_Coordinations"
      ],
      "metadata": {
        "colab": {
          "base_uri": "https://localhost:8080/"
        },
        "id": "5PF3kneEpMKo",
        "outputId": "753dc305-fd2a-4826-ae8f-112eef62186b"
      },
      "execution_count": 305,
      "outputs": [
        {
          "output_type": "execute_result",
          "data": {
            "text/plain": [
              "44"
            ]
          },
          "metadata": {},
          "execution_count": 305
        }
      ]
    },
    {
      "cell_type": "code",
      "source": [
        "def is_T_Unit(token):\n",
        "  pass"
      ],
      "metadata": {
        "id": "A0udU7VLn--K"
      },
      "execution_count": 306,
      "outputs": []
    },
    {
      "cell_type": "code",
      "source": [
        "def count_token(sentence):\n",
        "  return len(sentence)\n",
        "\n",
        "total_tokens = sum([count_token(sentence) for sentence in sentences])\n",
        "total_tokens"
      ],
      "metadata": {
        "colab": {
          "base_uri": "https://localhost:8080/"
        },
        "id": "hRPsDUnSknoV",
        "outputId": "28cfe895-fa3b-4732-b46c-6b960807dec9"
      },
      "execution_count": 307,
      "outputs": [
        {
          "output_type": "execute_result",
          "data": {
            "text/plain": [
              "466"
            ]
          },
          "metadata": {},
          "execution_count": 307
        }
      ]
    },
    {
      "cell_type": "code",
      "source": [
        "total_sentences = len(sentences)"
      ],
      "metadata": {
        "id": "DZu8rntsple4"
      },
      "execution_count": 308,
      "outputs": []
    },
    {
      "cell_type": "code",
      "source": [
        "MLC = total_tokens/total_clauses# of words/# of clauses\n",
        "MLS = total_tokens/total_sentences# of words/# of sentences\n",
        "# # MLT # of words/# of T-units\n",
        "DCC = total_dependent_clauses/total_clauses # of dependent clauses/# of clauses\n",
        "# # DC/T # of dependent clauses/# of T-units\n",
        "CPC = total_Coordinations/total_clauses # of coordinate phrases/# of clauses\n",
        "# CPT =  # of coordinate phrases/# of T-units"
      ],
      "metadata": {
        "id": "Yvc29lnPoCjY"
      },
      "execution_count": 309,
      "outputs": []
    },
    {
      "cell_type": "code",
      "source": [
        "MLC,MLS,DCC,CPC"
      ],
      "metadata": {
        "colab": {
          "base_uri": "https://localhost:8080/"
        },
        "id": "lUu_WEgop2rX",
        "outputId": "6ec4aabd-5a51-4181-fdbf-65bcb90f2a63"
      },
      "execution_count": 310,
      "outputs": [
        {
          "output_type": "execute_result",
          "data": {
            "text/plain": [
              "(22.19047619047619, 35.84615384615385, 0.6666666666666666, 2.0952380952380953)"
            ]
          },
          "metadata": {},
          "execution_count": 310
        }
      ]
    },
    {
      "cell_type": "markdown",
      "source": [
        "### Profundidades na árvore"
      ],
      "metadata": {
        "id": "2GGzKhWvriCW"
      }
    },
    {
      "cell_type": "code",
      "source": [
        "profundidade_media = np.mean([profundidade_maxima(sentence.to_tree()) for sentence in sentences])\n",
        "profundidade_media"
      ],
      "metadata": {
        "colab": {
          "base_uri": "https://localhost:8080/"
        },
        "id": "Ys049IqKp-qH",
        "outputId": "82ff9efc-5d35-455d-b51a-059bce76d50f"
      },
      "execution_count": 311,
      "outputs": [
        {
          "output_type": "execute_result",
          "data": {
            "text/plain": [
              "6.461538461538462"
            ]
          },
          "metadata": {},
          "execution_count": 311
        }
      ]
    },
    {
      "cell_type": "code",
      "source": [
        "profundidade_max = np.max([profundidade_maxima(sentence.to_tree()) for sentence in sentences])\n",
        "profundidade_max"
      ],
      "metadata": {
        "colab": {
          "base_uri": "https://localhost:8080/"
        },
        "id": "7Xo6Du4qqK2M",
        "outputId": "2c08daf3-af98-438b-b062-70c9d842792a"
      },
      "execution_count": 312,
      "outputs": [
        {
          "output_type": "execute_result",
          "data": {
            "text/plain": [
              "11"
            ]
          },
          "metadata": {},
          "execution_count": 312
        }
      ]
    },
    {
      "cell_type": "code",
      "source": [
        "tokens = [token for sentence in sentences for token in sentence if token[\"upos\"] !=\"PUNCT\" ]"
      ],
      "metadata": {
        "id": "3venK5_gGW82"
      },
      "execution_count": 313,
      "outputs": []
    },
    {
      "cell_type": "code",
      "source": [
        "MLC,MLS,DCC,CPC,profundidade_media,profundidade_max"
      ],
      "metadata": {
        "colab": {
          "base_uri": "https://localhost:8080/"
        },
        "id": "WcPsAVsr7Pqp",
        "outputId": "b9acff6e-1389-4d5c-df01-f39a3ac014f2"
      },
      "execution_count": 314,
      "outputs": [
        {
          "output_type": "execute_result",
          "data": {
            "text/plain": [
              "(22.19047619047619,\n",
              " 35.84615384615385,\n",
              " 0.6666666666666666,\n",
              " 2.0952380952380953,\n",
              " 6.461538461538462,\n",
              " 11)"
            ]
          },
          "metadata": {},
          "execution_count": 314
        }
      ]
    },
    {
      "cell_type": "markdown",
      "source": [
        "### LEXICAL RICHNESS MEASURES\n",
        "\n",
        "multidimensional feature of a learner’s language use that consists of the following four interrelated components: lexical density, lexical sophistication, lexical variation, and number of errors in vocabulary use."
      ],
      "metadata": {
        "id": "BhTtby-Ynomb"
      }
    },
    {
      "cell_type": "markdown",
      "source": [
        "#### Lexical density,\n",
        "originally coined by Ure (1971),refers to the ratio of the number of lexical (as opposed to grammatical) words to the total number of words in a text.\n",
        "\n",
        "For this study, we defined lexical words as\n",
        "* nouns,  UPOS NOUN\n",
        "* adjectives,  UPOS ADJ\n",
        "* verbs (excluding modal verbs, auxiliary verbs, “be,” and “have”), and\n",
        "* adverbs with an adjectival base, including those that can function as both an adjective and adverb (e.g., “fast”) and those formed by attaching the –ly suffix to an adjectival root (e.g., “particularly”). https://universaldependencies.org/u/dep/advmod.html"
      ],
      "metadata": {
        "id": "-i77POGQn-pu"
      }
    },
    {
      "cell_type": "code",
      "source": [
        "def is_lexical_words(token):\n",
        "  if token[\"upos\"] in [\"NOUN\",\"ADJ\",\"VERB\"]:\n",
        "    return True\n",
        "  if \"advmod\" in token[\"deprel\"]:\n",
        "    return True\n",
        "  return False\n",
        "\n",
        "lexical_density = sum([count_func(sentence,is_lexical_words) for sentence in sentences])\n",
        "lexical_density, lexical_density/total_tokens"
      ],
      "metadata": {
        "colab": {
          "base_uri": "https://localhost:8080/"
        },
        "id": "LZ56NbvetA6P",
        "outputId": "5cda44b2-6d55-4754-bcb9-41b6ff4b8cab"
      },
      "execution_count": 315,
      "outputs": [
        {
          "output_type": "execute_result",
          "data": {
            "text/plain": [
              "(182, 0.3905579399141631)"
            ]
          },
          "metadata": {},
          "execution_count": 315
        }
      ]
    },
    {
      "cell_type": "markdown",
      "source": [
        "#### Lexical sophistication,\n",
        "\n",
        "Harley and King (1989) proposed a verb sophistication measure, which was computed as the ratio of the number of sophisticated verb types (Tsverb) to the total number of verbs (Nverb) in a text. They defined sophisticated verbs as verbs not on the list of 20 or 200 most frequent French verbs (?????)"
      ],
      "metadata": {
        "id": "c8DctLfCwEcB"
      }
    },
    {
      "cell_type": "code",
      "source": [
        "corpus_potuguese = \"https://www.wordfrequency.info/port/samples/port_40k_lemmas.txt\"\n",
        "\n",
        "r = requests.get(corpus_potuguese)\n",
        "corpus = r.text\n",
        "print(corpus[:100])\n"
      ],
      "metadata": {
        "colab": {
          "base_uri": "https://localhost:8080/"
        },
        "id": "phGw4ifL4f5w",
        "outputId": "3b3218fb-3b3c-466b-e989-51e441f3c325"
      },
      "execution_count": 316,
      "outputs": [
        {
          "output_type": "stream",
          "name": "stdout",
          "text": [
            "* This sample data (every tenth word) is taken from the one billion word \"Web/Dialects\" portion of t\n"
          ]
        }
      ]
    },
    {
      "cell_type": "code",
      "source": [
        "corpus_lines = corpus.split('\\n')[7:]"
      ],
      "metadata": {
        "id": "nx6x1ykc5tAQ"
      },
      "execution_count": 317,
      "outputs": []
    },
    {
      "cell_type": "code",
      "source": [
        "corpus_lines[0].split('\\t')"
      ],
      "metadata": {
        "colab": {
          "base_uri": "https://localhost:8080/"
        },
        "id": "C8DPuxL46Z7e",
        "outputId": "35a013fd-43e2-49ce-9d90-ebe7416f1114"
      },
      "execution_count": 318,
      "outputs": [
        {
          "output_type": "execute_result",
          "data": {
            "text/plain": [
              "['5', 'ser', 'v', '24871051', '1061007\\r']"
            ]
          },
          "metadata": {},
          "execution_count": 318
        }
      ]
    },
    {
      "cell_type": "code",
      "source": [
        "column_names = ['ID', 'lemma', 'PoS', 'freq', 'texts']\n",
        "df = pd.DataFrame([line.split('\\t') for line in corpus_lines if line.strip()], columns=column_names)\n",
        "df.head()"
      ],
      "metadata": {
        "colab": {
          "base_uri": "https://localhost:8080/",
          "height": 206
        },
        "id": "_KXGjMMn5pNA",
        "outputId": "c5f54fb0-9252-410d-9497-14e009413fb4"
      },
      "execution_count": 319,
      "outputs": [
        {
          "output_type": "execute_result",
          "data": {
            "text/plain": [
              "   ID   lemma PoS      freq      texts\n",
              "0   5     ser   v  24871051  1061007\\r\n",
              "1  15      se   p   7094640   889101\\r\n",
              "2  25   poder   v   3985432   766259\\r\n",
              "3  35    como   r   2345145   632176\\r\n",
              "4  45  quando   r   1871057   551109\\r"
            ],
            "text/html": [
              "\n",
              "  <div id=\"df-4e7e1fb2-2911-4e47-9049-57cf728de1d5\" class=\"colab-df-container\">\n",
              "    <div>\n",
              "<style scoped>\n",
              "    .dataframe tbody tr th:only-of-type {\n",
              "        vertical-align: middle;\n",
              "    }\n",
              "\n",
              "    .dataframe tbody tr th {\n",
              "        vertical-align: top;\n",
              "    }\n",
              "\n",
              "    .dataframe thead th {\n",
              "        text-align: right;\n",
              "    }\n",
              "</style>\n",
              "<table border=\"1\" class=\"dataframe\">\n",
              "  <thead>\n",
              "    <tr style=\"text-align: right;\">\n",
              "      <th></th>\n",
              "      <th>ID</th>\n",
              "      <th>lemma</th>\n",
              "      <th>PoS</th>\n",
              "      <th>freq</th>\n",
              "      <th>texts</th>\n",
              "    </tr>\n",
              "  </thead>\n",
              "  <tbody>\n",
              "    <tr>\n",
              "      <th>0</th>\n",
              "      <td>5</td>\n",
              "      <td>ser</td>\n",
              "      <td>v</td>\n",
              "      <td>24871051</td>\n",
              "      <td>1061007\\r</td>\n",
              "    </tr>\n",
              "    <tr>\n",
              "      <th>1</th>\n",
              "      <td>15</td>\n",
              "      <td>se</td>\n",
              "      <td>p</td>\n",
              "      <td>7094640</td>\n",
              "      <td>889101\\r</td>\n",
              "    </tr>\n",
              "    <tr>\n",
              "      <th>2</th>\n",
              "      <td>25</td>\n",
              "      <td>poder</td>\n",
              "      <td>v</td>\n",
              "      <td>3985432</td>\n",
              "      <td>766259\\r</td>\n",
              "    </tr>\n",
              "    <tr>\n",
              "      <th>3</th>\n",
              "      <td>35</td>\n",
              "      <td>como</td>\n",
              "      <td>r</td>\n",
              "      <td>2345145</td>\n",
              "      <td>632176\\r</td>\n",
              "    </tr>\n",
              "    <tr>\n",
              "      <th>4</th>\n",
              "      <td>45</td>\n",
              "      <td>quando</td>\n",
              "      <td>r</td>\n",
              "      <td>1871057</td>\n",
              "      <td>551109\\r</td>\n",
              "    </tr>\n",
              "  </tbody>\n",
              "</table>\n",
              "</div>\n",
              "    <div class=\"colab-df-buttons\">\n",
              "\n",
              "  <div class=\"colab-df-container\">\n",
              "    <button class=\"colab-df-convert\" onclick=\"convertToInteractive('df-4e7e1fb2-2911-4e47-9049-57cf728de1d5')\"\n",
              "            title=\"Convert this dataframe to an interactive table.\"\n",
              "            style=\"display:none;\">\n",
              "\n",
              "  <svg xmlns=\"http://www.w3.org/2000/svg\" height=\"24px\" viewBox=\"0 -960 960 960\">\n",
              "    <path d=\"M120-120v-720h720v720H120Zm60-500h600v-160H180v160Zm220 220h160v-160H400v160Zm0 220h160v-160H400v160ZM180-400h160v-160H180v160Zm440 0h160v-160H620v160ZM180-180h160v-160H180v160Zm440 0h160v-160H620v160Z\"/>\n",
              "  </svg>\n",
              "    </button>\n",
              "\n",
              "  <style>\n",
              "    .colab-df-container {\n",
              "      display:flex;\n",
              "      gap: 12px;\n",
              "    }\n",
              "\n",
              "    .colab-df-convert {\n",
              "      background-color: #E8F0FE;\n",
              "      border: none;\n",
              "      border-radius: 50%;\n",
              "      cursor: pointer;\n",
              "      display: none;\n",
              "      fill: #1967D2;\n",
              "      height: 32px;\n",
              "      padding: 0 0 0 0;\n",
              "      width: 32px;\n",
              "    }\n",
              "\n",
              "    .colab-df-convert:hover {\n",
              "      background-color: #E2EBFA;\n",
              "      box-shadow: 0px 1px 2px rgba(60, 64, 67, 0.3), 0px 1px 3px 1px rgba(60, 64, 67, 0.15);\n",
              "      fill: #174EA6;\n",
              "    }\n",
              "\n",
              "    .colab-df-buttons div {\n",
              "      margin-bottom: 4px;\n",
              "    }\n",
              "\n",
              "    [theme=dark] .colab-df-convert {\n",
              "      background-color: #3B4455;\n",
              "      fill: #D2E3FC;\n",
              "    }\n",
              "\n",
              "    [theme=dark] .colab-df-convert:hover {\n",
              "      background-color: #434B5C;\n",
              "      box-shadow: 0px 1px 3px 1px rgba(0, 0, 0, 0.15);\n",
              "      filter: drop-shadow(0px 1px 2px rgba(0, 0, 0, 0.3));\n",
              "      fill: #FFFFFF;\n",
              "    }\n",
              "  </style>\n",
              "\n",
              "    <script>\n",
              "      const buttonEl =\n",
              "        document.querySelector('#df-4e7e1fb2-2911-4e47-9049-57cf728de1d5 button.colab-df-convert');\n",
              "      buttonEl.style.display =\n",
              "        google.colab.kernel.accessAllowed ? 'block' : 'none';\n",
              "\n",
              "      async function convertToInteractive(key) {\n",
              "        const element = document.querySelector('#df-4e7e1fb2-2911-4e47-9049-57cf728de1d5');\n",
              "        const dataTable =\n",
              "          await google.colab.kernel.invokeFunction('convertToInteractive',\n",
              "                                                    [key], {});\n",
              "        if (!dataTable) return;\n",
              "\n",
              "        const docLinkHtml = 'Like what you see? Visit the ' +\n",
              "          '<a target=\"_blank\" href=https://colab.research.google.com/notebooks/data_table.ipynb>data table notebook</a>'\n",
              "          + ' to learn more about interactive tables.';\n",
              "        element.innerHTML = '';\n",
              "        dataTable['output_type'] = 'display_data';\n",
              "        await google.colab.output.renderOutput(dataTable, element);\n",
              "        const docLink = document.createElement('div');\n",
              "        docLink.innerHTML = docLinkHtml;\n",
              "        element.appendChild(docLink);\n",
              "      }\n",
              "    </script>\n",
              "  </div>\n",
              "\n",
              "\n",
              "<div id=\"df-b62c1b5c-8859-4f10-a60e-5a311abe3f0e\">\n",
              "  <button class=\"colab-df-quickchart\" onclick=\"quickchart('df-b62c1b5c-8859-4f10-a60e-5a311abe3f0e')\"\n",
              "            title=\"Suggest charts\"\n",
              "            style=\"display:none;\">\n",
              "\n",
              "<svg xmlns=\"http://www.w3.org/2000/svg\" height=\"24px\"viewBox=\"0 0 24 24\"\n",
              "     width=\"24px\">\n",
              "    <g>\n",
              "        <path d=\"M19 3H5c-1.1 0-2 .9-2 2v14c0 1.1.9 2 2 2h14c1.1 0 2-.9 2-2V5c0-1.1-.9-2-2-2zM9 17H7v-7h2v7zm4 0h-2V7h2v10zm4 0h-2v-4h2v4z\"/>\n",
              "    </g>\n",
              "</svg>\n",
              "  </button>\n",
              "\n",
              "<style>\n",
              "  .colab-df-quickchart {\n",
              "      --bg-color: #E8F0FE;\n",
              "      --fill-color: #1967D2;\n",
              "      --hover-bg-color: #E2EBFA;\n",
              "      --hover-fill-color: #174EA6;\n",
              "      --disabled-fill-color: #AAA;\n",
              "      --disabled-bg-color: #DDD;\n",
              "  }\n",
              "\n",
              "  [theme=dark] .colab-df-quickchart {\n",
              "      --bg-color: #3B4455;\n",
              "      --fill-color: #D2E3FC;\n",
              "      --hover-bg-color: #434B5C;\n",
              "      --hover-fill-color: #FFFFFF;\n",
              "      --disabled-bg-color: #3B4455;\n",
              "      --disabled-fill-color: #666;\n",
              "  }\n",
              "\n",
              "  .colab-df-quickchart {\n",
              "    background-color: var(--bg-color);\n",
              "    border: none;\n",
              "    border-radius: 50%;\n",
              "    cursor: pointer;\n",
              "    display: none;\n",
              "    fill: var(--fill-color);\n",
              "    height: 32px;\n",
              "    padding: 0;\n",
              "    width: 32px;\n",
              "  }\n",
              "\n",
              "  .colab-df-quickchart:hover {\n",
              "    background-color: var(--hover-bg-color);\n",
              "    box-shadow: 0 1px 2px rgba(60, 64, 67, 0.3), 0 1px 3px 1px rgba(60, 64, 67, 0.15);\n",
              "    fill: var(--button-hover-fill-color);\n",
              "  }\n",
              "\n",
              "  .colab-df-quickchart-complete:disabled,\n",
              "  .colab-df-quickchart-complete:disabled:hover {\n",
              "    background-color: var(--disabled-bg-color);\n",
              "    fill: var(--disabled-fill-color);\n",
              "    box-shadow: none;\n",
              "  }\n",
              "\n",
              "  .colab-df-spinner {\n",
              "    border: 2px solid var(--fill-color);\n",
              "    border-color: transparent;\n",
              "    border-bottom-color: var(--fill-color);\n",
              "    animation:\n",
              "      spin 1s steps(1) infinite;\n",
              "  }\n",
              "\n",
              "  @keyframes spin {\n",
              "    0% {\n",
              "      border-color: transparent;\n",
              "      border-bottom-color: var(--fill-color);\n",
              "      border-left-color: var(--fill-color);\n",
              "    }\n",
              "    20% {\n",
              "      border-color: transparent;\n",
              "      border-left-color: var(--fill-color);\n",
              "      border-top-color: var(--fill-color);\n",
              "    }\n",
              "    30% {\n",
              "      border-color: transparent;\n",
              "      border-left-color: var(--fill-color);\n",
              "      border-top-color: var(--fill-color);\n",
              "      border-right-color: var(--fill-color);\n",
              "    }\n",
              "    40% {\n",
              "      border-color: transparent;\n",
              "      border-right-color: var(--fill-color);\n",
              "      border-top-color: var(--fill-color);\n",
              "    }\n",
              "    60% {\n",
              "      border-color: transparent;\n",
              "      border-right-color: var(--fill-color);\n",
              "    }\n",
              "    80% {\n",
              "      border-color: transparent;\n",
              "      border-right-color: var(--fill-color);\n",
              "      border-bottom-color: var(--fill-color);\n",
              "    }\n",
              "    90% {\n",
              "      border-color: transparent;\n",
              "      border-bottom-color: var(--fill-color);\n",
              "    }\n",
              "  }\n",
              "</style>\n",
              "\n",
              "  <script>\n",
              "    async function quickchart(key) {\n",
              "      const quickchartButtonEl =\n",
              "        document.querySelector('#' + key + ' button');\n",
              "      quickchartButtonEl.disabled = true;  // To prevent multiple clicks.\n",
              "      quickchartButtonEl.classList.add('colab-df-spinner');\n",
              "      try {\n",
              "        const charts = await google.colab.kernel.invokeFunction(\n",
              "            'suggestCharts', [key], {});\n",
              "      } catch (error) {\n",
              "        console.error('Error during call to suggestCharts:', error);\n",
              "      }\n",
              "      quickchartButtonEl.classList.remove('colab-df-spinner');\n",
              "      quickchartButtonEl.classList.add('colab-df-quickchart-complete');\n",
              "    }\n",
              "    (() => {\n",
              "      let quickchartButtonEl =\n",
              "        document.querySelector('#df-b62c1b5c-8859-4f10-a60e-5a311abe3f0e button');\n",
              "      quickchartButtonEl.style.display =\n",
              "        google.colab.kernel.accessAllowed ? 'block' : 'none';\n",
              "    })();\n",
              "  </script>\n",
              "</div>\n",
              "\n",
              "    </div>\n",
              "  </div>\n"
            ],
            "application/vnd.google.colaboratory.intrinsic+json": {
              "type": "dataframe",
              "variable_name": "df",
              "summary": "{\n  \"name\": \"df\",\n  \"rows\": 3983,\n  \"fields\": [\n    {\n      \"column\": \"ID\",\n      \"properties\": {\n        \"dtype\": \"string\",\n        \"num_unique_values\": 3983,\n        \"samples\": [\n          \"4085\",\n          \"25475\",\n          \"6825\"\n        ],\n        \"semantic_type\": \"\",\n        \"description\": \"\"\n      }\n    },\n    {\n      \"column\": \"lemma\",\n      \"properties\": {\n        \"dtype\": \"string\",\n        \"num_unique_values\": 3956,\n        \"samples\": [\n          \"embora\",\n          \"cartucho\",\n          \"fragata\"\n        ],\n        \"semantic_type\": \"\",\n        \"description\": \"\"\n      }\n    },\n    {\n      \"column\": \"PoS\",\n      \"properties\": {\n        \"dtype\": \"category\",\n        \"num_unique_values\": 11,\n        \"samples\": [\n          \"j\",\n          \"v\",\n          \"l\"\n        ],\n        \"semantic_type\": \"\",\n        \"description\": \"\"\n      }\n    },\n    {\n      \"column\": \"freq\",\n      \"properties\": {\n        \"dtype\": \"string\",\n        \"num_unique_values\": 2527,\n        \"samples\": [\n          \"865\",\n          \"5143\",\n          \"41785\"\n        ],\n        \"semantic_type\": \"\",\n        \"description\": \"\"\n      }\n    },\n    {\n      \"column\": \"texts\",\n      \"properties\": {\n        \"dtype\": \"string\",\n        \"num_unique_values\": 2085,\n        \"samples\": [\n          \"1105\\r\",\n          \"1841\\r\",\n          \"46\\r\"\n        ],\n        \"semantic_type\": \"\",\n        \"description\": \"\"\n      }\n    }\n  ]\n}"
            }
          },
          "metadata": {},
          "execution_count": 319
        }
      ]
    },
    {
      "cell_type": "code",
      "source": [
        "df[\"freq\"]  = df[\"freq\"].apply(lambda x: int(x))"
      ],
      "metadata": {
        "id": "9RGnzpgx6jDe"
      },
      "execution_count": 320,
      "outputs": []
    },
    {
      "cell_type": "code",
      "source": [
        "df = df[df[\"PoS\"] == \"v\"]\n",
        "df.sort_values(by=\"freq\",inplace=True,ascending=False)\n",
        "df.head()"
      ],
      "metadata": {
        "colab": {
          "base_uri": "https://localhost:8080/",
          "height": 293
        },
        "id": "pZALOdlL5xjt",
        "outputId": "035732ad-8d89-4e7b-8fec-405b9696c293"
      },
      "execution_count": 321,
      "outputs": [
        {
          "output_type": "stream",
          "name": "stderr",
          "text": [
            "<ipython-input-321-b77919edb534>:2: SettingWithCopyWarning: \n",
            "A value is trying to be set on a copy of a slice from a DataFrame\n",
            "\n",
            "See the caveats in the documentation: https://pandas.pydata.org/pandas-docs/stable/user_guide/indexing.html#returning-a-view-versus-a-copy\n",
            "  df.sort_values(by=\"freq\",inplace=True,ascending=False)\n"
          ]
        },
        {
          "output_type": "execute_result",
          "data": {
            "text/plain": [
              "     ID   lemma PoS      freq      texts\n",
              "0     5     ser   v  24871051  1061007\\r\n",
              "2    25   poder   v   3985432   766259\\r\n",
              "14  145   criar   v    503132   254073\\r\n",
              "19  195   tomar   v    404914   199085\\r\n",
              "37  375  sofrer   v    216129   123309\\r"
            ],
            "text/html": [
              "\n",
              "  <div id=\"df-edcbdfe0-54a9-4fdc-95bd-c87194e790a9\" class=\"colab-df-container\">\n",
              "    <div>\n",
              "<style scoped>\n",
              "    .dataframe tbody tr th:only-of-type {\n",
              "        vertical-align: middle;\n",
              "    }\n",
              "\n",
              "    .dataframe tbody tr th {\n",
              "        vertical-align: top;\n",
              "    }\n",
              "\n",
              "    .dataframe thead th {\n",
              "        text-align: right;\n",
              "    }\n",
              "</style>\n",
              "<table border=\"1\" class=\"dataframe\">\n",
              "  <thead>\n",
              "    <tr style=\"text-align: right;\">\n",
              "      <th></th>\n",
              "      <th>ID</th>\n",
              "      <th>lemma</th>\n",
              "      <th>PoS</th>\n",
              "      <th>freq</th>\n",
              "      <th>texts</th>\n",
              "    </tr>\n",
              "  </thead>\n",
              "  <tbody>\n",
              "    <tr>\n",
              "      <th>0</th>\n",
              "      <td>5</td>\n",
              "      <td>ser</td>\n",
              "      <td>v</td>\n",
              "      <td>24871051</td>\n",
              "      <td>1061007\\r</td>\n",
              "    </tr>\n",
              "    <tr>\n",
              "      <th>2</th>\n",
              "      <td>25</td>\n",
              "      <td>poder</td>\n",
              "      <td>v</td>\n",
              "      <td>3985432</td>\n",
              "      <td>766259\\r</td>\n",
              "    </tr>\n",
              "    <tr>\n",
              "      <th>14</th>\n",
              "      <td>145</td>\n",
              "      <td>criar</td>\n",
              "      <td>v</td>\n",
              "      <td>503132</td>\n",
              "      <td>254073\\r</td>\n",
              "    </tr>\n",
              "    <tr>\n",
              "      <th>19</th>\n",
              "      <td>195</td>\n",
              "      <td>tomar</td>\n",
              "      <td>v</td>\n",
              "      <td>404914</td>\n",
              "      <td>199085\\r</td>\n",
              "    </tr>\n",
              "    <tr>\n",
              "      <th>37</th>\n",
              "      <td>375</td>\n",
              "      <td>sofrer</td>\n",
              "      <td>v</td>\n",
              "      <td>216129</td>\n",
              "      <td>123309\\r</td>\n",
              "    </tr>\n",
              "  </tbody>\n",
              "</table>\n",
              "</div>\n",
              "    <div class=\"colab-df-buttons\">\n",
              "\n",
              "  <div class=\"colab-df-container\">\n",
              "    <button class=\"colab-df-convert\" onclick=\"convertToInteractive('df-edcbdfe0-54a9-4fdc-95bd-c87194e790a9')\"\n",
              "            title=\"Convert this dataframe to an interactive table.\"\n",
              "            style=\"display:none;\">\n",
              "\n",
              "  <svg xmlns=\"http://www.w3.org/2000/svg\" height=\"24px\" viewBox=\"0 -960 960 960\">\n",
              "    <path d=\"M120-120v-720h720v720H120Zm60-500h600v-160H180v160Zm220 220h160v-160H400v160Zm0 220h160v-160H400v160ZM180-400h160v-160H180v160Zm440 0h160v-160H620v160ZM180-180h160v-160H180v160Zm440 0h160v-160H620v160Z\"/>\n",
              "  </svg>\n",
              "    </button>\n",
              "\n",
              "  <style>\n",
              "    .colab-df-container {\n",
              "      display:flex;\n",
              "      gap: 12px;\n",
              "    }\n",
              "\n",
              "    .colab-df-convert {\n",
              "      background-color: #E8F0FE;\n",
              "      border: none;\n",
              "      border-radius: 50%;\n",
              "      cursor: pointer;\n",
              "      display: none;\n",
              "      fill: #1967D2;\n",
              "      height: 32px;\n",
              "      padding: 0 0 0 0;\n",
              "      width: 32px;\n",
              "    }\n",
              "\n",
              "    .colab-df-convert:hover {\n",
              "      background-color: #E2EBFA;\n",
              "      box-shadow: 0px 1px 2px rgba(60, 64, 67, 0.3), 0px 1px 3px 1px rgba(60, 64, 67, 0.15);\n",
              "      fill: #174EA6;\n",
              "    }\n",
              "\n",
              "    .colab-df-buttons div {\n",
              "      margin-bottom: 4px;\n",
              "    }\n",
              "\n",
              "    [theme=dark] .colab-df-convert {\n",
              "      background-color: #3B4455;\n",
              "      fill: #D2E3FC;\n",
              "    }\n",
              "\n",
              "    [theme=dark] .colab-df-convert:hover {\n",
              "      background-color: #434B5C;\n",
              "      box-shadow: 0px 1px 3px 1px rgba(0, 0, 0, 0.15);\n",
              "      filter: drop-shadow(0px 1px 2px rgba(0, 0, 0, 0.3));\n",
              "      fill: #FFFFFF;\n",
              "    }\n",
              "  </style>\n",
              "\n",
              "    <script>\n",
              "      const buttonEl =\n",
              "        document.querySelector('#df-edcbdfe0-54a9-4fdc-95bd-c87194e790a9 button.colab-df-convert');\n",
              "      buttonEl.style.display =\n",
              "        google.colab.kernel.accessAllowed ? 'block' : 'none';\n",
              "\n",
              "      async function convertToInteractive(key) {\n",
              "        const element = document.querySelector('#df-edcbdfe0-54a9-4fdc-95bd-c87194e790a9');\n",
              "        const dataTable =\n",
              "          await google.colab.kernel.invokeFunction('convertToInteractive',\n",
              "                                                    [key], {});\n",
              "        if (!dataTable) return;\n",
              "\n",
              "        const docLinkHtml = 'Like what you see? Visit the ' +\n",
              "          '<a target=\"_blank\" href=https://colab.research.google.com/notebooks/data_table.ipynb>data table notebook</a>'\n",
              "          + ' to learn more about interactive tables.';\n",
              "        element.innerHTML = '';\n",
              "        dataTable['output_type'] = 'display_data';\n",
              "        await google.colab.output.renderOutput(dataTable, element);\n",
              "        const docLink = document.createElement('div');\n",
              "        docLink.innerHTML = docLinkHtml;\n",
              "        element.appendChild(docLink);\n",
              "      }\n",
              "    </script>\n",
              "  </div>\n",
              "\n",
              "\n",
              "<div id=\"df-59a3b56a-8716-4394-b1d0-e4f65e1f0f5c\">\n",
              "  <button class=\"colab-df-quickchart\" onclick=\"quickchart('df-59a3b56a-8716-4394-b1d0-e4f65e1f0f5c')\"\n",
              "            title=\"Suggest charts\"\n",
              "            style=\"display:none;\">\n",
              "\n",
              "<svg xmlns=\"http://www.w3.org/2000/svg\" height=\"24px\"viewBox=\"0 0 24 24\"\n",
              "     width=\"24px\">\n",
              "    <g>\n",
              "        <path d=\"M19 3H5c-1.1 0-2 .9-2 2v14c0 1.1.9 2 2 2h14c1.1 0 2-.9 2-2V5c0-1.1-.9-2-2-2zM9 17H7v-7h2v7zm4 0h-2V7h2v10zm4 0h-2v-4h2v4z\"/>\n",
              "    </g>\n",
              "</svg>\n",
              "  </button>\n",
              "\n",
              "<style>\n",
              "  .colab-df-quickchart {\n",
              "      --bg-color: #E8F0FE;\n",
              "      --fill-color: #1967D2;\n",
              "      --hover-bg-color: #E2EBFA;\n",
              "      --hover-fill-color: #174EA6;\n",
              "      --disabled-fill-color: #AAA;\n",
              "      --disabled-bg-color: #DDD;\n",
              "  }\n",
              "\n",
              "  [theme=dark] .colab-df-quickchart {\n",
              "      --bg-color: #3B4455;\n",
              "      --fill-color: #D2E3FC;\n",
              "      --hover-bg-color: #434B5C;\n",
              "      --hover-fill-color: #FFFFFF;\n",
              "      --disabled-bg-color: #3B4455;\n",
              "      --disabled-fill-color: #666;\n",
              "  }\n",
              "\n",
              "  .colab-df-quickchart {\n",
              "    background-color: var(--bg-color);\n",
              "    border: none;\n",
              "    border-radius: 50%;\n",
              "    cursor: pointer;\n",
              "    display: none;\n",
              "    fill: var(--fill-color);\n",
              "    height: 32px;\n",
              "    padding: 0;\n",
              "    width: 32px;\n",
              "  }\n",
              "\n",
              "  .colab-df-quickchart:hover {\n",
              "    background-color: var(--hover-bg-color);\n",
              "    box-shadow: 0 1px 2px rgba(60, 64, 67, 0.3), 0 1px 3px 1px rgba(60, 64, 67, 0.15);\n",
              "    fill: var(--button-hover-fill-color);\n",
              "  }\n",
              "\n",
              "  .colab-df-quickchart-complete:disabled,\n",
              "  .colab-df-quickchart-complete:disabled:hover {\n",
              "    background-color: var(--disabled-bg-color);\n",
              "    fill: var(--disabled-fill-color);\n",
              "    box-shadow: none;\n",
              "  }\n",
              "\n",
              "  .colab-df-spinner {\n",
              "    border: 2px solid var(--fill-color);\n",
              "    border-color: transparent;\n",
              "    border-bottom-color: var(--fill-color);\n",
              "    animation:\n",
              "      spin 1s steps(1) infinite;\n",
              "  }\n",
              "\n",
              "  @keyframes spin {\n",
              "    0% {\n",
              "      border-color: transparent;\n",
              "      border-bottom-color: var(--fill-color);\n",
              "      border-left-color: var(--fill-color);\n",
              "    }\n",
              "    20% {\n",
              "      border-color: transparent;\n",
              "      border-left-color: var(--fill-color);\n",
              "      border-top-color: var(--fill-color);\n",
              "    }\n",
              "    30% {\n",
              "      border-color: transparent;\n",
              "      border-left-color: var(--fill-color);\n",
              "      border-top-color: var(--fill-color);\n",
              "      border-right-color: var(--fill-color);\n",
              "    }\n",
              "    40% {\n",
              "      border-color: transparent;\n",
              "      border-right-color: var(--fill-color);\n",
              "      border-top-color: var(--fill-color);\n",
              "    }\n",
              "    60% {\n",
              "      border-color: transparent;\n",
              "      border-right-color: var(--fill-color);\n",
              "    }\n",
              "    80% {\n",
              "      border-color: transparent;\n",
              "      border-right-color: var(--fill-color);\n",
              "      border-bottom-color: var(--fill-color);\n",
              "    }\n",
              "    90% {\n",
              "      border-color: transparent;\n",
              "      border-bottom-color: var(--fill-color);\n",
              "    }\n",
              "  }\n",
              "</style>\n",
              "\n",
              "  <script>\n",
              "    async function quickchart(key) {\n",
              "      const quickchartButtonEl =\n",
              "        document.querySelector('#' + key + ' button');\n",
              "      quickchartButtonEl.disabled = true;  // To prevent multiple clicks.\n",
              "      quickchartButtonEl.classList.add('colab-df-spinner');\n",
              "      try {\n",
              "        const charts = await google.colab.kernel.invokeFunction(\n",
              "            'suggestCharts', [key], {});\n",
              "      } catch (error) {\n",
              "        console.error('Error during call to suggestCharts:', error);\n",
              "      }\n",
              "      quickchartButtonEl.classList.remove('colab-df-spinner');\n",
              "      quickchartButtonEl.classList.add('colab-df-quickchart-complete');\n",
              "    }\n",
              "    (() => {\n",
              "      let quickchartButtonEl =\n",
              "        document.querySelector('#df-59a3b56a-8716-4394-b1d0-e4f65e1f0f5c button');\n",
              "      quickchartButtonEl.style.display =\n",
              "        google.colab.kernel.accessAllowed ? 'block' : 'none';\n",
              "    })();\n",
              "  </script>\n",
              "</div>\n",
              "\n",
              "    </div>\n",
              "  </div>\n"
            ],
            "application/vnd.google.colaboratory.intrinsic+json": {
              "type": "dataframe",
              "variable_name": "df",
              "summary": "{\n  \"name\": \"df\",\n  \"rows\": 551,\n  \"fields\": [\n    {\n      \"column\": \"ID\",\n      \"properties\": {\n        \"dtype\": \"string\",\n        \"num_unique_values\": 551,\n        \"samples\": [\n          \"39195\",\n          \"4205\",\n          \"7615\"\n        ],\n        \"semantic_type\": \"\",\n        \"description\": \"\"\n      }\n    },\n    {\n      \"column\": \"lemma\",\n      \"properties\": {\n        \"dtype\": \"string\",\n        \"num_unique_values\": 551,\n        \"samples\": [\n          \"expectorar\",\n          \"derramar\",\n          \"endere\\u00e7ar\"\n        ],\n        \"semantic_type\": \"\",\n        \"description\": \"\"\n      }\n    },\n    {\n      \"column\": \"PoS\",\n      \"properties\": {\n        \"dtype\": \"category\",\n        \"num_unique_values\": 1,\n        \"samples\": [\n          \"v\"\n        ],\n        \"semantic_type\": \"\",\n        \"description\": \"\"\n      }\n    },\n    {\n      \"column\": \"freq\",\n      \"properties\": {\n        \"dtype\": \"number\",\n        \"std\": 1072857,\n        \"min\": 41,\n        \"max\": 24871051,\n        \"num_unique_values\": 501,\n        \"samples\": [\n          361\n        ],\n        \"semantic_type\": \"\",\n        \"description\": \"\"\n      }\n    },\n    {\n      \"column\": \"texts\",\n      \"properties\": {\n        \"dtype\": \"string\",\n        \"num_unique_values\": 479,\n        \"samples\": [\n          \"8340\\r\"\n        ],\n        \"semantic_type\": \"\",\n        \"description\": \"\"\n      }\n    }\n  ]\n}"
            }
          },
          "metadata": {},
          "execution_count": 321
        }
      ]
    },
    {
      "cell_type": "code",
      "source": [
        "top_200_verbs = list(df[\"lemma\"])\n",
        "len(top_200_verbs)"
      ],
      "metadata": {
        "colab": {
          "base_uri": "https://localhost:8080/"
        },
        "id": "T2LNmuxU7flj",
        "outputId": "3c3a8aca-a9ce-4cd0-da0f-a32ef187f70d"
      },
      "execution_count": 322,
      "outputs": [
        {
          "output_type": "execute_result",
          "data": {
            "text/plain": [
              "551"
            ]
          },
          "metadata": {},
          "execution_count": 322
        }
      ]
    },
    {
      "cell_type": "code",
      "source": [
        "\"ser\" in top_200_verbs"
      ],
      "metadata": {
        "colab": {
          "base_uri": "https://localhost:8080/"
        },
        "id": "SMgpdCGw7otD",
        "outputId": "79afffb3-06fd-4ec2-a46e-c9ee1a333653"
      },
      "execution_count": 323,
      "outputs": [
        {
          "output_type": "execute_result",
          "data": {
            "text/plain": [
              "True"
            ]
          },
          "metadata": {},
          "execution_count": 323
        }
      ]
    },
    {
      "cell_type": "code",
      "source": [
        "def is_sophisticated_verb(token):\n",
        "  if token[\"upos\"] != \"VERB\":\n",
        "    return False\n",
        "  if token[\"lemma\"] in top_200_verbs:\n",
        "    return False\n",
        "  return True\n",
        "\n",
        "sophisticated_verbs = sum([count_func(sentence,is_sophisticated_verb) for sentence in sentences])\n",
        "verbs = sum([count_func(sentence,lambda x: x[\"upos\"] == \"VERB\") for sentence in sentences])\n",
        "sophisticated_verbs,verbs,sophisticated_verbs/verbs"
      ],
      "metadata": {
        "colab": {
          "base_uri": "https://localhost:8080/"
        },
        "id": "kHUFNtNW8M2j",
        "outputId": "65f4b565-03ea-455a-bfa0-57475a367d3d"
      },
      "execution_count": 324,
      "outputs": [
        {
          "output_type": "execute_result",
          "data": {
            "text/plain": [
              "(29, 31, 0.9354838709677419)"
            ]
          },
          "metadata": {},
          "execution_count": 324
        }
      ]
    },
    {
      "cell_type": "code",
      "source": [
        "[token for token in tokens if (token[\"upos\"] == \"VERB\") and ( is_sophisticated_verb(token))]"
      ],
      "metadata": {
        "colab": {
          "base_uri": "https://localhost:8080/"
        },
        "id": "5nklCjEl9Jjz",
        "outputId": "998e79be-522d-4f79-fcef-f6b0687fc2bc"
      },
      "execution_count": 325,
      "outputs": [
        {
          "output_type": "execute_result",
          "data": {
            "text/plain": [
              "[{'id': 10,\n",
              "  'form': 'enfrenta',\n",
              "  'lemma': 'enfrentar',\n",
              "  'upos': 'VERB',\n",
              "  'xpos': None,\n",
              "  'feats': {'Mood': 'Ind',\n",
              "   'Number': 'Sing',\n",
              "   'Person': '3',\n",
              "   'Tense': 'Pres',\n",
              "   'VerbForm': 'Fin'},\n",
              "  'head': 0,\n",
              "  'deprel': 'root',\n",
              "  'deps': None,\n",
              "  'misc': None},\n",
              " {'id': 16,\n",
              "  'form': 'vão',\n",
              "  'lemma': 'ir',\n",
              "  'upos': 'VERB',\n",
              "  'xpos': None,\n",
              "  'feats': {'Mood': 'Ind',\n",
              "   'Number': 'Plur',\n",
              "   'Person': '3',\n",
              "   'Tense': 'Pres',\n",
              "   'VerbForm': 'Fin'},\n",
              "  'head': 14,\n",
              "  'deprel': 'acl:relcl',\n",
              "  'deps': None,\n",
              "  'misc': None},\n",
              " {'id': 27,\n",
              "  'form': 'arraigado',\n",
              "  'lemma': 'arraigar',\n",
              "  'upos': 'VERB',\n",
              "  'xpos': None,\n",
              "  'feats': {'Gender': 'Masc', 'Number': 'Sing', 'VerbForm': 'Part'},\n",
              "  'head': 26,\n",
              "  'deprel': 'acl',\n",
              "  'deps': None,\n",
              "  'misc': None},\n",
              " {'id': 2,\n",
              "  'form': 'ressalta',\n",
              "  'lemma': 'ressaltar',\n",
              "  'upos': 'VERB',\n",
              "  'xpos': None,\n",
              "  'feats': {'Mood': 'Ind',\n",
              "   'Number': 'Sing',\n",
              "   'Person': '3',\n",
              "   'Tense': 'Pres',\n",
              "   'VerbForm': 'Fin'},\n",
              "  'head': 19,\n",
              "  'deprel': 'advcl',\n",
              "  'deps': None,\n",
              "  'misc': None},\n",
              " {'id': 37,\n",
              "  'form': 'encontramos',\n",
              "  'lemma': 'encontrar',\n",
              "  'upos': 'VERB',\n",
              "  'xpos': None,\n",
              "  'feats': {'Mood': 'Ind',\n",
              "   'Number': 'Plur',\n",
              "   'Person': '1',\n",
              "   'Tense': 'Pres',\n",
              "   'VerbForm': 'Fin'},\n",
              "  'head': 19,\n",
              "  'deprel': 'conj',\n",
              "  'deps': None,\n",
              "  'misc': None},\n",
              " {'id': 45,\n",
              "  'form': 'devem',\n",
              "  'lemma': 'dever',\n",
              "  'upos': 'VERB',\n",
              "  'xpos': None,\n",
              "  'feats': {'Mood': 'Ind',\n",
              "   'Number': 'Plur',\n",
              "   'Person': '3',\n",
              "   'Tense': 'Pres',\n",
              "   'VerbForm': 'Fin'},\n",
              "  'head': 39,\n",
              "  'deprel': 'acl:relcl',\n",
              "  'deps': None,\n",
              "  'misc': None},\n",
              " {'id': 47,\n",
              "  'form': 'preservadas',\n",
              "  'lemma': 'preservar',\n",
              "  'upos': 'VERB',\n",
              "  'xpos': None,\n",
              "  'feats': {'Gender': 'Fem',\n",
              "   'Number': 'Plur',\n",
              "   'VerbForm': 'Part',\n",
              "   'Voice': 'Pass'},\n",
              "  'head': 45,\n",
              "  'deprel': 'xcomp',\n",
              "  'deps': None,\n",
              "  'misc': None},\n",
              " {'id': 49,\n",
              "  'form': 'valorizadas',\n",
              "  'lemma': 'valorizar',\n",
              "  'upos': 'VERB',\n",
              "  'xpos': None,\n",
              "  'feats': {'Gender': 'Fem', 'Number': 'Plur', 'VerbForm': 'Part'},\n",
              "  'head': 47,\n",
              "  'deprel': 'conj',\n",
              "  'deps': None,\n",
              "  'misc': {'SpaceAfter': 'No'}},\n",
              " {'id': 10,\n",
              "  'form': 'multifacetados',\n",
              "  'lemma': 'multifacetar',\n",
              "  'upos': 'VERB',\n",
              "  'xpos': None,\n",
              "  'feats': {'Gender': 'Masc',\n",
              "   'Number': 'Plur',\n",
              "   'VerbForm': 'Part',\n",
              "   'Voice': 'Pass'},\n",
              "  'head': 0,\n",
              "  'deprel': 'root',\n",
              "  'deps': None,\n",
              "  'misc': {'SpaceAfter': 'No'}},\n",
              " {'id': 5,\n",
              "  'form': 'há',\n",
              "  'lemma': 'haver',\n",
              "  'upos': 'VERB',\n",
              "  'xpos': None,\n",
              "  'feats': {'Mood': 'Ind',\n",
              "   'Number': 'Sing',\n",
              "   'Person': '3',\n",
              "   'Tense': 'Pres',\n",
              "   'VerbForm': 'Fin'},\n",
              "  'head': 0,\n",
              "  'deprel': 'root',\n",
              "  'deps': None,\n",
              "  'misc': None},\n",
              " {'id': 13,\n",
              "  'form': 'voltadas',\n",
              "  'lemma': 'voltar',\n",
              "  'upos': 'VERB',\n",
              "  'xpos': None,\n",
              "  'feats': {'Gender': 'Fem', 'Number': 'Plur', 'VerbForm': 'Part'},\n",
              "  'head': 11,\n",
              "  'deprel': 'acl',\n",
              "  'deps': None,\n",
              "  'misc': None},\n",
              " {'id': 16,\n",
              "  'form': 'destaca',\n",
              "  'lemma': 'destacar',\n",
              "  'upos': 'VERB',\n",
              "  'xpos': None,\n",
              "  'feats': {'Mood': 'Ind',\n",
              "   'Number': 'Sing',\n",
              "   'Person': '3',\n",
              "   'Tense': 'Pres',\n",
              "   'VerbForm': 'Fin'},\n",
              "  'head': 0,\n",
              "  'deprel': 'root',\n",
              "  'deps': None,\n",
              "  'misc': None},\n",
              " {'id': 9,\n",
              "  'form': 'enfrentam',\n",
              "  'lemma': 'enfrentar',\n",
              "  'upos': 'VERB',\n",
              "  'xpos': None,\n",
              "  'feats': {'Mood': 'Ind',\n",
              "   'Number': 'Plur',\n",
              "   'Person': '3',\n",
              "   'Tense': 'Pres',\n",
              "   'VerbForm': 'Fin'},\n",
              "  'head': 0,\n",
              "  'deprel': 'root',\n",
              "  'deps': None,\n",
              "  'misc': None},\n",
              " {'id': 24,\n",
              "  'form': 'ameaçada',\n",
              "  'lemma': 'ameaçar',\n",
              "  'upos': 'VERB',\n",
              "  'xpos': None,\n",
              "  'feats': {'Gender': 'Fem',\n",
              "   'Number': 'Sing',\n",
              "   'VerbForm': 'Part',\n",
              "   'Voice': 'Pass'},\n",
              "  'head': 0,\n",
              "  'deprel': 'root',\n",
              "  'deps': None,\n",
              "  'misc': None},\n",
              " {'id': 20,\n",
              "  'form': 'discute',\n",
              "  'lemma': 'discutir',\n",
              "  'upos': 'VERB',\n",
              "  'xpos': None,\n",
              "  'feats': {'Mood': 'Ind',\n",
              "   'Number': 'Sing',\n",
              "   'Person': '3',\n",
              "   'Tense': 'Pres',\n",
              "   'VerbForm': 'Fin'},\n",
              "  'head': 0,\n",
              "  'deprel': 'root',\n",
              "  'deps': None,\n",
              "  'misc': None},\n",
              " {'id': 30,\n",
              "  'form': 'alertando',\n",
              "  'lemma': 'alertar',\n",
              "  'upos': 'VERB',\n",
              "  'xpos': None,\n",
              "  'feats': {'VerbForm': 'Ger'},\n",
              "  'head': 20,\n",
              "  'deprel': 'advcl',\n",
              "  'deps': None,\n",
              "  'misc': None},\n",
              " {'id': 5,\n",
              "  'form': 'torna',\n",
              "  'lemma': 'tornar',\n",
              "  'upos': 'VERB',\n",
              "  'xpos': None,\n",
              "  'feats': {'Mood': 'Ind',\n",
              "   'Number': 'Sing',\n",
              "   'Person': '3',\n",
              "   'Tense': 'Pres',\n",
              "   'VerbForm': 'Fin'},\n",
              "  'head': 0,\n",
              "  'deprel': 'root',\n",
              "  'deps': None,\n",
              "  'misc': None},\n",
              " {'id': 8,\n",
              "  'form': 'adotar',\n",
              "  'lemma': 'adotar',\n",
              "  'upos': 'VERB',\n",
              "  'xpos': None,\n",
              "  'feats': {'VerbForm': 'Inf'},\n",
              "  'head': 5,\n",
              "  'deprel': 'xcomp',\n",
              "  'deps': None,\n",
              "  'misc': None},\n",
              " {'id': 14,\n",
              "  'form': 'respeitem',\n",
              "  'lemma': 'respeitar',\n",
              "  'upos': 'VERB',\n",
              "  'xpos': None,\n",
              "  'feats': {'Mood': 'Sub',\n",
              "   'Number': 'Plur',\n",
              "   'Person': '3',\n",
              "   'Tense': 'Pres',\n",
              "   'VerbForm': 'Fin'},\n",
              "  'head': 9,\n",
              "  'deprel': 'acl:relcl',\n",
              "  'deps': None,\n",
              "  'misc': None},\n",
              " {'id': 16,\n",
              "  'form': 'incluam',\n",
              "  'lemma': 'incluar',\n",
              "  'upos': 'VERB',\n",
              "  'xpos': None,\n",
              "  'feats': {'Mood': 'Ind',\n",
              "   'Number': 'Plur',\n",
              "   'Person': '3',\n",
              "   'Tense': 'Pres',\n",
              "   'VerbForm': 'Fin'},\n",
              "  'head': 14,\n",
              "  'deprel': 'conj',\n",
              "  'deps': None,\n",
              "  'misc': None},\n",
              " {'id': 14,\n",
              "  'form': 'requer',\n",
              "  'lemma': 'requerer',\n",
              "  'upos': 'VERB',\n",
              "  'xpos': None,\n",
              "  'feats': {'Mood': 'Ind',\n",
              "   'Number': 'Sing',\n",
              "   'Person': '3',\n",
              "   'Tense': 'Pres',\n",
              "   'VerbForm': 'Fin'},\n",
              "  'head': 0,\n",
              "  'deprel': 'root',\n",
              "  'deps': None,\n",
              "  'misc': None},\n",
              " {'id': 19,\n",
              "  'form': 'reconheça',\n",
              "  'lemma': 'reconhecer',\n",
              "  'upos': 'VERB',\n",
              "  'xpos': None,\n",
              "  'feats': {'Mood': 'Sub',\n",
              "   'Number': 'Sing',\n",
              "   'Person': '3',\n",
              "   'Tense': 'Pres',\n",
              "   'VerbForm': 'Fin'},\n",
              "  'head': 16,\n",
              "  'deprel': 'acl:relcl',\n",
              "  'deps': None,\n",
              "  'misc': None},\n",
              " {'id': 9,\n",
              "  'form': 'assuma',\n",
              "  'lemma': 'assumir',\n",
              "  'upos': 'VERB',\n",
              "  'xpos': None,\n",
              "  'feats': {'Mood': 'Sub',\n",
              "   'Number': 'Sing',\n",
              "   'Person': '3',\n",
              "   'Tense': 'Pres',\n",
              "   'VerbForm': 'Fin'},\n",
              "  'head': 5,\n",
              "  'deprel': 'csubj',\n",
              "  'deps': None,\n",
              "  'misc': None},\n",
              " {'id': 23,\n",
              "  'form': 'garantam',\n",
              "  'lemma': 'garantar',\n",
              "  'upos': 'VERB',\n",
              "  'xpos': None,\n",
              "  'feats': {'Mood': 'Ind',\n",
              "   'Number': 'Plur',\n",
              "   'Person': '3',\n",
              "   'Tense': 'Pres',\n",
              "   'VerbForm': 'Fin'},\n",
              "  'head': 16,\n",
              "  'deprel': 'acl:relcl',\n",
              "  'deps': None,\n",
              "  'misc': None},\n",
              " {'id': 41,\n",
              "  'form': 'promover',\n",
              "  'lemma': 'promover',\n",
              "  'upos': 'VERB',\n",
              "  'xpos': None,\n",
              "  'feats': {'VerbForm': 'Inf'},\n",
              "  'head': 23,\n",
              "  'deprel': 'conj',\n",
              "  'deps': None,\n",
              "  'misc': None},\n",
              " {'id': 26,\n",
              "  'form': 'alcançar',\n",
              "  'lemma': 'alcançar',\n",
              "  'upos': 'VERB',\n",
              "  'xpos': None,\n",
              "  'feats': {'VerbForm': 'Inf'},\n",
              "  'head': 25,\n",
              "  'deprel': 'csubj',\n",
              "  'deps': None,\n",
              "  'misc': None},\n",
              " {'id': 30,\n",
              "  'form': 'construir',\n",
              "  'lemma': 'construir',\n",
              "  'upos': 'VERB',\n",
              "  'xpos': None,\n",
              "  'feats': {'VerbForm': 'Inf'},\n",
              "  'head': 28,\n",
              "  'deprel': 'acl',\n",
              "  'deps': None,\n",
              "  'misc': None},\n",
              " {'id': 45,\n",
              "  'form': 'valorizadas',\n",
              "  'lemma': 'valorizar',\n",
              "  'upos': 'VERB',\n",
              "  'xpos': None,\n",
              "  'feats': {'Gender': 'Fem',\n",
              "   'Number': 'Plur',\n",
              "   'VerbForm': 'Part',\n",
              "   'Voice': 'Pass'},\n",
              "  'head': 32,\n",
              "  'deprel': 'acl:relcl',\n",
              "  'deps': None,\n",
              "  'misc': None},\n",
              " {'id': 47,\n",
              "  'form': 'respeitadas',\n",
              "  'lemma': 'respeitar',\n",
              "  'upos': 'VERB',\n",
              "  'xpos': None,\n",
              "  'feats': {'Gender': 'Fem', 'Number': 'Plur', 'VerbForm': 'Part'},\n",
              "  'head': 45,\n",
              "  'deprel': 'conj',\n",
              "  'deps': None,\n",
              "  'misc': {'SpaceAfter': 'No'}}]"
            ]
          },
          "metadata": {},
          "execution_count": 325
        }
      ]
    },
    {
      "cell_type": "markdown",
      "source": [
        "#### Lexical Variation\n",
        "Type–token ratio (TTR), that is, the ratio of the number of word types (T) to the number of words (N) in a text\n",
        "\n"
      ],
      "metadata": {
        "id": "817ZkSgVwSLe"
      }
    },
    {
      "cell_type": "code",
      "source": [
        "tokens = [token for sentence in sentences for token in sentence if token[\"upos\"] !=\"PUNCT\" ]\n",
        "types = set([token[\"form\"] for sentence in sentences for token in sentence]) # set garante unicidade\n",
        "ttr  = len(types)/len(tokens)\n",
        "ttr"
      ],
      "metadata": {
        "colab": {
          "base_uri": "https://localhost:8080/"
        },
        "id": "5idxNbZNGUqV",
        "outputId": "63ded47f-5fb3-4b6a-ba53-c8e5f4fc5610"
      },
      "execution_count": 326,
      "outputs": [
        {
          "output_type": "execute_result",
          "data": {
            "text/plain": [
              "0.5107398568019093"
            ]
          },
          "metadata": {},
          "execution_count": 326
        }
      ]
    }
  ]
}